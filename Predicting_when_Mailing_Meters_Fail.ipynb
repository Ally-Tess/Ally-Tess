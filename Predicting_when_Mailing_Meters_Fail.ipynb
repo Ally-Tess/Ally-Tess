{
  "nbformat": 4,
  "nbformat_minor": 0,
  "metadata": {
    "colab": {
      "name": "Predicting when Mailing Meters Fail",
      "provenance": [],
      "collapsed_sections": [],
      "include_colab_link": true
    },
    "kernelspec": {
      "name": "python3",
      "display_name": "Python 3"
    },
    "language_info": {
      "name": "python"
    }
  },
  "cells": [
    {
      "cell_type": "markdown",
      "metadata": {
        "id": "view-in-github",
        "colab_type": "text"
      },
      "source": [
        "<a href=\"https://colab.research.google.com/github/TammyJade/TJ/blob/main/Predicting_when_Mailing_Meters_Fail.ipynb\" target=\"_parent\"><img src=\"https://colab.research.google.com/assets/colab-badge.svg\" alt=\"Open In Colab\"/></a>"
      ]
    },
    {
      "cell_type": "markdown",
      "metadata": {
        "id": "IHiec1DBobN_"
      },
      "source": [
        "**Import library**\n"
      ]
    },
    {
      "cell_type": "code",
      "metadata": {
        "id": "gN06mD_DoOZS"
      },
      "source": [
        "# data analysis and wrangling\n",
        "import pandas as pd\n",
        "import numpy as np\n",
        "import random as rnd\n",
        "\n",
        "# visualization\n",
        "import seaborn as sns\n",
        "import matplotlib.pyplot as plt\n",
        "%matplotlib inline\n",
        "\n",
        "# machine learning\n",
        "from sklearn.linear_model import LogisticRegression\n",
        "from sklearn.svm import SVC, LinearSVC\n",
        "from sklearn.ensemble import RandomForestClassifier\n",
        "from sklearn.neighbors import KNeighborsClassifier\n",
        "from sklearn.naive_bayes import GaussianNB\n",
        "from sklearn.linear_model import Perceptron\n",
        "from sklearn.linear_model import SGDClassifier\n",
        "from sklearn.tree import DecisionTreeClassifier\n",
        "from sklearn.feature_selection import SelectKBest\n",
        "from sklearn.feature_selection import chi2"
      ],
      "execution_count": null,
      "outputs": []
    },
    {
      "cell_type": "markdown",
      "metadata": {
        "id": "0qLmDYztor61"
      },
      "source": [
        "**Acquire data**"
      ]
    },
    {
      "cell_type": "code",
      "metadata": {
        "id": "gBXc8X7co2BW"
      },
      "source": [
        "train_df = pd.read_csv('train.csv')\n",
        "test_df = pd.read_csv('test.csv')\n",
        "combine = [train_df,test_df]"
      ],
      "execution_count": null,
      "outputs": []
    },
    {
      "cell_type": "code",
      "metadata": {
        "colab": {
          "base_uri": "https://localhost:8080/",
          "height": 454
        },
        "id": "9VtpYjKTUH1l",
        "outputId": "7a1e7f34-9ca7-4792-8695-4239c569db87"
      },
      "source": [
        "train_df"
      ],
      "execution_count": null,
      "outputs": [
        {
          "output_type": "execute_result",
          "data": {
            "text/html": [
              "<div>\n",
              "<style scoped>\n",
              "    .dataframe tbody tr th:only-of-type {\n",
              "        vertical-align: middle;\n",
              "    }\n",
              "\n",
              "    .dataframe tbody tr th {\n",
              "        vertical-align: top;\n",
              "    }\n",
              "\n",
              "    .dataframe thead th {\n",
              "        text-align: right;\n",
              "    }\n",
              "</style>\n",
              "<table border=\"1\" class=\"dataframe\">\n",
              "  <thead>\n",
              "    <tr style=\"text-align: right;\">\n",
              "      <th></th>\n",
              "      <th>deviceid</th>\n",
              "      <th>avg_time_charging_lag1</th>\n",
              "      <th>avg_time_charging_lag2</th>\n",
              "      <th>avg_time_charging_lag3</th>\n",
              "      <th>avg_time_charging_lag7</th>\n",
              "      <th>charging_rate_lag3</th>\n",
              "      <th>charging_rate_lag7</th>\n",
              "      <th>avg_time_discharging_lag1</th>\n",
              "      <th>avg_time_discharging_lag2</th>\n",
              "      <th>avg_time_discharging_lag3</th>\n",
              "      <th>avg_time_discharging_lag7</th>\n",
              "      <th>discharging_rate_lag3</th>\n",
              "      <th>discharging_rate_lag7</th>\n",
              "      <th>fail_7</th>\n",
              "      <th>charge_cycle_time_below_12</th>\n",
              "      <th>avg_time_charging_lag4</th>\n",
              "      <th>avg_time_discharging_lag4</th>\n",
              "      <th>avg_time_charging_lag5</th>\n",
              "      <th>avg_time_discharging_lag5</th>\n",
              "      <th>avg_time_charging_lag6</th>\n",
              "      <th>avg_time_discharging_lag6</th>\n",
              "      <th>avg_time_charging_lag8</th>\n",
              "      <th>avg_time_discharging_lag8</th>\n",
              "      <th>avg_time_charging_lag9</th>\n",
              "      <th>avg_time_discharging_lag9</th>\n",
              "      <th>avg_time_charging_lag10</th>\n",
              "      <th>avg_time_discharging_lag10</th>\n",
              "      <th>avg_time_charging_lag11</th>\n",
              "      <th>avg_time_discharging_lag11</th>\n",
              "      <th>avg_time_charging_lag12</th>\n",
              "      <th>avg_time_discharging_lag12</th>\n",
              "      <th>avg_time_charging_lag13</th>\n",
              "      <th>avg_time_discharging_lag13</th>\n",
              "      <th>avg_time_charging_lag14</th>\n",
              "      <th>avg_time_discharging_lag14</th>\n",
              "      <th>discharging_rate_lag4</th>\n",
              "      <th>discharging_rate_lag5</th>\n",
              "      <th>discharging_rate_lag6</th>\n",
              "      <th>discharging_rate_lag8</th>\n",
              "      <th>charging_rate_lag4</th>\n",
              "      <th>charging_rate_lag5</th>\n",
              "      <th>charging_rate_lag6</th>\n",
              "      <th>chargecycles</th>\n",
              "      <th>dischargecycles</th>\n",
              "      <th>total_off_time</th>\n",
              "      <th>number_times_restart</th>\n",
              "      <th>avg_volt_change_charging</th>\n",
              "      <th>avg_volt_change_discharging</th>\n",
              "      <th>avg_time_charging</th>\n",
              "      <th>avg_time_discharging</th>\n",
              "      <th>max_voltage_day</th>\n",
              "      <th>piececount</th>\n",
              "      <th>cycle_time</th>\n",
              "      <th>LastRecord</th>\n",
              "      <th>Date Deployed</th>\n",
              "    </tr>\n",
              "  </thead>\n",
              "  <tbody>\n",
              "    <tr>\n",
              "      <th>0</th>\n",
              "      <td>28647</td>\n",
              "      <td>5.12</td>\n",
              "      <td>41.11</td>\n",
              "      <td>6.56</td>\n",
              "      <td>25.39</td>\n",
              "      <td>0.086667</td>\n",
              "      <td>-0.006667</td>\n",
              "      <td>4.37</td>\n",
              "      <td>91.70</td>\n",
              "      <td>15.70</td>\n",
              "      <td>39.12</td>\n",
              "      <td>-1.163333</td>\n",
              "      <td>0.033333</td>\n",
              "      <td>0</td>\n",
              "      <td>False</td>\n",
              "      <td>4.99</td>\n",
              "      <td>5.85</td>\n",
              "      <td>24.35</td>\n",
              "      <td>31.02</td>\n",
              "      <td>43.42</td>\n",
              "      <td>79.33</td>\n",
              "      <td>NaN</td>\n",
              "      <td>NaN</td>\n",
              "      <td>NaN</td>\n",
              "      <td>NaN</td>\n",
              "      <td>NaN</td>\n",
              "      <td>NaN</td>\n",
              "      <td>NaN</td>\n",
              "      <td>NaN</td>\n",
              "      <td>NaN</td>\n",
              "      <td>NaN</td>\n",
              "      <td>NaN</td>\n",
              "      <td>NaN</td>\n",
              "      <td>NaN</td>\n",
              "      <td>NaN</td>\n",
              "      <td>-0.360000</td>\n",
              "      <td>1.573333</td>\n",
              "      <td>0.816667</td>\n",
              "      <td>-0.173333</td>\n",
              "      <td>-0.070000</td>\n",
              "      <td>-1.603333</td>\n",
              "      <td>-0.166667</td>\n",
              "      <td>50.250000</td>\n",
              "      <td>49.750000</td>\n",
              "      <td>49.000000</td>\n",
              "      <td>2.375000</td>\n",
              "      <td>377.080000</td>\n",
              "      <td>367.428750</td>\n",
              "      <td>21.696250</td>\n",
              "      <td>39.005000</td>\n",
              "      <td>4174.875000</td>\n",
              "      <td>14.200000</td>\n",
              "      <td>60.701250</td>\n",
              "      <td>4/1/2021</td>\n",
              "      <td>10/6/2019</td>\n",
              "    </tr>\n",
              "    <tr>\n",
              "      <th>1</th>\n",
              "      <td>36175</td>\n",
              "      <td>36.60</td>\n",
              "      <td>5.16</td>\n",
              "      <td>6.23</td>\n",
              "      <td>6.96</td>\n",
              "      <td>0.136667</td>\n",
              "      <td>-1.296667</td>\n",
              "      <td>62.67</td>\n",
              "      <td>6.53</td>\n",
              "      <td>6.16</td>\n",
              "      <td>8.25</td>\n",
              "      <td>-0.066667</td>\n",
              "      <td>-2.653333</td>\n",
              "      <td>0</td>\n",
              "      <td>False</td>\n",
              "      <td>13.64</td>\n",
              "      <td>20.37</td>\n",
              "      <td>5.65</td>\n",
              "      <td>4.77</td>\n",
              "      <td>19.41</td>\n",
              "      <td>24.33</td>\n",
              "      <td>35.92</td>\n",
              "      <td>59.38</td>\n",
              "      <td>4.49</td>\n",
              "      <td>4.12</td>\n",
              "      <td>44.18</td>\n",
              "      <td>72.46</td>\n",
              "      <td>27.45</td>\n",
              "      <td>49.02</td>\n",
              "      <td>10.89</td>\n",
              "      <td>18.93</td>\n",
              "      <td>21.39</td>\n",
              "      <td>35.90</td>\n",
              "      <td>NaN</td>\n",
              "      <td>NaN</td>\n",
              "      <td>-4.593333</td>\n",
              "      <td>0.450000</td>\n",
              "      <td>-3.063333</td>\n",
              "      <td>-0.103333</td>\n",
              "      <td>0.216667</td>\n",
              "      <td>0.000000</td>\n",
              "      <td>-1.010000</td>\n",
              "      <td>56.285714</td>\n",
              "      <td>56.000000</td>\n",
              "      <td>36.857143</td>\n",
              "      <td>1.000000</td>\n",
              "      <td>350.517857</td>\n",
              "      <td>350.309286</td>\n",
              "      <td>19.883571</td>\n",
              "      <td>32.213571</td>\n",
              "      <td>4161.000000</td>\n",
              "      <td>19.777778</td>\n",
              "      <td>52.097143</td>\n",
              "      <td>4/1/2021</td>\n",
              "      <td>10/27/2019</td>\n",
              "    </tr>\n",
              "    <tr>\n",
              "      <th>2</th>\n",
              "      <td>16107</td>\n",
              "      <td>5.51</td>\n",
              "      <td>5.04</td>\n",
              "      <td>4.52</td>\n",
              "      <td>5.96</td>\n",
              "      <td>-0.460000</td>\n",
              "      <td>-0.083333</td>\n",
              "      <td>5.13</td>\n",
              "      <td>5.65</td>\n",
              "      <td>4.14</td>\n",
              "      <td>14.02</td>\n",
              "      <td>-2.643333</td>\n",
              "      <td>0.686667</td>\n",
              "      <td>0</td>\n",
              "      <td>False</td>\n",
              "      <td>25.01</td>\n",
              "      <td>40.69</td>\n",
              "      <td>6.03</td>\n",
              "      <td>6.06</td>\n",
              "      <td>5.72</td>\n",
              "      <td>5.73</td>\n",
              "      <td>22.46</td>\n",
              "      <td>31.82</td>\n",
              "      <td>33.92</td>\n",
              "      <td>58.87</td>\n",
              "      <td>45.87</td>\n",
              "      <td>76.36</td>\n",
              "      <td>5.78</td>\n",
              "      <td>6.23</td>\n",
              "      <td>5.13</td>\n",
              "      <td>4.37</td>\n",
              "      <td>4.73</td>\n",
              "      <td>3.50</td>\n",
              "      <td>26.79</td>\n",
              "      <td>41.29</td>\n",
              "      <td>-0.050000</td>\n",
              "      <td>0.240000</td>\n",
              "      <td>0.000000</td>\n",
              "      <td>0.216667</td>\n",
              "      <td>-0.026667</td>\n",
              "      <td>0.000000</td>\n",
              "      <td>-0.013333</td>\n",
              "      <td>80.380952</td>\n",
              "      <td>80.333333</td>\n",
              "      <td>2.333333</td>\n",
              "      <td>4.095238</td>\n",
              "      <td>346.113333</td>\n",
              "      <td>343.409524</td>\n",
              "      <td>13.675238</td>\n",
              "      <td>20.471429</td>\n",
              "      <td>4152.238095</td>\n",
              "      <td>19.200000</td>\n",
              "      <td>34.146667</td>\n",
              "      <td>4/1/2021</td>\n",
              "      <td>10/31/2019</td>\n",
              "    </tr>\n",
              "    <tr>\n",
              "      <th>3</th>\n",
              "      <td>27362</td>\n",
              "      <td>4.66</td>\n",
              "      <td>39.85</td>\n",
              "      <td>35.76</td>\n",
              "      <td>40.69</td>\n",
              "      <td>0.076667</td>\n",
              "      <td>-0.006667</td>\n",
              "      <td>3.93</td>\n",
              "      <td>76.37</td>\n",
              "      <td>60.86</td>\n",
              "      <td>73.53</td>\n",
              "      <td>-0.166667</td>\n",
              "      <td>0.033333</td>\n",
              "      <td>0</td>\n",
              "      <td>False</td>\n",
              "      <td>4.71</td>\n",
              "      <td>3.74</td>\n",
              "      <td>4.74</td>\n",
              "      <td>3.73</td>\n",
              "      <td>24.01</td>\n",
              "      <td>52.99</td>\n",
              "      <td>5.09</td>\n",
              "      <td>5.32</td>\n",
              "      <td>4.45</td>\n",
              "      <td>4.22</td>\n",
              "      <td>22.14</td>\n",
              "      <td>30.51</td>\n",
              "      <td>4.39</td>\n",
              "      <td>4.15</td>\n",
              "      <td>4.71</td>\n",
              "      <td>3.82</td>\n",
              "      <td>13.27</td>\n",
              "      <td>18.62</td>\n",
              "      <td>4.97</td>\n",
              "      <td>4.16</td>\n",
              "      <td>0.013333</td>\n",
              "      <td>0.406667</td>\n",
              "      <td>-0.293333</td>\n",
              "      <td>-0.046667</td>\n",
              "      <td>-0.030000</td>\n",
              "      <td>0.460000</td>\n",
              "      <td>1.340000</td>\n",
              "      <td>91.736842</td>\n",
              "      <td>91.684211</td>\n",
              "      <td>10.789474</td>\n",
              "      <td>0.736842</td>\n",
              "      <td>356.184211</td>\n",
              "      <td>349.844737</td>\n",
              "      <td>16.306842</td>\n",
              "      <td>26.189474</td>\n",
              "      <td>4164.631579</td>\n",
              "      <td>23.625000</td>\n",
              "      <td>42.496316</td>\n",
              "      <td>4/1/2021</td>\n",
              "      <td>10/1/2019</td>\n",
              "    </tr>\n",
              "    <tr>\n",
              "      <th>4</th>\n",
              "      <td>19463</td>\n",
              "      <td>5.10</td>\n",
              "      <td>43.24</td>\n",
              "      <td>4.63</td>\n",
              "      <td>5.26</td>\n",
              "      <td>0.040000</td>\n",
              "      <td>-0.153333</td>\n",
              "      <td>4.69</td>\n",
              "      <td>71.44</td>\n",
              "      <td>3.80</td>\n",
              "      <td>6.29</td>\n",
              "      <td>0.066667</td>\n",
              "      <td>-1.030000</td>\n",
              "      <td>0</td>\n",
              "      <td>True</td>\n",
              "      <td>40.36</td>\n",
              "      <td>82.70</td>\n",
              "      <td>15.47</td>\n",
              "      <td>24.21</td>\n",
              "      <td>45.64</td>\n",
              "      <td>76.42</td>\n",
              "      <td>26.63</td>\n",
              "      <td>45.04</td>\n",
              "      <td>27.99</td>\n",
              "      <td>40.57</td>\n",
              "      <td>5.01</td>\n",
              "      <td>6.52</td>\n",
              "      <td>5.47</td>\n",
              "      <td>4.64</td>\n",
              "      <td>5.28</td>\n",
              "      <td>5.16</td>\n",
              "      <td>25.10</td>\n",
              "      <td>47.76</td>\n",
              "      <td>21.62</td>\n",
              "      <td>37.29</td>\n",
              "      <td>-0.353333</td>\n",
              "      <td>0.983333</td>\n",
              "      <td>-0.006667</td>\n",
              "      <td>-1.790000</td>\n",
              "      <td>0.016667</td>\n",
              "      <td>1.606667</td>\n",
              "      <td>0.013333</td>\n",
              "      <td>71.066667</td>\n",
              "      <td>70.733333</td>\n",
              "      <td>14.266667</td>\n",
              "      <td>1.133333</td>\n",
              "      <td>370.904000</td>\n",
              "      <td>367.730000</td>\n",
              "      <td>18.797333</td>\n",
              "      <td>30.812000</td>\n",
              "      <td>4169.800000</td>\n",
              "      <td>12.666667</td>\n",
              "      <td>49.609333</td>\n",
              "      <td>4/1/2021</td>\n",
              "      <td>9/13/2019</td>\n",
              "    </tr>\n",
              "    <tr>\n",
              "      <th>...</th>\n",
              "      <td>...</td>\n",
              "      <td>...</td>\n",
              "      <td>...</td>\n",
              "      <td>...</td>\n",
              "      <td>...</td>\n",
              "      <td>...</td>\n",
              "      <td>...</td>\n",
              "      <td>...</td>\n",
              "      <td>...</td>\n",
              "      <td>...</td>\n",
              "      <td>...</td>\n",
              "      <td>...</td>\n",
              "      <td>...</td>\n",
              "      <td>...</td>\n",
              "      <td>...</td>\n",
              "      <td>...</td>\n",
              "      <td>...</td>\n",
              "      <td>...</td>\n",
              "      <td>...</td>\n",
              "      <td>...</td>\n",
              "      <td>...</td>\n",
              "      <td>...</td>\n",
              "      <td>...</td>\n",
              "      <td>...</td>\n",
              "      <td>...</td>\n",
              "      <td>...</td>\n",
              "      <td>...</td>\n",
              "      <td>...</td>\n",
              "      <td>...</td>\n",
              "      <td>...</td>\n",
              "      <td>...</td>\n",
              "      <td>...</td>\n",
              "      <td>...</td>\n",
              "      <td>...</td>\n",
              "      <td>...</td>\n",
              "      <td>...</td>\n",
              "      <td>...</td>\n",
              "      <td>...</td>\n",
              "      <td>...</td>\n",
              "      <td>...</td>\n",
              "      <td>...</td>\n",
              "      <td>...</td>\n",
              "      <td>...</td>\n",
              "      <td>...</td>\n",
              "      <td>...</td>\n",
              "      <td>...</td>\n",
              "      <td>...</td>\n",
              "      <td>...</td>\n",
              "      <td>...</td>\n",
              "      <td>...</td>\n",
              "      <td>...</td>\n",
              "      <td>...</td>\n",
              "      <td>...</td>\n",
              "      <td>...</td>\n",
              "      <td>...</td>\n",
              "    </tr>\n",
              "    <tr>\n",
              "      <th>5207</th>\n",
              "      <td>26115</td>\n",
              "      <td>4.93</td>\n",
              "      <td>43.73</td>\n",
              "      <td>4.88</td>\n",
              "      <td>4.96</td>\n",
              "      <td>0.003333</td>\n",
              "      <td>-0.116667</td>\n",
              "      <td>4.84</td>\n",
              "      <td>78.84</td>\n",
              "      <td>3.49</td>\n",
              "      <td>3.43</td>\n",
              "      <td>0.036667</td>\n",
              "      <td>0.143333</td>\n",
              "      <td>1</td>\n",
              "      <td>True</td>\n",
              "      <td>4.37</td>\n",
              "      <td>4.70</td>\n",
              "      <td>5.08</td>\n",
              "      <td>5.12</td>\n",
              "      <td>16.72</td>\n",
              "      <td>21.08</td>\n",
              "      <td>27.87</td>\n",
              "      <td>52.15</td>\n",
              "      <td>33.16</td>\n",
              "      <td>57.94</td>\n",
              "      <td>4.95</td>\n",
              "      <td>3.25</td>\n",
              "      <td>4.71</td>\n",
              "      <td>3.63</td>\n",
              "      <td>NaN</td>\n",
              "      <td>NaN</td>\n",
              "      <td>NaN</td>\n",
              "      <td>NaN</td>\n",
              "      <td>NaN</td>\n",
              "      <td>NaN</td>\n",
              "      <td>0.250000</td>\n",
              "      <td>-3.530000</td>\n",
              "      <td>0.016667</td>\n",
              "      <td>-0.283333</td>\n",
              "      <td>0.016667</td>\n",
              "      <td>0.323333</td>\n",
              "      <td>0.000000</td>\n",
              "      <td>85.333333</td>\n",
              "      <td>85.416667</td>\n",
              "      <td>60.166667</td>\n",
              "      <td>0.583333</td>\n",
              "      <td>370.822500</td>\n",
              "      <td>368.395000</td>\n",
              "      <td>13.363333</td>\n",
              "      <td>20.166667</td>\n",
              "      <td>4176.500000</td>\n",
              "      <td>19.500000</td>\n",
              "      <td>33.530000</td>\n",
              "      <td>4/1/2021</td>\n",
              "      <td>9/17/2019</td>\n",
              "    </tr>\n",
              "    <tr>\n",
              "      <th>5208</th>\n",
              "      <td>29793</td>\n",
              "      <td>4.50</td>\n",
              "      <td>26.15</td>\n",
              "      <td>20.80</td>\n",
              "      <td>39.00</td>\n",
              "      <td>-0.240000</td>\n",
              "      <td>-0.260000</td>\n",
              "      <td>3.97</td>\n",
              "      <td>56.58</td>\n",
              "      <td>35.19</td>\n",
              "      <td>77.19</td>\n",
              "      <td>-1.033333</td>\n",
              "      <td>0.760000</td>\n",
              "      <td>0</td>\n",
              "      <td>False</td>\n",
              "      <td>28.03</td>\n",
              "      <td>50.29</td>\n",
              "      <td>4.63</td>\n",
              "      <td>4.01</td>\n",
              "      <td>36.05</td>\n",
              "      <td>72.18</td>\n",
              "      <td>4.70</td>\n",
              "      <td>4.40</td>\n",
              "      <td>22.85</td>\n",
              "      <td>32.97</td>\n",
              "      <td>35.77</td>\n",
              "      <td>61.80</td>\n",
              "      <td>6.21</td>\n",
              "      <td>4.30</td>\n",
              "      <td>4.68</td>\n",
              "      <td>4.30</td>\n",
              "      <td>5.16</td>\n",
              "      <td>5.09</td>\n",
              "      <td>41.53</td>\n",
              "      <td>66.85</td>\n",
              "      <td>0.016667</td>\n",
              "      <td>-0.143333</td>\n",
              "      <td>-0.166667</td>\n",
              "      <td>0.023333</td>\n",
              "      <td>-0.006667</td>\n",
              "      <td>-0.323333</td>\n",
              "      <td>0.260000</td>\n",
              "      <td>81.875000</td>\n",
              "      <td>81.312500</td>\n",
              "      <td>25.375000</td>\n",
              "      <td>2.562500</td>\n",
              "      <td>342.318750</td>\n",
              "      <td>336.403125</td>\n",
              "      <td>18.248750</td>\n",
              "      <td>30.627500</td>\n",
              "      <td>4150.875000</td>\n",
              "      <td>13.000000</td>\n",
              "      <td>48.876250</td>\n",
              "      <td>4/1/2021</td>\n",
              "      <td>9/14/2019</td>\n",
              "    </tr>\n",
              "    <tr>\n",
              "      <th>5209</th>\n",
              "      <td>49101</td>\n",
              "      <td>5.06</td>\n",
              "      <td>4.48</td>\n",
              "      <td>5.47</td>\n",
              "      <td>4.72</td>\n",
              "      <td>-0.183333</td>\n",
              "      <td>0.216667</td>\n",
              "      <td>4.07</td>\n",
              "      <td>4.16</td>\n",
              "      <td>6.20</td>\n",
              "      <td>4.09</td>\n",
              "      <td>0.126667</td>\n",
              "      <td>1.946667</td>\n",
              "      <td>0</td>\n",
              "      <td>False</td>\n",
              "      <td>43.08</td>\n",
              "      <td>79.92</td>\n",
              "      <td>40.68</td>\n",
              "      <td>85.11</td>\n",
              "      <td>5.02</td>\n",
              "      <td>3.39</td>\n",
              "      <td>5.20</td>\n",
              "      <td>4.33</td>\n",
              "      <td>4.54</td>\n",
              "      <td>4.23</td>\n",
              "      <td>10.03</td>\n",
              "      <td>21.25</td>\n",
              "      <td>4.60</td>\n",
              "      <td>4.00</td>\n",
              "      <td>NaN</td>\n",
              "      <td>NaN</td>\n",
              "      <td>NaN</td>\n",
              "      <td>NaN</td>\n",
              "      <td>NaN</td>\n",
              "      <td>NaN</td>\n",
              "      <td>0.090000</td>\n",
              "      <td>0.013333</td>\n",
              "      <td>0.056667</td>\n",
              "      <td>2.733333</td>\n",
              "      <td>0.033333</td>\n",
              "      <td>-0.043333</td>\n",
              "      <td>-0.100000</td>\n",
              "      <td>105.000000</td>\n",
              "      <td>104.750000</td>\n",
              "      <td>70.083333</td>\n",
              "      <td>4.916667</td>\n",
              "      <td>333.296667</td>\n",
              "      <td>329.558333</td>\n",
              "      <td>11.542500</td>\n",
              "      <td>18.958333</td>\n",
              "      <td>4146.666667</td>\n",
              "      <td>18.571429</td>\n",
              "      <td>30.500833</td>\n",
              "      <td>4/1/2021</td>\n",
              "      <td>9/1/2019</td>\n",
              "    </tr>\n",
              "    <tr>\n",
              "      <th>5210</th>\n",
              "      <td>39994</td>\n",
              "      <td>4.66</td>\n",
              "      <td>47.55</td>\n",
              "      <td>4.55</td>\n",
              "      <td>5.00</td>\n",
              "      <td>0.003333</td>\n",
              "      <td>0.006667</td>\n",
              "      <td>4.18</td>\n",
              "      <td>79.39</td>\n",
              "      <td>4.01</td>\n",
              "      <td>3.41</td>\n",
              "      <td>0.000000</td>\n",
              "      <td>-0.013333</td>\n",
              "      <td>0</td>\n",
              "      <td>True</td>\n",
              "      <td>5.02</td>\n",
              "      <td>3.29</td>\n",
              "      <td>4.80</td>\n",
              "      <td>3.79</td>\n",
              "      <td>43.63</td>\n",
              "      <td>99.51</td>\n",
              "      <td>4.46</td>\n",
              "      <td>4.21</td>\n",
              "      <td>4.74</td>\n",
              "      <td>3.68</td>\n",
              "      <td>15.27</td>\n",
              "      <td>25.16</td>\n",
              "      <td>4.57</td>\n",
              "      <td>4.01</td>\n",
              "      <td>4.89</td>\n",
              "      <td>3.69</td>\n",
              "      <td>39.71</td>\n",
              "      <td>78.35</td>\n",
              "      <td>29.99</td>\n",
              "      <td>46.93</td>\n",
              "      <td>0.016667</td>\n",
              "      <td>-1.416667</td>\n",
              "      <td>-0.003333</td>\n",
              "      <td>0.043333</td>\n",
              "      <td>0.010000</td>\n",
              "      <td>0.910000</td>\n",
              "      <td>0.000000</td>\n",
              "      <td>102.470588</td>\n",
              "      <td>102.176471</td>\n",
              "      <td>0.352941</td>\n",
              "      <td>0.882353</td>\n",
              "      <td>339.438824</td>\n",
              "      <td>334.958235</td>\n",
              "      <td>15.154706</td>\n",
              "      <td>25.332353</td>\n",
              "      <td>4151.294118</td>\n",
              "      <td>21.500000</td>\n",
              "      <td>40.487059</td>\n",
              "      <td>4/1/2021</td>\n",
              "      <td>11/26/2019</td>\n",
              "    </tr>\n",
              "    <tr>\n",
              "      <th>5211</th>\n",
              "      <td>6024</td>\n",
              "      <td>40.51</td>\n",
              "      <td>5.78</td>\n",
              "      <td>4.59</td>\n",
              "      <td>4.52</td>\n",
              "      <td>0.033333</td>\n",
              "      <td>0.016667</td>\n",
              "      <td>52.67</td>\n",
              "      <td>6.56</td>\n",
              "      <td>3.81</td>\n",
              "      <td>4.13</td>\n",
              "      <td>0.650000</td>\n",
              "      <td>-0.026667</td>\n",
              "      <td>0</td>\n",
              "      <td>True</td>\n",
              "      <td>4.55</td>\n",
              "      <td>3.98</td>\n",
              "      <td>4.96</td>\n",
              "      <td>4.75</td>\n",
              "      <td>43.35</td>\n",
              "      <td>82.55</td>\n",
              "      <td>4.44</td>\n",
              "      <td>4.01</td>\n",
              "      <td>4.82</td>\n",
              "      <td>6.39</td>\n",
              "      <td>5.03</td>\n",
              "      <td>3.78</td>\n",
              "      <td>NaN</td>\n",
              "      <td>NaN</td>\n",
              "      <td>NaN</td>\n",
              "      <td>NaN</td>\n",
              "      <td>NaN</td>\n",
              "      <td>NaN</td>\n",
              "      <td>NaN</td>\n",
              "      <td>NaN</td>\n",
              "      <td>NaN</td>\n",
              "      <td>NaN</td>\n",
              "      <td>NaN</td>\n",
              "      <td>NaN</td>\n",
              "      <td>NaN</td>\n",
              "      <td>NaN</td>\n",
              "      <td>NaN</td>\n",
              "      <td>NaN</td>\n",
              "      <td>NaN</td>\n",
              "      <td>NaN</td>\n",
              "      <td>NaN</td>\n",
              "      <td>NaN</td>\n",
              "      <td>NaN</td>\n",
              "      <td>NaN</td>\n",
              "      <td>NaN</td>\n",
              "      <td>NaN</td>\n",
              "      <td>NaN</td>\n",
              "      <td>NaN</td>\n",
              "      <td>NaN</td>\n",
              "      <td>NaN</td>\n",
              "    </tr>\n",
              "  </tbody>\n",
              "</table>\n",
              "<p>5212 rows × 55 columns</p>\n",
              "</div>"
            ],
            "text/plain": [
              "      deviceid  avg_time_charging_lag1  ...  LastRecord  Date Deployed\n",
              "0        28647                    5.12  ...    4/1/2021      10/6/2019\n",
              "1        36175                   36.60  ...    4/1/2021     10/27/2019\n",
              "2        16107                    5.51  ...    4/1/2021     10/31/2019\n",
              "3        27362                    4.66  ...    4/1/2021      10/1/2019\n",
              "4        19463                    5.10  ...    4/1/2021      9/13/2019\n",
              "...        ...                     ...  ...         ...            ...\n",
              "5207     26115                    4.93  ...    4/1/2021      9/17/2019\n",
              "5208     29793                    4.50  ...    4/1/2021      9/14/2019\n",
              "5209     49101                    5.06  ...    4/1/2021       9/1/2019\n",
              "5210     39994                    4.66  ...    4/1/2021     11/26/2019\n",
              "5211      6024                   40.51  ...         NaN            NaN\n",
              "\n",
              "[5212 rows x 55 columns]"
            ]
          },
          "metadata": {
            "tags": []
          },
          "execution_count": 5
        }
      ]
    },
    {
      "cell_type": "markdown",
      "metadata": {
        "id": "gaVM1F0To-Rj"
      },
      "source": [
        "**Cleaning data**"
      ]
    },
    {
      "cell_type": "code",
      "metadata": {
        "colab": {
          "base_uri": "https://localhost:8080/"
        },
        "id": "J-6QkZ7vo6Tm",
        "outputId": "0b524fb9-8151-492c-adb3-cf9377cc27c1"
      },
      "source": [
        "# shape and data types of the data\n",
        "print(train_df.shape)\n",
        "print(train_df.dtypes)\n"
      ],
      "execution_count": null,
      "outputs": [
        {
          "output_type": "stream",
          "text": [
            "(40500, 55)\n",
            "deviceid                         int64\n",
            "avg_time_charging_lag1         float64\n",
            "avg_time_charging_lag2         float64\n",
            "avg_time_charging_lag3         float64\n",
            "avg_time_charging_lag7         float64\n",
            "charging_rate_lag3             float64\n",
            "charging_rate_lag7             float64\n",
            "avg_time_discharging_lag1      float64\n",
            "avg_time_discharging_lag2      float64\n",
            "avg_time_discharging_lag3      float64\n",
            "avg_time_discharging_lag7      float64\n",
            "discharging_rate_lag3          float64\n",
            "discharging_rate_lag7          float64\n",
            "fail_7                           int64\n",
            "charge_cycle_time_below_12        bool\n",
            "avg_time_charging_lag4         float64\n",
            "avg_time_discharging_lag4      float64\n",
            "avg_time_charging_lag5         float64\n",
            "avg_time_discharging_lag5      float64\n",
            "avg_time_charging_lag6         float64\n",
            "avg_time_discharging_lag6      float64\n",
            "avg_time_charging_lag8         float64\n",
            "avg_time_discharging_lag8      float64\n",
            "avg_time_charging_lag9         float64\n",
            "avg_time_discharging_lag9      float64\n",
            "avg_time_charging_lag10        float64\n",
            "avg_time_discharging_lag10     float64\n",
            "avg_time_charging_lag11        float64\n",
            "avg_time_discharging_lag11     float64\n",
            "avg_time_charging_lag12        float64\n",
            "avg_time_discharging_lag12     float64\n",
            "avg_time_charging_lag13        float64\n",
            "avg_time_discharging_lag13     float64\n",
            "avg_time_charging_lag14        float64\n",
            "avg_time_discharging_lag14     float64\n",
            "discharging_rate_lag4          float64\n",
            "discharging_rate_lag5          float64\n",
            "discharging_rate_lag6          float64\n",
            "discharging_rate_lag8          float64\n",
            "charging_rate_lag4             float64\n",
            "charging_rate_lag5             float64\n",
            "charging_rate_lag6             float64\n",
            "chargecycles                   float64\n",
            "dischargecycles                float64\n",
            "total_off_time                 float64\n",
            "number_times_restart           float64\n",
            "avg_volt_change_charging       float64\n",
            "avg_volt_change_discharging    float64\n",
            "avg_time_charging              float64\n",
            "avg_time_discharging           float64\n",
            "max_voltage_day                float64\n",
            "piececount                     float64\n",
            "cycle_time                     float64\n",
            "LastRecord                      object\n",
            "Date Deployed                   object\n",
            "dtype: object\n"
          ],
          "name": "stdout"
        }
      ]
    },
    {
      "cell_type": "code",
      "metadata": {
        "colab": {
          "base_uri": "https://localhost:8080/"
        },
        "id": "FoREm3qOsJR8",
        "outputId": "0c511e2d-6765-48a9-fbe9-8eeed1066501"
      },
      "source": [
        "print(test_df.shape)\n",
        "print(test_df.dtypes)"
      ],
      "execution_count": null,
      "outputs": [
        {
          "output_type": "stream",
          "text": [
            "(4500, 54)\n",
            "deviceid                         int64\n",
            "avg_time_charging_lag1         float64\n",
            "avg_time_charging_lag2         float64\n",
            "avg_time_charging_lag3         float64\n",
            "avg_time_charging_lag7         float64\n",
            "charging_rate_lag3             float64\n",
            "charging_rate_lag7             float64\n",
            "avg_time_discharging_lag1      float64\n",
            "avg_time_discharging_lag2      float64\n",
            "avg_time_discharging_lag3      float64\n",
            "avg_time_discharging_lag7      float64\n",
            "discharging_rate_lag3          float64\n",
            "discharging_rate_lag7          float64\n",
            "charge_cycle_time_below_12        bool\n",
            "avg_time_charging_lag4         float64\n",
            "avg_time_discharging_lag4      float64\n",
            "avg_time_charging_lag5         float64\n",
            "avg_time_discharging_lag5      float64\n",
            "avg_time_charging_lag6         float64\n",
            "avg_time_discharging_lag6      float64\n",
            "avg_time_charging_lag8         float64\n",
            "avg_time_discharging_lag8      float64\n",
            "avg_time_charging_lag9         float64\n",
            "avg_time_discharging_lag9      float64\n",
            "avg_time_charging_lag10        float64\n",
            "avg_time_discharging_lag10     float64\n",
            "avg_time_charging_lag11        float64\n",
            "avg_time_discharging_lag11     float64\n",
            "avg_time_charging_lag12        float64\n",
            "avg_time_discharging_lag12     float64\n",
            "avg_time_charging_lag13        float64\n",
            "avg_time_discharging_lag13     float64\n",
            "avg_time_charging_lag14        float64\n",
            "avg_time_discharging_lag14     float64\n",
            "discharging_rate_lag4          float64\n",
            "discharging_rate_lag5          float64\n",
            "discharging_rate_lag6          float64\n",
            "discharging_rate_lag8          float64\n",
            "charging_rate_lag4             float64\n",
            "charging_rate_lag5             float64\n",
            "charging_rate_lag6             float64\n",
            "chargecycles                   float64\n",
            "dischargecycles                float64\n",
            "total_off_time                 float64\n",
            "number_times_restart           float64\n",
            "avg_volt_change_charging       float64\n",
            "avg_volt_change_discharging    float64\n",
            "avg_time_charging              float64\n",
            "avg_time_discharging           float64\n",
            "max_voltage_day                float64\n",
            "piececount                     float64\n",
            "cycle_time                     float64\n",
            "LastRecord                      object\n",
            "Date Deployed                   object\n",
            "dtype: object\n"
          ],
          "name": "stdout"
        }
      ]
    },
    {
      "cell_type": "code",
      "metadata": {
        "colab": {
          "base_uri": "https://localhost:8080/"
        },
        "id": "Gtn5ZKBBpREt",
        "outputId": "b40b9bc0-f0f3-4245-c842-c50c0476a758"
      },
      "source": [
        "# select numeric columns\n",
        "df_numeric = train_df.select_dtypes(include=[np.number])\n",
        "numeric_cols = df_numeric.columns.values\n",
        "print(numeric_cols)\n"
      ],
      "execution_count": null,
      "outputs": [
        {
          "output_type": "stream",
          "text": [
            "['deviceid' 'avg_time_charging_lag1' 'avg_time_charging_lag2'\n",
            " 'avg_time_charging_lag3' 'avg_time_charging_lag7' 'charging_rate_lag3'\n",
            " 'charging_rate_lag7' 'avg_time_discharging_lag1'\n",
            " 'avg_time_discharging_lag2' 'avg_time_discharging_lag3'\n",
            " 'avg_time_discharging_lag7' 'discharging_rate_lag3'\n",
            " 'discharging_rate_lag7' 'fail_7' 'avg_time_charging_lag4'\n",
            " 'avg_time_discharging_lag4' 'avg_time_charging_lag5'\n",
            " 'avg_time_discharging_lag5' 'avg_time_charging_lag6'\n",
            " 'avg_time_discharging_lag6' 'avg_time_charging_lag8'\n",
            " 'avg_time_discharging_lag8' 'avg_time_charging_lag9'\n",
            " 'avg_time_discharging_lag9' 'avg_time_charging_lag10'\n",
            " 'avg_time_discharging_lag10' 'avg_time_charging_lag11'\n",
            " 'avg_time_discharging_lag11' 'avg_time_charging_lag12'\n",
            " 'avg_time_discharging_lag12' 'avg_time_charging_lag13'\n",
            " 'avg_time_discharging_lag13' 'avg_time_charging_lag14'\n",
            " 'avg_time_discharging_lag14' 'discharging_rate_lag4'\n",
            " 'discharging_rate_lag5' 'discharging_rate_lag6' 'discharging_rate_lag8'\n",
            " 'charging_rate_lag4' 'charging_rate_lag5' 'charging_rate_lag6'\n",
            " 'chargecycles' 'dischargecycles' 'total_off_time' 'number_times_restart'\n",
            " 'avg_volt_change_charging' 'avg_volt_change_discharging'\n",
            " 'avg_time_charging' 'avg_time_discharging' 'max_voltage_day' 'piececount'\n",
            " 'cycle_time']\n"
          ],
          "name": "stdout"
        }
      ]
    },
    {
      "cell_type": "code",
      "metadata": {
        "colab": {
          "base_uri": "https://localhost:8080/"
        },
        "id": "Fa6VMXYXpT-F",
        "outputId": "d89e97e4-6ddb-445d-a0a4-45891a2cbbd6"
      },
      "source": [
        "# select non numeric columns\n",
        "df_non_numeric = train_df.select_dtypes(exclude=[np.number])\n",
        "non_numeric_cols = df_non_numeric.columns.values\n",
        "print(non_numeric_cols)"
      ],
      "execution_count": null,
      "outputs": [
        {
          "output_type": "stream",
          "text": [
            "['charge_cycle_time_below_12' 'LastRecord' 'Date Deployed']\n"
          ],
          "name": "stdout"
        }
      ]
    },
    {
      "cell_type": "code",
      "metadata": {
        "colab": {
          "base_uri": "https://localhost:8080/"
        },
        "id": "kwebApQ2pWQN",
        "outputId": "1af07d8a-f33a-4b64-88d4-42d4947ecaee"
      },
      "source": [
        "#find out which column has missing value\n",
        "# % of missing.\n",
        "# train data set\n",
        "for col in train_df.columns:\n",
        "    pct_missing = np.mean(train_df[col].isnull())\n",
        "    print('{} - {}%'.format(col, round(pct_missing*100)))"
      ],
      "execution_count": null,
      "outputs": [
        {
          "output_type": "stream",
          "text": [
            "deviceid - 0%\n",
            "avg_time_charging_lag1 - 0%\n",
            "avg_time_charging_lag2 - 0%\n",
            "avg_time_charging_lag3 - 0%\n",
            "avg_time_charging_lag7 - 0%\n",
            "charging_rate_lag3 - 0%\n",
            "charging_rate_lag7 - 0%\n",
            "avg_time_discharging_lag1 - 0%\n",
            "avg_time_discharging_lag2 - 0%\n",
            "avg_time_discharging_lag3 - 0%\n",
            "avg_time_discharging_lag7 - 0%\n",
            "discharging_rate_lag3 - 0%\n",
            "discharging_rate_lag7 - 0%\n",
            "fail_7 - 0%\n",
            "charge_cycle_time_below_12 - 0%\n",
            "avg_time_charging_lag4 - 0%\n",
            "avg_time_discharging_lag4 - 0%\n",
            "avg_time_charging_lag5 - 0%\n",
            "avg_time_discharging_lag5 - 0%\n",
            "avg_time_charging_lag6 - 0%\n",
            "avg_time_discharging_lag6 - 0%\n",
            "avg_time_charging_lag8 - 0%\n",
            "avg_time_discharging_lag8 - 0%\n",
            "avg_time_charging_lag9 - 1%\n",
            "avg_time_discharging_lag9 - 1%\n",
            "avg_time_charging_lag10 - 2%\n",
            "avg_time_discharging_lag10 - 2%\n",
            "avg_time_charging_lag11 - 4%\n",
            "avg_time_discharging_lag11 - 4%\n",
            "avg_time_charging_lag12 - 7%\n",
            "avg_time_discharging_lag12 - 7%\n",
            "avg_time_charging_lag13 - 11%\n",
            "avg_time_discharging_lag13 - 11%\n",
            "avg_time_charging_lag14 - 16%\n",
            "avg_time_discharging_lag14 - 16%\n",
            "discharging_rate_lag4 - 0%\n",
            "discharging_rate_lag5 - 0%\n",
            "discharging_rate_lag6 - 0%\n",
            "discharging_rate_lag8 - 0%\n",
            "charging_rate_lag4 - 0%\n",
            "charging_rate_lag5 - 0%\n",
            "charging_rate_lag6 - 0%\n",
            "chargecycles - 0%\n",
            "dischargecycles - 0%\n",
            "total_off_time - 0%\n",
            "number_times_restart - 0%\n",
            "avg_volt_change_charging - 0%\n",
            "avg_volt_change_discharging - 0%\n",
            "avg_time_charging - 0%\n",
            "avg_time_discharging - 0%\n",
            "max_voltage_day - 0%\n",
            "piececount - 0%\n",
            "cycle_time - 0%\n",
            "LastRecord - 0%\n",
            "Date Deployed - 0%\n"
          ],
          "name": "stdout"
        }
      ]
    },
    {
      "cell_type": "code",
      "metadata": {
        "colab": {
          "base_uri": "https://localhost:8080/"
        },
        "id": "MBiH0Lmjs7Ht",
        "outputId": "d9e1097c-5492-487d-b4f9-1dae600a0ced"
      },
      "source": [
        "# test data set\n",
        "for col in test_df.columns:\n",
        "    pct_missing = np.mean(test_df[col].isnull())\n",
        "    print('{} - {}%'.format(col, round(pct_missing*100)))"
      ],
      "execution_count": null,
      "outputs": [
        {
          "output_type": "stream",
          "text": [
            "deviceid - 0%\n",
            "avg_time_charging_lag1 - 0%\n",
            "avg_time_charging_lag2 - 0%\n",
            "avg_time_charging_lag3 - 0%\n",
            "avg_time_charging_lag7 - 0%\n",
            "charging_rate_lag3 - 0%\n",
            "charging_rate_lag7 - 0%\n",
            "avg_time_discharging_lag1 - 0%\n",
            "avg_time_discharging_lag2 - 0%\n",
            "avg_time_discharging_lag3 - 0%\n",
            "avg_time_discharging_lag7 - 0%\n",
            "discharging_rate_lag3 - 0%\n",
            "discharging_rate_lag7 - 0%\n",
            "charge_cycle_time_below_12 - 0%\n",
            "avg_time_charging_lag4 - 0%\n",
            "avg_time_discharging_lag4 - 0%\n",
            "avg_time_charging_lag5 - 0%\n",
            "avg_time_discharging_lag5 - 0%\n",
            "avg_time_charging_lag6 - 0%\n",
            "avg_time_discharging_lag6 - 0%\n",
            "avg_time_charging_lag8 - 0%\n",
            "avg_time_discharging_lag8 - 0%\n",
            "avg_time_charging_lag9 - 1%\n",
            "avg_time_discharging_lag9 - 1%\n",
            "avg_time_charging_lag10 - 2%\n",
            "avg_time_discharging_lag10 - 2%\n",
            "avg_time_charging_lag11 - 4%\n",
            "avg_time_discharging_lag11 - 4%\n",
            "avg_time_charging_lag12 - 7%\n",
            "avg_time_discharging_lag12 - 7%\n",
            "avg_time_charging_lag13 - 12%\n",
            "avg_time_discharging_lag13 - 12%\n",
            "avg_time_charging_lag14 - 17%\n",
            "avg_time_discharging_lag14 - 17%\n",
            "discharging_rate_lag4 - 0%\n",
            "discharging_rate_lag5 - 0%\n",
            "discharging_rate_lag6 - 0%\n",
            "discharging_rate_lag8 - 0%\n",
            "charging_rate_lag4 - 0%\n",
            "charging_rate_lag5 - 0%\n",
            "charging_rate_lag6 - 0%\n",
            "chargecycles - 0%\n",
            "dischargecycles - 0%\n",
            "total_off_time - 0%\n",
            "number_times_restart - 0%\n",
            "avg_volt_change_charging - 0%\n",
            "avg_volt_change_discharging - 0%\n",
            "avg_time_charging - 0%\n",
            "avg_time_discharging - 0%\n",
            "max_voltage_day - 0%\n",
            "piececount - 0%\n",
            "cycle_time - 0%\n",
            "LastRecord - 0%\n",
            "Date Deployed - 0%\n"
          ],
          "name": "stdout"
        }
      ]
    },
    {
      "cell_type": "code",
      "metadata": {
        "colab": {
          "base_uri": "https://localhost:8080/"
        },
        "id": "WRY4UYtHpYq1",
        "outputId": "535df625-c237-46a9-f2b9-ef7a665a2f94"
      },
      "source": [
        "# There is no missing value for our categorical data\n",
        "# There is missing value for numeric data\n",
        "# Train data set\n",
        "for col in numeric_cols:\n",
        "    missing = train_df[col].isnull()\n",
        "    num_missing = np.sum(missing)\n",
        "    \n",
        "    if num_missing > 0:  # only do the imputation for the columns that have missing values.\n",
        "        print('imputing missing values for: {}'.format(col))\n",
        "        \n",
        "        med = train_df[col].median()\n",
        "        train_df[col] = train_df[col].fillna(med)"
      ],
      "execution_count": null,
      "outputs": [
        {
          "output_type": "stream",
          "text": [
            "imputing missing values for: avg_time_charging_lag7\n",
            "imputing missing values for: charging_rate_lag7\n",
            "imputing missing values for: avg_time_discharging_lag7\n",
            "imputing missing values for: discharging_rate_lag7\n",
            "imputing missing values for: avg_time_charging_lag5\n",
            "imputing missing values for: avg_time_discharging_lag5\n",
            "imputing missing values for: avg_time_charging_lag6\n",
            "imputing missing values for: avg_time_discharging_lag6\n",
            "imputing missing values for: avg_time_charging_lag8\n",
            "imputing missing values for: avg_time_discharging_lag8\n",
            "imputing missing values for: avg_time_charging_lag9\n",
            "imputing missing values for: avg_time_discharging_lag9\n",
            "imputing missing values for: avg_time_charging_lag10\n",
            "imputing missing values for: avg_time_discharging_lag10\n",
            "imputing missing values for: avg_time_charging_lag11\n",
            "imputing missing values for: avg_time_discharging_lag11\n",
            "imputing missing values for: avg_time_charging_lag12\n",
            "imputing missing values for: avg_time_discharging_lag12\n",
            "imputing missing values for: avg_time_charging_lag13\n",
            "imputing missing values for: avg_time_discharging_lag13\n",
            "imputing missing values for: avg_time_charging_lag14\n",
            "imputing missing values for: avg_time_discharging_lag14\n",
            "imputing missing values for: discharging_rate_lag6\n",
            "imputing missing values for: discharging_rate_lag8\n",
            "imputing missing values for: charging_rate_lag6\n"
          ],
          "name": "stdout"
        }
      ]
    },
    {
      "cell_type": "code",
      "metadata": {
        "id": "BStUDsTxtA7S",
        "colab": {
          "base_uri": "https://localhost:8080/"
        },
        "outputId": "0605e622-c81f-4e77-dc7f-30431f32e5de"
      },
      "source": [
        "# test data set\n",
        "df_numeric = test_df.select_dtypes(include=[np.number])\n",
        "numeric_cols = df_numeric.columns.values\n",
        "\n",
        "for col in numeric_cols:\n",
        "    missing = test_df[col].isnull()\n",
        "    num_missing = np.sum(missing)\n",
        "    \n",
        "    if num_missing > 0:  # only do the imputation for the columns that have missing values.\n",
        "        print('imputing missing values for: {}'.format(col))\n",
        "        test_df['{}_ismissing'.format(col)] = missing\n",
        "        med = test_df[col].median()\n",
        "        test_df[col] = test_df[col].fillna(med)"
      ],
      "execution_count": null,
      "outputs": [
        {
          "output_type": "stream",
          "text": [
            "imputing missing values for: avg_time_charging_lag7\n",
            "imputing missing values for: charging_rate_lag7\n",
            "imputing missing values for: avg_time_discharging_lag7\n",
            "imputing missing values for: discharging_rate_lag7\n",
            "imputing missing values for: avg_time_charging_lag5\n",
            "imputing missing values for: avg_time_discharging_lag5\n",
            "imputing missing values for: avg_time_charging_lag6\n",
            "imputing missing values for: avg_time_discharging_lag6\n",
            "imputing missing values for: avg_time_charging_lag8\n",
            "imputing missing values for: avg_time_discharging_lag8\n",
            "imputing missing values for: avg_time_charging_lag9\n",
            "imputing missing values for: avg_time_discharging_lag9\n",
            "imputing missing values for: avg_time_charging_lag10\n",
            "imputing missing values for: avg_time_discharging_lag10\n",
            "imputing missing values for: avg_time_charging_lag11\n",
            "imputing missing values for: avg_time_discharging_lag11\n",
            "imputing missing values for: avg_time_charging_lag12\n",
            "imputing missing values for: avg_time_discharging_lag12\n",
            "imputing missing values for: avg_time_charging_lag13\n",
            "imputing missing values for: avg_time_discharging_lag13\n",
            "imputing missing values for: avg_time_charging_lag14\n",
            "imputing missing values for: avg_time_discharging_lag14\n",
            "imputing missing values for: discharging_rate_lag8\n"
          ],
          "name": "stdout"
        }
      ]
    },
    {
      "cell_type": "markdown",
      "metadata": {
        "id": "DP-S2EGsuGa5"
      },
      "source": [
        "**Analyze by describing data**"
      ]
    },
    {
      "cell_type": "code",
      "metadata": {
        "colab": {
          "base_uri": "https://localhost:8080/",
          "height": 240
        },
        "id": "1Bs49tcmrOpG",
        "outputId": "ba1f8986-75b6-4c63-969c-fec624faf98d"
      },
      "source": [
        "train_df.head()"
      ],
      "execution_count": null,
      "outputs": [
        {
          "output_type": "execute_result",
          "data": {
            "text/html": [
              "<div>\n",
              "<style scoped>\n",
              "    .dataframe tbody tr th:only-of-type {\n",
              "        vertical-align: middle;\n",
              "    }\n",
              "\n",
              "    .dataframe tbody tr th {\n",
              "        vertical-align: top;\n",
              "    }\n",
              "\n",
              "    .dataframe thead th {\n",
              "        text-align: right;\n",
              "    }\n",
              "</style>\n",
              "<table border=\"1\" class=\"dataframe\">\n",
              "  <thead>\n",
              "    <tr style=\"text-align: right;\">\n",
              "      <th></th>\n",
              "      <th>deviceid</th>\n",
              "      <th>avg_time_charging_lag1</th>\n",
              "      <th>avg_time_charging_lag2</th>\n",
              "      <th>avg_time_charging_lag3</th>\n",
              "      <th>avg_time_charging_lag7</th>\n",
              "      <th>charging_rate_lag3</th>\n",
              "      <th>charging_rate_lag7</th>\n",
              "      <th>avg_time_discharging_lag1</th>\n",
              "      <th>avg_time_discharging_lag2</th>\n",
              "      <th>avg_time_discharging_lag3</th>\n",
              "      <th>avg_time_discharging_lag7</th>\n",
              "      <th>discharging_rate_lag3</th>\n",
              "      <th>discharging_rate_lag7</th>\n",
              "      <th>fail_7</th>\n",
              "      <th>charge_cycle_time_below_12</th>\n",
              "      <th>avg_time_charging_lag4</th>\n",
              "      <th>avg_time_discharging_lag4</th>\n",
              "      <th>avg_time_charging_lag5</th>\n",
              "      <th>avg_time_discharging_lag5</th>\n",
              "      <th>avg_time_charging_lag6</th>\n",
              "      <th>avg_time_discharging_lag6</th>\n",
              "      <th>avg_time_charging_lag8</th>\n",
              "      <th>avg_time_discharging_lag8</th>\n",
              "      <th>avg_time_charging_lag9</th>\n",
              "      <th>avg_time_discharging_lag9</th>\n",
              "      <th>avg_time_charging_lag10</th>\n",
              "      <th>avg_time_discharging_lag10</th>\n",
              "      <th>avg_time_charging_lag11</th>\n",
              "      <th>avg_time_discharging_lag11</th>\n",
              "      <th>avg_time_charging_lag12</th>\n",
              "      <th>avg_time_discharging_lag12</th>\n",
              "      <th>avg_time_charging_lag13</th>\n",
              "      <th>avg_time_discharging_lag13</th>\n",
              "      <th>avg_time_charging_lag14</th>\n",
              "      <th>avg_time_discharging_lag14</th>\n",
              "      <th>discharging_rate_lag4</th>\n",
              "      <th>discharging_rate_lag5</th>\n",
              "      <th>discharging_rate_lag6</th>\n",
              "      <th>discharging_rate_lag8</th>\n",
              "      <th>charging_rate_lag4</th>\n",
              "      <th>charging_rate_lag5</th>\n",
              "      <th>charging_rate_lag6</th>\n",
              "      <th>chargecycles</th>\n",
              "      <th>dischargecycles</th>\n",
              "      <th>total_off_time</th>\n",
              "      <th>number_times_restart</th>\n",
              "      <th>avg_volt_change_charging</th>\n",
              "      <th>avg_volt_change_discharging</th>\n",
              "      <th>avg_time_charging</th>\n",
              "      <th>avg_time_discharging</th>\n",
              "      <th>max_voltage_day</th>\n",
              "      <th>piececount</th>\n",
              "      <th>cycle_time</th>\n",
              "      <th>LastRecord</th>\n",
              "      <th>Date Deployed</th>\n",
              "    </tr>\n",
              "  </thead>\n",
              "  <tbody>\n",
              "    <tr>\n",
              "      <th>0</th>\n",
              "      <td>28647</td>\n",
              "      <td>5.12</td>\n",
              "      <td>41.11</td>\n",
              "      <td>6.56</td>\n",
              "      <td>25.39</td>\n",
              "      <td>0.086667</td>\n",
              "      <td>-0.006667</td>\n",
              "      <td>4.37</td>\n",
              "      <td>91.70</td>\n",
              "      <td>15.70</td>\n",
              "      <td>39.12</td>\n",
              "      <td>-1.163333</td>\n",
              "      <td>0.033333</td>\n",
              "      <td>0</td>\n",
              "      <td>False</td>\n",
              "      <td>4.99</td>\n",
              "      <td>5.85</td>\n",
              "      <td>24.35</td>\n",
              "      <td>31.02</td>\n",
              "      <td>43.42</td>\n",
              "      <td>79.33</td>\n",
              "      <td>5.78</td>\n",
              "      <td>5.92</td>\n",
              "      <td>5.77</td>\n",
              "      <td>5.93</td>\n",
              "      <td>5.79</td>\n",
              "      <td>5.94</td>\n",
              "      <td>5.84</td>\n",
              "      <td>6.07</td>\n",
              "      <td>5.83</td>\n",
              "      <td>6.06</td>\n",
              "      <td>5.83</td>\n",
              "      <td>6.06</td>\n",
              "      <td>5.84</td>\n",
              "      <td>6.11</td>\n",
              "      <td>-0.360000</td>\n",
              "      <td>1.573333</td>\n",
              "      <td>0.816667</td>\n",
              "      <td>-0.173333</td>\n",
              "      <td>-0.070000</td>\n",
              "      <td>-1.603333</td>\n",
              "      <td>-0.166667</td>\n",
              "      <td>50.250000</td>\n",
              "      <td>49.750000</td>\n",
              "      <td>49.000000</td>\n",
              "      <td>2.375000</td>\n",
              "      <td>377.080000</td>\n",
              "      <td>367.428750</td>\n",
              "      <td>21.696250</td>\n",
              "      <td>39.005000</td>\n",
              "      <td>4174.875000</td>\n",
              "      <td>14.200000</td>\n",
              "      <td>60.701250</td>\n",
              "      <td>4/1/2021</td>\n",
              "      <td>10/6/2019</td>\n",
              "    </tr>\n",
              "    <tr>\n",
              "      <th>1</th>\n",
              "      <td>36175</td>\n",
              "      <td>36.60</td>\n",
              "      <td>5.16</td>\n",
              "      <td>6.23</td>\n",
              "      <td>6.96</td>\n",
              "      <td>0.136667</td>\n",
              "      <td>-1.296667</td>\n",
              "      <td>62.67</td>\n",
              "      <td>6.53</td>\n",
              "      <td>6.16</td>\n",
              "      <td>8.25</td>\n",
              "      <td>-0.066667</td>\n",
              "      <td>-2.653333</td>\n",
              "      <td>0</td>\n",
              "      <td>False</td>\n",
              "      <td>13.64</td>\n",
              "      <td>20.37</td>\n",
              "      <td>5.65</td>\n",
              "      <td>4.77</td>\n",
              "      <td>19.41</td>\n",
              "      <td>24.33</td>\n",
              "      <td>35.92</td>\n",
              "      <td>59.38</td>\n",
              "      <td>4.49</td>\n",
              "      <td>4.12</td>\n",
              "      <td>44.18</td>\n",
              "      <td>72.46</td>\n",
              "      <td>27.45</td>\n",
              "      <td>49.02</td>\n",
              "      <td>10.89</td>\n",
              "      <td>18.93</td>\n",
              "      <td>21.39</td>\n",
              "      <td>35.90</td>\n",
              "      <td>5.84</td>\n",
              "      <td>6.11</td>\n",
              "      <td>-4.593333</td>\n",
              "      <td>0.450000</td>\n",
              "      <td>-3.063333</td>\n",
              "      <td>-0.103333</td>\n",
              "      <td>0.216667</td>\n",
              "      <td>0.000000</td>\n",
              "      <td>-1.010000</td>\n",
              "      <td>56.285714</td>\n",
              "      <td>56.000000</td>\n",
              "      <td>36.857143</td>\n",
              "      <td>1.000000</td>\n",
              "      <td>350.517857</td>\n",
              "      <td>350.309286</td>\n",
              "      <td>19.883571</td>\n",
              "      <td>32.213571</td>\n",
              "      <td>4161.000000</td>\n",
              "      <td>19.777778</td>\n",
              "      <td>52.097143</td>\n",
              "      <td>4/1/2021</td>\n",
              "      <td>10/27/2019</td>\n",
              "    </tr>\n",
              "    <tr>\n",
              "      <th>2</th>\n",
              "      <td>16107</td>\n",
              "      <td>5.51</td>\n",
              "      <td>5.04</td>\n",
              "      <td>4.52</td>\n",
              "      <td>5.96</td>\n",
              "      <td>-0.460000</td>\n",
              "      <td>-0.083333</td>\n",
              "      <td>5.13</td>\n",
              "      <td>5.65</td>\n",
              "      <td>4.14</td>\n",
              "      <td>14.02</td>\n",
              "      <td>-2.643333</td>\n",
              "      <td>0.686667</td>\n",
              "      <td>0</td>\n",
              "      <td>False</td>\n",
              "      <td>25.01</td>\n",
              "      <td>40.69</td>\n",
              "      <td>6.03</td>\n",
              "      <td>6.06</td>\n",
              "      <td>5.72</td>\n",
              "      <td>5.73</td>\n",
              "      <td>22.46</td>\n",
              "      <td>31.82</td>\n",
              "      <td>33.92</td>\n",
              "      <td>58.87</td>\n",
              "      <td>45.87</td>\n",
              "      <td>76.36</td>\n",
              "      <td>5.78</td>\n",
              "      <td>6.23</td>\n",
              "      <td>5.13</td>\n",
              "      <td>4.37</td>\n",
              "      <td>4.73</td>\n",
              "      <td>3.50</td>\n",
              "      <td>26.79</td>\n",
              "      <td>41.29</td>\n",
              "      <td>-0.050000</td>\n",
              "      <td>0.240000</td>\n",
              "      <td>0.000000</td>\n",
              "      <td>0.216667</td>\n",
              "      <td>-0.026667</td>\n",
              "      <td>0.000000</td>\n",
              "      <td>-0.013333</td>\n",
              "      <td>80.380952</td>\n",
              "      <td>80.333333</td>\n",
              "      <td>2.333333</td>\n",
              "      <td>4.095238</td>\n",
              "      <td>346.113333</td>\n",
              "      <td>343.409524</td>\n",
              "      <td>13.675238</td>\n",
              "      <td>20.471429</td>\n",
              "      <td>4152.238095</td>\n",
              "      <td>19.200000</td>\n",
              "      <td>34.146667</td>\n",
              "      <td>4/1/2021</td>\n",
              "      <td>10/31/2019</td>\n",
              "    </tr>\n",
              "    <tr>\n",
              "      <th>3</th>\n",
              "      <td>27362</td>\n",
              "      <td>4.66</td>\n",
              "      <td>39.85</td>\n",
              "      <td>35.76</td>\n",
              "      <td>40.69</td>\n",
              "      <td>0.076667</td>\n",
              "      <td>-0.006667</td>\n",
              "      <td>3.93</td>\n",
              "      <td>76.37</td>\n",
              "      <td>60.86</td>\n",
              "      <td>73.53</td>\n",
              "      <td>-0.166667</td>\n",
              "      <td>0.033333</td>\n",
              "      <td>0</td>\n",
              "      <td>False</td>\n",
              "      <td>4.71</td>\n",
              "      <td>3.74</td>\n",
              "      <td>4.74</td>\n",
              "      <td>3.73</td>\n",
              "      <td>24.01</td>\n",
              "      <td>52.99</td>\n",
              "      <td>5.09</td>\n",
              "      <td>5.32</td>\n",
              "      <td>4.45</td>\n",
              "      <td>4.22</td>\n",
              "      <td>22.14</td>\n",
              "      <td>30.51</td>\n",
              "      <td>4.39</td>\n",
              "      <td>4.15</td>\n",
              "      <td>4.71</td>\n",
              "      <td>3.82</td>\n",
              "      <td>13.27</td>\n",
              "      <td>18.62</td>\n",
              "      <td>4.97</td>\n",
              "      <td>4.16</td>\n",
              "      <td>0.013333</td>\n",
              "      <td>0.406667</td>\n",
              "      <td>-0.293333</td>\n",
              "      <td>-0.046667</td>\n",
              "      <td>-0.030000</td>\n",
              "      <td>0.460000</td>\n",
              "      <td>1.340000</td>\n",
              "      <td>91.736842</td>\n",
              "      <td>91.684211</td>\n",
              "      <td>10.789474</td>\n",
              "      <td>0.736842</td>\n",
              "      <td>356.184211</td>\n",
              "      <td>349.844737</td>\n",
              "      <td>16.306842</td>\n",
              "      <td>26.189474</td>\n",
              "      <td>4164.631579</td>\n",
              "      <td>23.625000</td>\n",
              "      <td>42.496316</td>\n",
              "      <td>4/1/2021</td>\n",
              "      <td>10/1/2019</td>\n",
              "    </tr>\n",
              "    <tr>\n",
              "      <th>4</th>\n",
              "      <td>19463</td>\n",
              "      <td>5.10</td>\n",
              "      <td>43.24</td>\n",
              "      <td>4.63</td>\n",
              "      <td>5.26</td>\n",
              "      <td>0.040000</td>\n",
              "      <td>-0.153333</td>\n",
              "      <td>4.69</td>\n",
              "      <td>71.44</td>\n",
              "      <td>3.80</td>\n",
              "      <td>6.29</td>\n",
              "      <td>0.066667</td>\n",
              "      <td>-1.030000</td>\n",
              "      <td>0</td>\n",
              "      <td>True</td>\n",
              "      <td>40.36</td>\n",
              "      <td>82.70</td>\n",
              "      <td>15.47</td>\n",
              "      <td>24.21</td>\n",
              "      <td>45.64</td>\n",
              "      <td>76.42</td>\n",
              "      <td>26.63</td>\n",
              "      <td>45.04</td>\n",
              "      <td>27.99</td>\n",
              "      <td>40.57</td>\n",
              "      <td>5.01</td>\n",
              "      <td>6.52</td>\n",
              "      <td>5.47</td>\n",
              "      <td>4.64</td>\n",
              "      <td>5.28</td>\n",
              "      <td>5.16</td>\n",
              "      <td>25.10</td>\n",
              "      <td>47.76</td>\n",
              "      <td>21.62</td>\n",
              "      <td>37.29</td>\n",
              "      <td>-0.353333</td>\n",
              "      <td>0.983333</td>\n",
              "      <td>-0.006667</td>\n",
              "      <td>-1.790000</td>\n",
              "      <td>0.016667</td>\n",
              "      <td>1.606667</td>\n",
              "      <td>0.013333</td>\n",
              "      <td>71.066667</td>\n",
              "      <td>70.733333</td>\n",
              "      <td>14.266667</td>\n",
              "      <td>1.133333</td>\n",
              "      <td>370.904000</td>\n",
              "      <td>367.730000</td>\n",
              "      <td>18.797333</td>\n",
              "      <td>30.812000</td>\n",
              "      <td>4169.800000</td>\n",
              "      <td>12.666667</td>\n",
              "      <td>49.609333</td>\n",
              "      <td>4/1/2021</td>\n",
              "      <td>9/13/2019</td>\n",
              "    </tr>\n",
              "  </tbody>\n",
              "</table>\n",
              "</div>"
            ],
            "text/plain": [
              "   deviceid  avg_time_charging_lag1  ...  LastRecord  Date Deployed\n",
              "0     28647                    5.12  ...    4/1/2021      10/6/2019\n",
              "1     36175                   36.60  ...    4/1/2021     10/27/2019\n",
              "2     16107                    5.51  ...    4/1/2021     10/31/2019\n",
              "3     27362                    4.66  ...    4/1/2021      10/1/2019\n",
              "4     19463                    5.10  ...    4/1/2021      9/13/2019\n",
              "\n",
              "[5 rows x 55 columns]"
            ]
          },
          "metadata": {
            "tags": []
          },
          "execution_count": 12
        }
      ]
    },
    {
      "cell_type": "code",
      "metadata": {
        "colab": {
          "base_uri": "https://localhost:8080/",
          "height": 315
        },
        "id": "oO2huM5wyNnk",
        "outputId": "cfe213c7-946a-41c8-fc4e-86a3fe9f7fcc"
      },
      "source": [
        "train_df.describe()  # Summary Stats "
      ],
      "execution_count": null,
      "outputs": [
        {
          "output_type": "execute_result",
          "data": {
            "text/html": [
              "<div>\n",
              "<style scoped>\n",
              "    .dataframe tbody tr th:only-of-type {\n",
              "        vertical-align: middle;\n",
              "    }\n",
              "\n",
              "    .dataframe tbody tr th {\n",
              "        vertical-align: top;\n",
              "    }\n",
              "\n",
              "    .dataframe thead th {\n",
              "        text-align: right;\n",
              "    }\n",
              "</style>\n",
              "<table border=\"1\" class=\"dataframe\">\n",
              "  <thead>\n",
              "    <tr style=\"text-align: right;\">\n",
              "      <th></th>\n",
              "      <th>deviceid</th>\n",
              "      <th>avg_time_charging_lag1</th>\n",
              "      <th>avg_time_charging_lag2</th>\n",
              "      <th>avg_time_charging_lag3</th>\n",
              "      <th>avg_time_charging_lag7</th>\n",
              "      <th>charging_rate_lag3</th>\n",
              "      <th>charging_rate_lag7</th>\n",
              "      <th>avg_time_discharging_lag1</th>\n",
              "      <th>avg_time_discharging_lag2</th>\n",
              "      <th>avg_time_discharging_lag3</th>\n",
              "      <th>avg_time_discharging_lag7</th>\n",
              "      <th>discharging_rate_lag3</th>\n",
              "      <th>discharging_rate_lag7</th>\n",
              "      <th>fail_7</th>\n",
              "      <th>avg_time_charging_lag4</th>\n",
              "      <th>avg_time_discharging_lag4</th>\n",
              "      <th>avg_time_charging_lag5</th>\n",
              "      <th>avg_time_discharging_lag5</th>\n",
              "      <th>avg_time_charging_lag6</th>\n",
              "      <th>avg_time_discharging_lag6</th>\n",
              "      <th>avg_time_charging_lag8</th>\n",
              "      <th>avg_time_discharging_lag8</th>\n",
              "      <th>avg_time_charging_lag9</th>\n",
              "      <th>avg_time_discharging_lag9</th>\n",
              "      <th>avg_time_charging_lag10</th>\n",
              "      <th>avg_time_discharging_lag10</th>\n",
              "      <th>avg_time_charging_lag11</th>\n",
              "      <th>avg_time_discharging_lag11</th>\n",
              "      <th>avg_time_charging_lag12</th>\n",
              "      <th>avg_time_discharging_lag12</th>\n",
              "      <th>avg_time_charging_lag13</th>\n",
              "      <th>avg_time_discharging_lag13</th>\n",
              "      <th>avg_time_charging_lag14</th>\n",
              "      <th>avg_time_discharging_lag14</th>\n",
              "      <th>discharging_rate_lag4</th>\n",
              "      <th>discharging_rate_lag5</th>\n",
              "      <th>discharging_rate_lag6</th>\n",
              "      <th>discharging_rate_lag8</th>\n",
              "      <th>charging_rate_lag4</th>\n",
              "      <th>charging_rate_lag5</th>\n",
              "      <th>charging_rate_lag6</th>\n",
              "      <th>chargecycles</th>\n",
              "      <th>dischargecycles</th>\n",
              "      <th>total_off_time</th>\n",
              "      <th>number_times_restart</th>\n",
              "      <th>avg_volt_change_charging</th>\n",
              "      <th>avg_volt_change_discharging</th>\n",
              "      <th>avg_time_charging</th>\n",
              "      <th>avg_time_discharging</th>\n",
              "      <th>max_voltage_day</th>\n",
              "      <th>piececount</th>\n",
              "      <th>cycle_time</th>\n",
              "    </tr>\n",
              "  </thead>\n",
              "  <tbody>\n",
              "    <tr>\n",
              "      <th>count</th>\n",
              "      <td>40500.000000</td>\n",
              "      <td>40500.000000</td>\n",
              "      <td>40500.000000</td>\n",
              "      <td>40500.000000</td>\n",
              "      <td>40500.000000</td>\n",
              "      <td>40500.000000</td>\n",
              "      <td>40500.000000</td>\n",
              "      <td>40500.000000</td>\n",
              "      <td>40500.000000</td>\n",
              "      <td>40500.000000</td>\n",
              "      <td>40500.000000</td>\n",
              "      <td>40500.000000</td>\n",
              "      <td>40500.000000</td>\n",
              "      <td>40500.000000</td>\n",
              "      <td>40500.000000</td>\n",
              "      <td>40500.000000</td>\n",
              "      <td>40500.000000</td>\n",
              "      <td>40500.000000</td>\n",
              "      <td>40500.000000</td>\n",
              "      <td>40500.000000</td>\n",
              "      <td>40500.000000</td>\n",
              "      <td>40500.000000</td>\n",
              "      <td>40500.000000</td>\n",
              "      <td>40500.000000</td>\n",
              "      <td>40500.000000</td>\n",
              "      <td>40500.000000</td>\n",
              "      <td>40500.000000</td>\n",
              "      <td>40500.000000</td>\n",
              "      <td>40500.000000</td>\n",
              "      <td>40500.000000</td>\n",
              "      <td>40500.000000</td>\n",
              "      <td>40500.000000</td>\n",
              "      <td>40500.000000</td>\n",
              "      <td>40500.000000</td>\n",
              "      <td>40500.000000</td>\n",
              "      <td>40500.000000</td>\n",
              "      <td>40500.000000</td>\n",
              "      <td>40500.000000</td>\n",
              "      <td>40500.000000</td>\n",
              "      <td>40500.000000</td>\n",
              "      <td>40500.000000</td>\n",
              "      <td>40500.000000</td>\n",
              "      <td>40500.000000</td>\n",
              "      <td>40500.000000</td>\n",
              "      <td>40500.000000</td>\n",
              "      <td>40500.000000</td>\n",
              "      <td>40500.000000</td>\n",
              "      <td>40500.000000</td>\n",
              "      <td>40500.000000</td>\n",
              "      <td>40500.000000</td>\n",
              "      <td>40500.000000</td>\n",
              "      <td>40500.000000</td>\n",
              "    </tr>\n",
              "    <tr>\n",
              "      <th>mean</th>\n",
              "      <td>27511.156593</td>\n",
              "      <td>16.274839</td>\n",
              "      <td>16.521473</td>\n",
              "      <td>16.277490</td>\n",
              "      <td>16.337855</td>\n",
              "      <td>-0.043389</td>\n",
              "      <td>-0.053002</td>\n",
              "      <td>25.800928</td>\n",
              "      <td>26.353566</td>\n",
              "      <td>25.903624</td>\n",
              "      <td>26.048305</td>\n",
              "      <td>-0.094954</td>\n",
              "      <td>-0.114888</td>\n",
              "      <td>0.232123</td>\n",
              "      <td>16.343948</td>\n",
              "      <td>26.082150</td>\n",
              "      <td>16.333162</td>\n",
              "      <td>26.055401</td>\n",
              "      <td>16.337247</td>\n",
              "      <td>26.067738</td>\n",
              "      <td>16.345806</td>\n",
              "      <td>26.047694</td>\n",
              "      <td>16.218438</td>\n",
              "      <td>25.876454</td>\n",
              "      <td>16.156612</td>\n",
              "      <td>25.704493</td>\n",
              "      <td>16.159111</td>\n",
              "      <td>25.756622</td>\n",
              "      <td>15.825421</td>\n",
              "      <td>25.136295</td>\n",
              "      <td>15.266062</td>\n",
              "      <td>24.047542</td>\n",
              "      <td>14.743803</td>\n",
              "      <td>23.023999</td>\n",
              "      <td>-0.108077</td>\n",
              "      <td>-0.100143</td>\n",
              "      <td>-0.089708</td>\n",
              "      <td>-0.118179</td>\n",
              "      <td>-0.039316</td>\n",
              "      <td>-0.038808</td>\n",
              "      <td>-0.047328</td>\n",
              "      <td>84.978399</td>\n",
              "      <td>84.859009</td>\n",
              "      <td>25.258990</td>\n",
              "      <td>2.154864</td>\n",
              "      <td>351.421779</td>\n",
              "      <td>348.207773</td>\n",
              "      <td>16.352522</td>\n",
              "      <td>26.081939</td>\n",
              "      <td>4159.266095</td>\n",
              "      <td>20.526154</td>\n",
              "      <td>42.434462</td>\n",
              "    </tr>\n",
              "    <tr>\n",
              "      <th>std</th>\n",
              "      <td>12992.647611</td>\n",
              "      <td>15.374342</td>\n",
              "      <td>15.425769</td>\n",
              "      <td>15.305041</td>\n",
              "      <td>15.131064</td>\n",
              "      <td>0.776305</td>\n",
              "      <td>0.756446</td>\n",
              "      <td>29.243961</td>\n",
              "      <td>29.459305</td>\n",
              "      <td>29.269789</td>\n",
              "      <td>28.984694</td>\n",
              "      <td>1.270488</td>\n",
              "      <td>1.324782</td>\n",
              "      <td>0.422193</td>\n",
              "      <td>15.208344</td>\n",
              "      <td>29.158269</td>\n",
              "      <td>15.196220</td>\n",
              "      <td>29.138422</td>\n",
              "      <td>15.143952</td>\n",
              "      <td>29.051824</td>\n",
              "      <td>15.122359</td>\n",
              "      <td>28.911288</td>\n",
              "      <td>14.919613</td>\n",
              "      <td>28.645138</td>\n",
              "      <td>14.860361</td>\n",
              "      <td>28.471591</td>\n",
              "      <td>14.838727</td>\n",
              "      <td>28.518855</td>\n",
              "      <td>14.651544</td>\n",
              "      <td>28.122307</td>\n",
              "      <td>14.362923</td>\n",
              "      <td>27.510408</td>\n",
              "      <td>14.115690</td>\n",
              "      <td>26.954144</td>\n",
              "      <td>1.385724</td>\n",
              "      <td>1.373807</td>\n",
              "      <td>1.322030</td>\n",
              "      <td>1.375208</td>\n",
              "      <td>0.720808</td>\n",
              "      <td>0.787685</td>\n",
              "      <td>0.818199</td>\n",
              "      <td>15.466961</td>\n",
              "      <td>15.507518</td>\n",
              "      <td>37.037053</td>\n",
              "      <td>2.223237</td>\n",
              "      <td>12.745409</td>\n",
              "      <td>13.277782</td>\n",
              "      <td>3.553653</td>\n",
              "      <td>6.813312</td>\n",
              "      <td>11.306765</td>\n",
              "      <td>16.461988</td>\n",
              "      <td>10.321011</td>\n",
              "    </tr>\n",
              "    <tr>\n",
              "      <th>min</th>\n",
              "      <td>5000.000000</td>\n",
              "      <td>1.510000</td>\n",
              "      <td>1.060000</td>\n",
              "      <td>0.040000</td>\n",
              "      <td>1.070000</td>\n",
              "      <td>-76.946667</td>\n",
              "      <td>-42.130000</td>\n",
              "      <td>0.520000</td>\n",
              "      <td>0.700000</td>\n",
              "      <td>1.070000</td>\n",
              "      <td>1.740000</td>\n",
              "      <td>-22.413333</td>\n",
              "      <td>-18.606667</td>\n",
              "      <td>0.000000</td>\n",
              "      <td>2.960000</td>\n",
              "      <td>2.110000</td>\n",
              "      <td>0.860000</td>\n",
              "      <td>1.960000</td>\n",
              "      <td>1.420000</td>\n",
              "      <td>2.430000</td>\n",
              "      <td>1.420000</td>\n",
              "      <td>0.850000</td>\n",
              "      <td>2.790000</td>\n",
              "      <td>0.040000</td>\n",
              "      <td>2.410000</td>\n",
              "      <td>2.140000</td>\n",
              "      <td>2.050000</td>\n",
              "      <td>1.850000</td>\n",
              "      <td>2.880000</td>\n",
              "      <td>0.020000</td>\n",
              "      <td>2.240000</td>\n",
              "      <td>0.080000</td>\n",
              "      <td>1.760000</td>\n",
              "      <td>0.370000</td>\n",
              "      <td>-58.820000</td>\n",
              "      <td>-61.173333</td>\n",
              "      <td>-29.996667</td>\n",
              "      <td>-47.583333</td>\n",
              "      <td>-17.450000</td>\n",
              "      <td>-56.886667</td>\n",
              "      <td>-85.763333</td>\n",
              "      <td>14.666667</td>\n",
              "      <td>14.416667</td>\n",
              "      <td>0.000000</td>\n",
              "      <td>0.090909</td>\n",
              "      <td>304.050833</td>\n",
              "      <td>298.250000</td>\n",
              "      <td>4.890000</td>\n",
              "      <td>4.131111</td>\n",
              "      <td>4112.454545</td>\n",
              "      <td>1.000000</td>\n",
              "      <td>9.021111</td>\n",
              "    </tr>\n",
              "    <tr>\n",
              "      <th>25%</th>\n",
              "      <td>16234.750000</td>\n",
              "      <td>4.910000</td>\n",
              "      <td>4.920000</td>\n",
              "      <td>4.900000</td>\n",
              "      <td>4.900000</td>\n",
              "      <td>-0.066667</td>\n",
              "      <td>-0.100000</td>\n",
              "      <td>4.200000</td>\n",
              "      <td>4.210000</td>\n",
              "      <td>4.200000</td>\n",
              "      <td>4.200000</td>\n",
              "      <td>-0.183333</td>\n",
              "      <td>-0.233333</td>\n",
              "      <td>0.000000</td>\n",
              "      <td>4.910000</td>\n",
              "      <td>4.210000</td>\n",
              "      <td>4.910000</td>\n",
              "      <td>4.200000</td>\n",
              "      <td>4.900000</td>\n",
              "      <td>4.210000</td>\n",
              "      <td>4.900000</td>\n",
              "      <td>4.200000</td>\n",
              "      <td>4.900000</td>\n",
              "      <td>4.200000</td>\n",
              "      <td>4.900000</td>\n",
              "      <td>4.210000</td>\n",
              "      <td>4.920000</td>\n",
              "      <td>4.230000</td>\n",
              "      <td>4.950000</td>\n",
              "      <td>4.250000</td>\n",
              "      <td>4.960000</td>\n",
              "      <td>4.270000</td>\n",
              "      <td>4.990000</td>\n",
              "      <td>4.350000</td>\n",
              "      <td>-0.190000</td>\n",
              "      <td>-0.206667</td>\n",
              "      <td>-0.203333</td>\n",
              "      <td>-0.240000</td>\n",
              "      <td>-0.086667</td>\n",
              "      <td>-0.086667</td>\n",
              "      <td>-0.090000</td>\n",
              "      <td>74.647059</td>\n",
              "      <td>74.500000</td>\n",
              "      <td>3.565217</td>\n",
              "      <td>1.052632</td>\n",
              "      <td>342.770532</td>\n",
              "      <td>339.267541</td>\n",
              "      <td>13.912625</td>\n",
              "      <td>21.418250</td>\n",
              "      <td>4151.666667</td>\n",
              "      <td>11.333333</td>\n",
              "      <td>35.364068</td>\n",
              "    </tr>\n",
              "    <tr>\n",
              "      <th>50%</th>\n",
              "      <td>27528.000000</td>\n",
              "      <td>5.770000</td>\n",
              "      <td>5.830000</td>\n",
              "      <td>5.780000</td>\n",
              "      <td>5.780000</td>\n",
              "      <td>0.000000</td>\n",
              "      <td>-0.003333</td>\n",
              "      <td>5.860000</td>\n",
              "      <td>5.920000</td>\n",
              "      <td>5.850000</td>\n",
              "      <td>5.890000</td>\n",
              "      <td>-0.003333</td>\n",
              "      <td>-0.003333</td>\n",
              "      <td>0.000000</td>\n",
              "      <td>5.810000</td>\n",
              "      <td>5.900000</td>\n",
              "      <td>5.780000</td>\n",
              "      <td>5.860000</td>\n",
              "      <td>5.790000</td>\n",
              "      <td>5.870000</td>\n",
              "      <td>5.780000</td>\n",
              "      <td>5.920000</td>\n",
              "      <td>5.770000</td>\n",
              "      <td>5.930000</td>\n",
              "      <td>5.790000</td>\n",
              "      <td>5.940000</td>\n",
              "      <td>5.840000</td>\n",
              "      <td>6.070000</td>\n",
              "      <td>5.830000</td>\n",
              "      <td>6.060000</td>\n",
              "      <td>5.830000</td>\n",
              "      <td>6.060000</td>\n",
              "      <td>5.840000</td>\n",
              "      <td>6.110000</td>\n",
              "      <td>-0.003333</td>\n",
              "      <td>-0.003333</td>\n",
              "      <td>-0.003333</td>\n",
              "      <td>-0.006667</td>\n",
              "      <td>-0.003333</td>\n",
              "      <td>0.000000</td>\n",
              "      <td>-0.003333</td>\n",
              "      <td>85.000000</td>\n",
              "      <td>84.875000</td>\n",
              "      <td>17.097619</td>\n",
              "      <td>1.470588</td>\n",
              "      <td>351.109967</td>\n",
              "      <td>347.911440</td>\n",
              "      <td>16.201115</td>\n",
              "      <td>25.774365</td>\n",
              "      <td>4159.158948</td>\n",
              "      <td>16.500000</td>\n",
              "      <td>42.005895</td>\n",
              "    </tr>\n",
              "    <tr>\n",
              "      <th>75%</th>\n",
              "      <td>38785.250000</td>\n",
              "      <td>30.100000</td>\n",
              "      <td>30.730000</td>\n",
              "      <td>30.060000</td>\n",
              "      <td>29.570000</td>\n",
              "      <td>0.046667</td>\n",
              "      <td>0.060000</td>\n",
              "      <td>50.200000</td>\n",
              "      <td>51.212500</td>\n",
              "      <td>50.300000</td>\n",
              "      <td>49.620000</td>\n",
              "      <td>0.110000</td>\n",
              "      <td>0.110000</td>\n",
              "      <td>0.000000</td>\n",
              "      <td>29.930000</td>\n",
              "      <td>50.362500</td>\n",
              "      <td>29.912500</td>\n",
              "      <td>50.242500</td>\n",
              "      <td>29.692500</td>\n",
              "      <td>49.860000</td>\n",
              "      <td>29.370000</td>\n",
              "      <td>49.232500</td>\n",
              "      <td>28.730000</td>\n",
              "      <td>48.570000</td>\n",
              "      <td>28.520000</td>\n",
              "      <td>48.040000</td>\n",
              "      <td>28.370000</td>\n",
              "      <td>47.920000</td>\n",
              "      <td>27.560000</td>\n",
              "      <td>46.372500</td>\n",
              "      <td>26.410000</td>\n",
              "      <td>43.642500</td>\n",
              "      <td>25.250000</td>\n",
              "      <td>40.650000</td>\n",
              "      <td>0.103333</td>\n",
              "      <td>0.106667</td>\n",
              "      <td>0.106667</td>\n",
              "      <td>0.113333</td>\n",
              "      <td>0.056667</td>\n",
              "      <td>0.060000</td>\n",
              "      <td>0.060000</td>\n",
              "      <td>95.294118</td>\n",
              "      <td>95.200000</td>\n",
              "      <td>37.000000</td>\n",
              "      <td>2.353416</td>\n",
              "      <td>359.687861</td>\n",
              "      <td>356.837450</td>\n",
              "      <td>18.660114</td>\n",
              "      <td>30.476042</td>\n",
              "      <td>4166.800000</td>\n",
              "      <td>24.285714</td>\n",
              "      <td>49.115667</td>\n",
              "    </tr>\n",
              "    <tr>\n",
              "      <th>max</th>\n",
              "      <td>49999.000000</td>\n",
              "      <td>82.550000</td>\n",
              "      <td>98.890000</td>\n",
              "      <td>81.000000</td>\n",
              "      <td>81.890000</td>\n",
              "      <td>9.556667</td>\n",
              "      <td>17.913333</td>\n",
              "      <td>104.550000</td>\n",
              "      <td>110.560000</td>\n",
              "      <td>108.170000</td>\n",
              "      <td>104.810000</td>\n",
              "      <td>35.680000</td>\n",
              "      <td>15.140000</td>\n",
              "      <td>1.000000</td>\n",
              "      <td>85.530000</td>\n",
              "      <td>112.200000</td>\n",
              "      <td>79.150000</td>\n",
              "      <td>105.950000</td>\n",
              "      <td>78.630000</td>\n",
              "      <td>105.150000</td>\n",
              "      <td>108.970000</td>\n",
              "      <td>103.590000</td>\n",
              "      <td>76.500000</td>\n",
              "      <td>106.320000</td>\n",
              "      <td>94.280000</td>\n",
              "      <td>107.570000</td>\n",
              "      <td>69.870000</td>\n",
              "      <td>104.640000</td>\n",
              "      <td>88.750000</td>\n",
              "      <td>112.430000</td>\n",
              "      <td>111.020000</td>\n",
              "      <td>105.390000</td>\n",
              "      <td>114.580000</td>\n",
              "      <td>106.500000</td>\n",
              "      <td>16.396667</td>\n",
              "      <td>22.723333</td>\n",
              "      <td>19.536667</td>\n",
              "      <td>15.876667</td>\n",
              "      <td>14.570000</td>\n",
              "      <td>22.106667</td>\n",
              "      <td>12.943333</td>\n",
              "      <td>145.388889</td>\n",
              "      <td>145.333333</td>\n",
              "      <td>2013.000000</td>\n",
              "      <td>38.000000</td>\n",
              "      <td>410.957692</td>\n",
              "      <td>420.486000</td>\n",
              "      <td>34.016667</td>\n",
              "      <td>60.746667</td>\n",
              "      <td>4208.900000</td>\n",
              "      <td>418.916667</td>\n",
              "      <td>94.763333</td>\n",
              "    </tr>\n",
              "  </tbody>\n",
              "</table>\n",
              "</div>"
            ],
            "text/plain": [
              "           deviceid  avg_time_charging_lag1  ...    piececount    cycle_time\n",
              "count  40500.000000            40500.000000  ...  40500.000000  40500.000000\n",
              "mean   27511.156593               16.274839  ...     20.526154     42.434462\n",
              "std    12992.647611               15.374342  ...     16.461988     10.321011\n",
              "min     5000.000000                1.510000  ...      1.000000      9.021111\n",
              "25%    16234.750000                4.910000  ...     11.333333     35.364068\n",
              "50%    27528.000000                5.770000  ...     16.500000     42.005895\n",
              "75%    38785.250000               30.100000  ...     24.285714     49.115667\n",
              "max    49999.000000               82.550000  ...    418.916667     94.763333\n",
              "\n",
              "[8 rows x 52 columns]"
            ]
          },
          "metadata": {
            "tags": []
          },
          "execution_count": 13
        }
      ]
    },
    {
      "cell_type": "code",
      "metadata": {
        "id": "SWGen3BsyndV",
        "colab": {
          "base_uri": "https://localhost:8080/"
        },
        "outputId": "862ffc16-598a-425d-a219-c1526255a944"
      },
      "source": [
        "# Finding correlations between variables \n",
        "corrMatrix = train_df.corr()\n",
        "print (corrMatrix)"
      ],
      "execution_count": null,
      "outputs": [
        {
          "output_type": "stream",
          "text": [
            "                             deviceid  ...  cycle_time\n",
            "deviceid                     1.000000  ...    0.001033\n",
            "avg_time_charging_lag1       0.004142  ...    0.238768\n",
            "avg_time_charging_lag2      -0.001142  ...    0.239353\n",
            "avg_time_charging_lag3       0.002691  ...    0.241052\n",
            "avg_time_charging_lag7       0.003595  ...    0.230744\n",
            "charging_rate_lag3          -0.004674  ...    0.004052\n",
            "charging_rate_lag7          -0.001515  ...    0.006446\n",
            "avg_time_discharging_lag1    0.004854  ...    0.239316\n",
            "avg_time_discharging_lag2   -0.000761  ...    0.242553\n",
            "avg_time_discharging_lag3    0.002166  ...    0.243864\n",
            "avg_time_discharging_lag7    0.004839  ...    0.232737\n",
            "discharging_rate_lag3       -0.007265  ...   -0.008349\n",
            "discharging_rate_lag7        0.002640  ...    0.003037\n",
            "fail_7                      -0.004251  ...   -0.058233\n",
            "charge_cycle_time_below_12   0.000475  ...   -0.186403\n",
            "avg_time_charging_lag4      -0.004359  ...    0.237138\n",
            "avg_time_discharging_lag4   -0.002377  ...    0.240096\n",
            "avg_time_charging_lag5      -0.004556  ...    0.241213\n",
            "avg_time_discharging_lag5   -0.004488  ...    0.242725\n",
            "avg_time_charging_lag6      -0.000765  ...    0.233763\n",
            "avg_time_discharging_lag6   -0.001180  ...    0.233891\n",
            "avg_time_charging_lag8       0.001562  ...    0.235329\n",
            "avg_time_discharging_lag8    0.000342  ...    0.236769\n",
            "avg_time_charging_lag9       0.002878  ...    0.225117\n",
            "avg_time_discharging_lag9    0.004073  ...    0.227176\n",
            "avg_time_charging_lag10     -0.003240  ...    0.227161\n",
            "avg_time_discharging_lag10  -0.002789  ...    0.228614\n",
            "avg_time_charging_lag11     -0.004680  ...    0.224688\n",
            "avg_time_discharging_lag11  -0.002914  ...    0.226490\n",
            "avg_time_charging_lag12      0.005239  ...    0.210514\n",
            "avg_time_discharging_lag12   0.003939  ...    0.212171\n",
            "avg_time_charging_lag13     -0.005608  ...    0.199078\n",
            "avg_time_discharging_lag13  -0.004703  ...    0.202585\n",
            "avg_time_charging_lag14      0.001466  ...    0.180500\n",
            "avg_time_discharging_lag14  -0.000497  ...    0.181745\n",
            "discharging_rate_lag4        0.007709  ...   -0.005696\n",
            "discharging_rate_lag5        0.002769  ...    0.001409\n",
            "discharging_rate_lag6       -0.004403  ...    0.006296\n",
            "discharging_rate_lag8       -0.007261  ...    0.001488\n",
            "charging_rate_lag4          -0.000034  ...    0.008615\n",
            "charging_rate_lag5           0.003283  ...    0.011644\n",
            "charging_rate_lag6          -0.002332  ...    0.002878\n",
            "chargecycles                 0.000911  ...   -0.813181\n",
            "dischargecycles              0.000777  ...   -0.813371\n",
            "total_off_time               0.009035  ...   -0.041706\n",
            "number_times_restart        -0.002188  ...   -0.056628\n",
            "avg_volt_change_charging     0.001162  ...   -0.322287\n",
            "avg_volt_change_discharging -0.000333  ...   -0.376812\n",
            "avg_time_charging            0.000704  ...    0.991492\n",
            "avg_time_discharging         0.001197  ...    0.997693\n",
            "max_voltage_day              0.000564  ...   -0.394485\n",
            "piececount                  -0.002132  ...    0.004765\n",
            "cycle_time                   0.001033  ...    1.000000\n",
            "\n",
            "[53 rows x 53 columns]\n"
          ],
          "name": "stdout"
        }
      ]
    },
    {
      "cell_type": "code",
      "metadata": {
        "id": "4xcNwobp6SzQ",
        "colab": {
          "base_uri": "https://localhost:8080/"
        },
        "outputId": "35a10240-f385-4fca-b694-bac4ad3eaf7f"
      },
      "source": [
        "# determine how variables correlate to \"fail_7\"(our prediction goal)\n",
        "df = pd.DataFrame(corrMatrix, columns = ['fail_7'])\n",
        "print(df)"
      ],
      "execution_count": null,
      "outputs": [
        {
          "output_type": "stream",
          "text": [
            "                               fail_7\n",
            "deviceid                    -0.004251\n",
            "avg_time_charging_lag1      -0.014580\n",
            "avg_time_charging_lag2      -0.003520\n",
            "avg_time_charging_lag3      -0.001927\n",
            "avg_time_charging_lag7       0.006473\n",
            "charging_rate_lag3           0.025426\n",
            "charging_rate_lag7          -0.004836\n",
            "avg_time_discharging_lag1   -0.015220\n",
            "avg_time_discharging_lag2   -0.003632\n",
            "avg_time_discharging_lag3   -0.003412\n",
            "avg_time_discharging_lag7    0.004956\n",
            "discharging_rate_lag3        0.041993\n",
            "discharging_rate_lag7       -0.006098\n",
            "fail_7                       1.000000\n",
            "charge_cycle_time_below_12   0.289355\n",
            "avg_time_charging_lag4      -0.000002\n",
            "avg_time_discharging_lag4    0.000938\n",
            "avg_time_charging_lag5       0.006742\n",
            "avg_time_discharging_lag5    0.006926\n",
            "avg_time_charging_lag6      -0.001274\n",
            "avg_time_discharging_lag6   -0.001032\n",
            "avg_time_charging_lag8       0.000811\n",
            "avg_time_discharging_lag8    0.001380\n",
            "avg_time_charging_lag9       0.000275\n",
            "avg_time_discharging_lag9    0.000878\n",
            "avg_time_charging_lag10      0.005180\n",
            "avg_time_discharging_lag10   0.005784\n",
            "avg_time_charging_lag11      0.005620\n",
            "avg_time_discharging_lag11   0.006319\n",
            "avg_time_charging_lag12      0.014228\n",
            "avg_time_discharging_lag12   0.014744\n",
            "avg_time_charging_lag13      0.001665\n",
            "avg_time_discharging_lag13   0.001842\n",
            "avg_time_charging_lag14      0.020534\n",
            "avg_time_discharging_lag14   0.020794\n",
            "discharging_rate_lag4        0.010832\n",
            "discharging_rate_lag5        0.003984\n",
            "discharging_rate_lag6        0.002177\n",
            "discharging_rate_lag8        0.004007\n",
            "charging_rate_lag4          -0.001544\n",
            "charging_rate_lag5           0.006105\n",
            "charging_rate_lag6           0.003669\n",
            "chargecycles                 0.058489\n",
            "dischargecycles              0.058476\n",
            "total_off_time               0.009120\n",
            "number_times_restart         0.022928\n",
            "avg_volt_change_charging     0.124680\n",
            "avg_volt_change_discharging  0.123395\n",
            "avg_time_charging           -0.059695\n",
            "avg_time_discharging        -0.057078\n",
            "max_voltage_day              0.105511\n",
            "piececount                   0.007645\n",
            "cycle_time                  -0.058233\n"
          ],
          "name": "stdout"
        }
      ]
    },
    {
      "cell_type": "code",
      "metadata": {
        "id": "x_rRF7f3YQM5",
        "colab": {
          "base_uri": "https://localhost:8080/"
        },
        "outputId": "be3c16cd-a089-48db-d408-a98eb0ea8eff"
      },
      "source": [
        "# convert index into column name \n",
        "df.reset_index(inplace=True)\n",
        "df = df.rename(columns = {'index':'predictors'})\n",
        "print(df)"
      ],
      "execution_count": null,
      "outputs": [
        {
          "output_type": "stream",
          "text": [
            "                     predictors    fail_7\n",
            "0                      deviceid -0.004251\n",
            "1        avg_time_charging_lag1 -0.014580\n",
            "2        avg_time_charging_lag2 -0.003520\n",
            "3        avg_time_charging_lag3 -0.001927\n",
            "4        avg_time_charging_lag7  0.006473\n",
            "5            charging_rate_lag3  0.025426\n",
            "6            charging_rate_lag7 -0.004836\n",
            "7     avg_time_discharging_lag1 -0.015220\n",
            "8     avg_time_discharging_lag2 -0.003632\n",
            "9     avg_time_discharging_lag3 -0.003412\n",
            "10    avg_time_discharging_lag7  0.004956\n",
            "11        discharging_rate_lag3  0.041993\n",
            "12        discharging_rate_lag7 -0.006098\n",
            "13                       fail_7  1.000000\n",
            "14   charge_cycle_time_below_12  0.289355\n",
            "15       avg_time_charging_lag4 -0.000002\n",
            "16    avg_time_discharging_lag4  0.000938\n",
            "17       avg_time_charging_lag5  0.006742\n",
            "18    avg_time_discharging_lag5  0.006926\n",
            "19       avg_time_charging_lag6 -0.001274\n",
            "20    avg_time_discharging_lag6 -0.001032\n",
            "21       avg_time_charging_lag8  0.000811\n",
            "22    avg_time_discharging_lag8  0.001380\n",
            "23       avg_time_charging_lag9  0.000275\n",
            "24    avg_time_discharging_lag9  0.000878\n",
            "25      avg_time_charging_lag10  0.005180\n",
            "26   avg_time_discharging_lag10  0.005784\n",
            "27      avg_time_charging_lag11  0.005620\n",
            "28   avg_time_discharging_lag11  0.006319\n",
            "29      avg_time_charging_lag12  0.014228\n",
            "30   avg_time_discharging_lag12  0.014744\n",
            "31      avg_time_charging_lag13  0.001665\n",
            "32   avg_time_discharging_lag13  0.001842\n",
            "33      avg_time_charging_lag14  0.020534\n",
            "34   avg_time_discharging_lag14  0.020794\n",
            "35        discharging_rate_lag4  0.010832\n",
            "36        discharging_rate_lag5  0.003984\n",
            "37        discharging_rate_lag6  0.002177\n",
            "38        discharging_rate_lag8  0.004007\n",
            "39           charging_rate_lag4 -0.001544\n",
            "40           charging_rate_lag5  0.006105\n",
            "41           charging_rate_lag6  0.003669\n",
            "42                 chargecycles  0.058489\n",
            "43              dischargecycles  0.058476\n",
            "44               total_off_time  0.009120\n",
            "45         number_times_restart  0.022928\n",
            "46     avg_volt_change_charging  0.124680\n",
            "47  avg_volt_change_discharging  0.123395\n",
            "48            avg_time_charging -0.059695\n",
            "49         avg_time_discharging -0.057078\n",
            "50              max_voltage_day  0.105511\n",
            "51                   piececount  0.007645\n",
            "52                   cycle_time -0.058233\n"
          ],
          "name": "stdout"
        }
      ]
    },
    {
      "cell_type": "code",
      "metadata": {
        "id": "q3WI5oQwFvjn",
        "colab": {
          "base_uri": "https://localhost:8080/"
        },
        "outputId": "8d6f58d9-49cd-4cd2-b561-aadb10565983"
      },
      "source": [
        "Predictors=df.head(53)\n",
        "print(Predictors)"
      ],
      "execution_count": null,
      "outputs": [
        {
          "output_type": "stream",
          "text": [
            "                     predictors    fail_7\n",
            "0                      deviceid -0.004251\n",
            "1        avg_time_charging_lag1 -0.014580\n",
            "2        avg_time_charging_lag2 -0.003520\n",
            "3        avg_time_charging_lag3 -0.001927\n",
            "4        avg_time_charging_lag7  0.006473\n",
            "5            charging_rate_lag3  0.025426\n",
            "6            charging_rate_lag7 -0.004836\n",
            "7     avg_time_discharging_lag1 -0.015220\n",
            "8     avg_time_discharging_lag2 -0.003632\n",
            "9     avg_time_discharging_lag3 -0.003412\n",
            "10    avg_time_discharging_lag7  0.004956\n",
            "11        discharging_rate_lag3  0.041993\n",
            "12        discharging_rate_lag7 -0.006098\n",
            "13                       fail_7  1.000000\n",
            "14   charge_cycle_time_below_12  0.289355\n",
            "15       avg_time_charging_lag4 -0.000002\n",
            "16    avg_time_discharging_lag4  0.000938\n",
            "17       avg_time_charging_lag5  0.006742\n",
            "18    avg_time_discharging_lag5  0.006926\n",
            "19       avg_time_charging_lag6 -0.001274\n",
            "20    avg_time_discharging_lag6 -0.001032\n",
            "21       avg_time_charging_lag8  0.000811\n",
            "22    avg_time_discharging_lag8  0.001380\n",
            "23       avg_time_charging_lag9  0.000275\n",
            "24    avg_time_discharging_lag9  0.000878\n",
            "25      avg_time_charging_lag10  0.005180\n",
            "26   avg_time_discharging_lag10  0.005784\n",
            "27      avg_time_charging_lag11  0.005620\n",
            "28   avg_time_discharging_lag11  0.006319\n",
            "29      avg_time_charging_lag12  0.014228\n",
            "30   avg_time_discharging_lag12  0.014744\n",
            "31      avg_time_charging_lag13  0.001665\n",
            "32   avg_time_discharging_lag13  0.001842\n",
            "33      avg_time_charging_lag14  0.020534\n",
            "34   avg_time_discharging_lag14  0.020794\n",
            "35        discharging_rate_lag4  0.010832\n",
            "36        discharging_rate_lag5  0.003984\n",
            "37        discharging_rate_lag6  0.002177\n",
            "38        discharging_rate_lag8  0.004007\n",
            "39           charging_rate_lag4 -0.001544\n",
            "40           charging_rate_lag5  0.006105\n",
            "41           charging_rate_lag6  0.003669\n",
            "42                 chargecycles  0.058489\n",
            "43              dischargecycles  0.058476\n",
            "44               total_off_time  0.009120\n",
            "45         number_times_restart  0.022928\n",
            "46     avg_volt_change_charging  0.124680\n",
            "47  avg_volt_change_discharging  0.123395\n",
            "48            avg_time_charging -0.059695\n",
            "49         avg_time_discharging -0.057078\n",
            "50              max_voltage_day  0.105511\n",
            "51                   piececount  0.007645\n",
            "52                   cycle_time -0.058233\n"
          ],
          "name": "stdout"
        }
      ]
    },
    {
      "cell_type": "code",
      "metadata": {
        "id": "OjpGlhtQYa-L",
        "colab": {
          "base_uri": "https://localhost:8080/"
        },
        "outputId": "952bea31-d8e4-4a83-e3cf-57ebd87063b3"
      },
      "source": [
        "# sorting dataframe based on value in \"fail_7\" (correlation) to determine predictor variables\n",
        "corr = Predictors.sort_values(by = 'fail_7',ascending=False)\n",
        "print(corr)"
      ],
      "execution_count": null,
      "outputs": [
        {
          "output_type": "stream",
          "text": [
            "                     predictors    fail_7\n",
            "13                       fail_7  1.000000\n",
            "14   charge_cycle_time_below_12  0.289355\n",
            "46     avg_volt_change_charging  0.124680\n",
            "47  avg_volt_change_discharging  0.123395\n",
            "50              max_voltage_day  0.105511\n",
            "42                 chargecycles  0.058489\n",
            "43              dischargecycles  0.058476\n",
            "11        discharging_rate_lag3  0.041993\n",
            "5            charging_rate_lag3  0.025426\n",
            "45         number_times_restart  0.022928\n",
            "34   avg_time_discharging_lag14  0.020794\n",
            "33      avg_time_charging_lag14  0.020534\n",
            "30   avg_time_discharging_lag12  0.014744\n",
            "29      avg_time_charging_lag12  0.014228\n",
            "35        discharging_rate_lag4  0.010832\n",
            "44               total_off_time  0.009120\n",
            "51                   piececount  0.007645\n",
            "18    avg_time_discharging_lag5  0.006926\n",
            "17       avg_time_charging_lag5  0.006742\n",
            "4        avg_time_charging_lag7  0.006473\n",
            "28   avg_time_discharging_lag11  0.006319\n",
            "40           charging_rate_lag5  0.006105\n",
            "26   avg_time_discharging_lag10  0.005784\n",
            "27      avg_time_charging_lag11  0.005620\n",
            "25      avg_time_charging_lag10  0.005180\n",
            "10    avg_time_discharging_lag7  0.004956\n",
            "38        discharging_rate_lag8  0.004007\n",
            "36        discharging_rate_lag5  0.003984\n",
            "41           charging_rate_lag6  0.003669\n",
            "37        discharging_rate_lag6  0.002177\n",
            "32   avg_time_discharging_lag13  0.001842\n",
            "31      avg_time_charging_lag13  0.001665\n",
            "22    avg_time_discharging_lag8  0.001380\n",
            "16    avg_time_discharging_lag4  0.000938\n",
            "24    avg_time_discharging_lag9  0.000878\n",
            "21       avg_time_charging_lag8  0.000811\n",
            "23       avg_time_charging_lag9  0.000275\n",
            "15       avg_time_charging_lag4 -0.000002\n",
            "20    avg_time_discharging_lag6 -0.001032\n",
            "19       avg_time_charging_lag6 -0.001274\n",
            "39           charging_rate_lag4 -0.001544\n",
            "3        avg_time_charging_lag3 -0.001927\n",
            "9     avg_time_discharging_lag3 -0.003412\n",
            "2        avg_time_charging_lag2 -0.003520\n",
            "8     avg_time_discharging_lag2 -0.003632\n",
            "0                      deviceid -0.004251\n",
            "6            charging_rate_lag7 -0.004836\n",
            "12        discharging_rate_lag7 -0.006098\n",
            "1        avg_time_charging_lag1 -0.014580\n",
            "7     avg_time_discharging_lag1 -0.015220\n",
            "49         avg_time_discharging -0.057078\n",
            "52                   cycle_time -0.058233\n",
            "48            avg_time_charging -0.059695\n"
          ],
          "name": "stdout"
        }
      ]
    },
    {
      "cell_type": "code",
      "metadata": {
        "id": "PZ1YEsvIIRnz",
        "colab": {
          "base_uri": "https://localhost:8080/",
          "height": 273
        },
        "outputId": "78379657-a4d1-4d90-94af-1f800fcb30c0"
      },
      "source": [
        "Predictors.plot.scatter(x='predictors', y='fail_7', c='fail_7', colormap='viridis')"
      ],
      "execution_count": null,
      "outputs": [
        {
          "output_type": "execute_result",
          "data": {
            "text/plain": [
              "<matplotlib.axes._subplots.AxesSubplot at 0x7f51f4ebf690>"
            ]
          },
          "metadata": {
            "tags": []
          },
          "execution_count": 19
        },
        {
          "output_type": "display_data",
          "data": {
            "image/png": "[encoded data removed]",
            "text/plain": [
              "<Figure size 432x288 with 2 Axes>"
            ]
          },
          "metadata": {
            "tags": [],
            "needs_background": "light"
          }
        }
      ]
    },
    {
      "cell_type": "code",
      "metadata": {
        "id": "a3BpXR7P-8Cz"
      },
      "source": [
        "# Plot the variable fail_7? How is the data distributed?\n",
        "\n",
        "train_df['fail_7'].hist()"
      ],
      "execution_count": null,
      "outputs": []
    },
    {
      "cell_type": "code",
      "metadata": {
        "id": "0CCMsoZ5_ASd"
      },
      "source": [
        "train_df['charge_cycle_time_below_12'].hist()"
      ],
      "execution_count": null,
      "outputs": []
    },
    {
      "cell_type": "code",
      "metadata": {
        "id": "G2W_vTmr_Dut"
      },
      "source": [
        "train_df['cycle_time'].hist()"
      ],
      "execution_count": null,
      "outputs": []
    },
    {
      "cell_type": "code",
      "metadata": {
        "id": "bJ9sqtc__KUB"
      },
      "source": [
        "train_df['max_voltage_day'].hist()"
      ],
      "execution_count": null,
      "outputs": []
    },
    {
      "cell_type": "code",
      "metadata": {
        "id": "NMgCEvAD_Niq"
      },
      "source": [
        "train_df['number_times_restart'].hist()"
      ],
      "execution_count": null,
      "outputs": []
    },
    {
      "cell_type": "code",
      "metadata": {
        "id": "fYYH7RK_9Rtj",
        "colab": {
          "base_uri": "https://localhost:8080/",
          "height": 402
        },
        "outputId": "a69465ed-1c75-4834-840a-fdf254d29bcb"
      },
      "source": [
        "sns.heatmap(train_df.corr(), annot=True )\n",
        "plt.show()"
      ],
      "execution_count": null,
      "outputs": [
        {
          "output_type": "display_data",
          "data": {
            "image/png": "[encoded data removed]",
            "text/plain": [
              "<Figure size 432x288 with 2 Axes>"
            ]
          },
          "metadata": {
            "tags": [],
            "needs_background": "light"
          }
        }
      ]
    },
    {
      "cell_type": "markdown",
      "metadata": {
        "id": "DWJcZA7KbTd0"
      },
      "source": [
        "**convert bool value to interger**"
      ]
    },
    {
      "cell_type": "code",
      "metadata": {
        "id": "TcarpoP9bJWh",
        "colab": {
          "base_uri": "https://localhost:8080/"
        },
        "outputId": "d018de5d-1308-47a4-cae1-2f908ead07fc"
      },
      "source": [
        "train_df[\"charge_cycle_time_below_12\"] = np.multiply(train_df[\"charge_cycle_time_below_12\"], 1)  # Normalizing \n",
        "print(train_df[\"charge_cycle_time_below_12\"])"
      ],
      "execution_count": null,
      "outputs": [
        {
          "output_type": "stream",
          "text": [
            "0        0\n",
            "1        0\n",
            "2        0\n",
            "3        0\n",
            "4        1\n",
            "        ..\n",
            "40495    1\n",
            "40496    1\n",
            "40497    1\n",
            "40498    1\n",
            "40499    1\n",
            "Name: charge_cycle_time_below_12, Length: 40500, dtype: int64\n"
          ],
          "name": "stdout"
        }
      ]
    },
    {
      "cell_type": "markdown",
      "metadata": {
        "id": "M_emwQsBrc1l"
      },
      "source": [
        "**feature importance selection**"
      ]
    },
    {
      "cell_type": "code",
      "metadata": {
        "id": "GgJlDQovbJEC"
      },
      "source": [
        "first_column = train_df.pop('fail_7')\n",
        "  \n",
        "# insert column using insert(position,column_name,\n",
        "# first_column) function\n",
        "train_df.insert(0, 'fail_7', first_column)"
      ],
      "execution_count": null,
      "outputs": []
    },
    {
      "cell_type": "code",
      "metadata": {
        "id": "Np4fwA95NC4m",
        "colab": {
          "base_uri": "https://localhost:8080/",
          "height": 423
        },
        "outputId": "651a38f1-e5f2-4049-b972-60c40efb6d55"
      },
      "source": [
        "from sklearn.ensemble import ExtraTreesClassifier\n",
        "import matplotlib.pyplot as plt\n",
        "X = train_df.iloc[:,1:52]  #independent columns\n",
        "y = train_df.iloc[:,0]    #target column \n",
        "model = ExtraTreesClassifier()\n",
        "model.fit(X,y)\n",
        "print(model.feature_importances_) #use inbuilt class feature_importances of tree based classifiers\n",
        "#plot graph of feature importances for better visualization\n",
        "feat_importances = pd.Series(model.feature_importances_, index=X.columns)\n",
        "feat_importances.nlargest(10).plot(kind='barh')\n",
        "plt.show()"
      ],
      "execution_count": null,
      "outputs": [
        {
          "output_type": "stream",
          "text": [
            "[0.01892628 0.01707738 0.0172454  0.01711974 0.01790434 0.01904267\n",
            " 0.01680728 0.01712776 0.01725546 0.0172934  0.0177672  0.04027846\n",
            " 0.01726213 0.07882413 0.01707181 0.01733088 0.01763126 0.01735563\n",
            " 0.01729597 0.01737043 0.01759812 0.01782014 0.01737963 0.01757976\n",
            " 0.01784687 0.01786421 0.01774765 0.01785845 0.01771321 0.01775438\n",
            " 0.01782563 0.01742143 0.01832244 0.01813742 0.0171816  0.01723472\n",
            " 0.01743632 0.01716837 0.0171434  0.0171095  0.01735133 0.01794139\n",
            " 0.01765055 0.01865416 0.01856881 0.02416084 0.02342749 0.01824474\n",
            " 0.01809798 0.02114651 0.01862532]\n"
          ],
          "name": "stdout"
        },
        {
          "output_type": "display_data",
          "data": {
            "image/png": "[encoded data removed]",
            "text/plain": [
              "<Figure size 432x288 with 1 Axes>"
            ]
          },
          "metadata": {
            "tags": [],
            "needs_background": "light"
          }
        }
      ]
    },
    {
      "cell_type": "markdown",
      "metadata": {
        "id": "zRU1jg5XRfQ5"
      },
      "source": [
        "**Create a model and train it**"
      ]
    },
    {
      "cell_type": "markdown",
      "metadata": {
        "id": "ROBxSF65RyNP"
      },
      "source": [
        "using the first variable \"charge_cycle_time_below_12\"\n"
      ]
    },
    {
      "cell_type": "code",
      "metadata": {
        "id": "VLvKQQHIRZRF"
      },
      "source": [
        "train_df=train_df.rename(columns={\"fail_7\":\"Y\",\"charge_cycle_time_below_12\": \"x1\"})"
      ],
      "execution_count": null,
      "outputs": []
    },
    {
      "cell_type": "code",
      "metadata": {
        "id": "X5LKxxy2RotN"
      },
      "source": [
        "x1=train_df.x1.values\n",
        "x1=x1.reshape(-1,1) # converting from 1D array to 2D array\n",
        "Y=train_df.Y"
      ],
      "execution_count": null,
      "outputs": []
    },
    {
      "cell_type": "code",
      "metadata": {
        "id": "bFibFw6gRt1n"
      },
      "source": [
        "from sklearn.linear_model import LogisticRegression\n",
        "from sklearn.metrics import classification_report, confusion_matrix\n",
        "\n",
        "prediction_model = LogisticRegression(solver='liblinear', random_state=0)"
      ],
      "execution_count": null,
      "outputs": []
    },
    {
      "cell_type": "code",
      "metadata": {
        "id": "4JNZDJH_R93E",
        "colab": {
          "base_uri": "https://localhost:8080/"
        },
        "outputId": "344dc0ca-487a-4689-dd2b-a0bb0d555144"
      },
      "source": [
        "prediction_model.fit(x1,Y)"
      ],
      "execution_count": null,
      "outputs": [
        {
          "output_type": "execute_result",
          "data": {
            "text/plain": [
              "LogisticRegression(C=1.0, class_weight=None, dual=False, fit_intercept=True,\n",
              "                   intercept_scaling=1, l1_ratio=None, max_iter=100,\n",
              "                   multi_class='auto', n_jobs=None, penalty='l2',\n",
              "                   random_state=0, solver='liblinear', tol=0.0001, verbose=0,\n",
              "                   warm_start=False)"
            ]
          },
          "metadata": {
            "tags": []
          },
          "execution_count": 29
        }
      ]
    },
    {
      "cell_type": "markdown",
      "metadata": {
        "id": "HYl45FaHSad4"
      },
      "source": [
        "evaluate the model "
      ]
    },
    {
      "cell_type": "code",
      "metadata": {
        "id": "m3rbUQHgR-Hn",
        "colab": {
          "base_uri": "https://localhost:8080/"
        },
        "outputId": "364c324c-94c8-466e-ab35-982edf723481"
      },
      "source": [
        "prediction_model.intercept_"
      ],
      "execution_count": null,
      "outputs": [
        {
          "output_type": "execute_result",
          "data": {
            "text/plain": [
              "array([-2.36799751])"
            ]
          },
          "metadata": {
            "tags": []
          },
          "execution_count": 30
        }
      ]
    },
    {
      "cell_type": "markdown",
      "metadata": {
        "id": "ssHAQiGnSc2n"
      },
      "source": [
        ""
      ]
    },
    {
      "cell_type": "code",
      "metadata": {
        "id": "FcUXI5CuSUmS",
        "colab": {
          "base_uri": "https://localhost:8080/"
        },
        "outputId": "219f13f1-b240-46da-ba4f-0c5ddaf9e2e6"
      },
      "source": [
        "prediction_model.coef_"
      ],
      "execution_count": null,
      "outputs": [
        {
          "output_type": "execute_result",
          "data": {
            "text/plain": [
              "array([[1.67679186]])"
            ]
          },
          "metadata": {
            "tags": []
          },
          "execution_count": 31
        }
      ]
    },
    {
      "cell_type": "code",
      "metadata": {
        "id": "qcUuaxIKSY6F",
        "colab": {
          "base_uri": "https://localhost:8080/"
        },
        "outputId": "e539b0fd-0f22-497e-ed83-120cf483cf6a"
      },
      "source": [
        "#get the actual predictions, based on the probability matrix and the values of 𝑝(𝑥)\n",
        "prediction_model.predict(x1)"
      ],
      "execution_count": null,
      "outputs": [
        {
          "output_type": "execute_result",
          "data": {
            "text/plain": [
              "array([0, 0, 0, ..., 0, 0, 0])"
            ]
          },
          "metadata": {
            "tags": []
          },
          "execution_count": 32
        }
      ]
    },
    {
      "cell_type": "code",
      "metadata": {
        "id": "Ga2XJJflSW95",
        "colab": {
          "base_uri": "https://localhost:8080/"
        },
        "outputId": "a1be9c2f-74fb-4275-d5fc-0671a046e36f"
      },
      "source": [
        "#the accuracy of your model\n",
        "prediction_model.score(x1,Y)"
      ],
      "execution_count": null,
      "outputs": [
        {
          "output_type": "execute_result",
          "data": {
            "text/plain": [
              "0.7678765432098765"
            ]
          },
          "metadata": {
            "tags": []
          },
          "execution_count": 33
        }
      ]
    },
    {
      "cell_type": "markdown",
      "metadata": {
        "id": "dVVhzOsYSlzO"
      },
      "source": [
        "**summary of model with first variable** "
      ]
    },
    {
      "cell_type": "code",
      "metadata": {
        "id": "58o9vlwJSlTG",
        "colab": {
          "base_uri": "https://localhost:8080/"
        },
        "outputId": "9480e7cd-f7aa-4b9f-d266-5e4b9d2de67a"
      },
      "source": [
        "report=classification_report(Y, prediction_model.predict(x1))\n",
        "print(report)"
      ],
      "execution_count": null,
      "outputs": [
        {
          "output_type": "stream",
          "text": [
            "              precision    recall  f1-score   support\n",
            "\n",
            "           0       0.77      1.00      0.87     31099\n",
            "           1       0.00      0.00      0.00      9401\n",
            "\n",
            "    accuracy                           0.77     40500\n",
            "   macro avg       0.38      0.50      0.43     40500\n",
            "weighted avg       0.59      0.77      0.67     40500\n",
            "\n"
          ],
          "name": "stdout"
        },
        {
          "output_type": "stream",
          "text": [
            "/usr/local/lib/python3.7/dist-packages/sklearn/metrics/_classification.py:1272: UndefinedMetricWarning: Precision and F-score are ill-defined and being set to 0.0 in labels with no predicted samples. Use `zero_division` parameter to control this behavior.\n",
            "  _warn_prf(average, modifier, msg_start, len(result))\n"
          ],
          "name": "stderr"
        }
      ]
    },
    {
      "cell_type": "markdown",
      "metadata": {
        "id": "9VBBuKTrGXJE"
      },
      "source": [
        "**StatsModels and Variable selection**"
      ]
    },
    {
      "cell_type": "code",
      "metadata": {
        "id": "9ukhee2RGXs3",
        "colab": {
          "base_uri": "https://localhost:8080/"
        },
        "outputId": "02ba320c-ba97-4be2-b571-d2a1fc87fb0a"
      },
      "source": [
        "import statsmodels.api as sm\n",
        "import statsmodels.formula.api as smf"
      ],
      "execution_count": null,
      "outputs": [
        {
          "output_type": "stream",
          "text": [
            "/usr/local/lib/python3.7/dist-packages/statsmodels/tools/_testing.py:19: FutureWarning: pandas.util.testing is deprecated. Use the functions in the public API at pandas.testing instead.\n",
            "  import pandas.util.testing as tm\n"
          ],
          "name": "stderr"
        }
      ]
    },
    {
      "cell_type": "markdown",
      "metadata": {
        "id": "FXkBsHNFGy6e"
      },
      "source": [
        "one variable model\n",
        "\n"
      ]
    },
    {
      "cell_type": "code",
      "metadata": {
        "id": "5O6Ng75HGsDH",
        "colab": {
          "base_uri": "https://localhost:8080/"
        },
        "outputId": "55690d9d-4c0b-4683-e6e6-f5f6f8302326"
      },
      "source": [
        "x1=train_df.x1\n",
        "Y=train_df.Y\n",
        "x1 = sm.add_constant(x1)\n",
        "sm_model = sm.Logit(Y, x1)\n",
        "\n",
        "result = sm_model.fit(method='newton')"
      ],
      "execution_count": null,
      "outputs": [
        {
          "output_type": "stream",
          "text": [
            "Optimization terminated successfully.\n",
            "         Current function value: 0.495575\n",
            "         Iterations 6\n"
          ],
          "name": "stdout"
        }
      ]
    },
    {
      "cell_type": "code",
      "metadata": {
        "id": "W_qvhuaEHCHn",
        "colab": {
          "base_uri": "https://localhost:8080/",
          "height": 246
        },
        "outputId": "62e48add-6d10-4967-86eb-eb18fae9a2e7"
      },
      "source": [
        "result.summary()"
      ],
      "execution_count": null,
      "outputs": [
        {
          "output_type": "execute_result",
          "data": {
            "text/html": [
              "<table class=\"simpletable\">\n",
              "<caption>Logit Regression Results</caption>\n",
              "<tr>\n",
              "  <th>Dep. Variable:</th>           <td>Y</td>        <th>  No. Observations:  </th>  <td> 40500</td> \n",
              "</tr>\n",
              "<tr>\n",
              "  <th>Model:</th>                 <td>Logit</td>      <th>  Df Residuals:      </th>  <td> 40498</td> \n",
              "</tr>\n",
              "<tr>\n",
              "  <th>Method:</th>                 <td>MLE</td>       <th>  Df Model:          </th>  <td>     1</td> \n",
              "</tr>\n",
              "<tr>\n",
              "  <th>Date:</th>            <td>Wed, 28 Apr 2021</td> <th>  Pseudo R-squ.:     </th>  <td>0.08537</td>\n",
              "</tr>\n",
              "<tr>\n",
              "  <th>Time:</th>                <td>20:39:08</td>     <th>  Log-Likelihood:    </th> <td> -20071.</td>\n",
              "</tr>\n",
              "<tr>\n",
              "  <th>converged:</th>             <td>True</td>       <th>  LL-Null:           </th> <td> -21944.</td>\n",
              "</tr>\n",
              "<tr>\n",
              "  <th>Covariance Type:</th>     <td>nonrobust</td>    <th>  LLR p-value:       </th>  <td> 0.000</td> \n",
              "</tr>\n",
              "</table>\n",
              "<table class=\"simpletable\">\n",
              "<tr>\n",
              "    <td></td>       <th>coef</th>     <th>std err</th>      <th>z</th>      <th>P>|z|</th>  <th>[0.025</th>    <th>0.975]</th>  \n",
              "</tr>\n",
              "<tr>\n",
              "  <th>const</th> <td>   -2.3712</td> <td>    0.028</td> <td>  -85.331</td> <td> 0.000</td> <td>   -2.426</td> <td>   -2.317</td>\n",
              "</tr>\n",
              "<tr>\n",
              "  <th>x1</th>    <td>    1.6803</td> <td>    0.031</td> <td>   54.226</td> <td> 0.000</td> <td>    1.620</td> <td>    1.741</td>\n",
              "</tr>\n",
              "</table>"
            ],
            "text/plain": [
              "<class 'statsmodels.iolib.summary.Summary'>\n",
              "\"\"\"\n",
              "                           Logit Regression Results                           \n",
              "==============================================================================\n",
              "Dep. Variable:                      Y   No. Observations:                40500\n",
              "Model:                          Logit   Df Residuals:                    40498\n",
              "Method:                           MLE   Df Model:                            1\n",
              "Date:                Wed, 28 Apr 2021   Pseudo R-squ.:                 0.08537\n",
              "Time:                        20:39:08   Log-Likelihood:                -20071.\n",
              "converged:                       True   LL-Null:                       -21944.\n",
              "Covariance Type:            nonrobust   LLR p-value:                     0.000\n",
              "==============================================================================\n",
              "                 coef    std err          z      P>|z|      [0.025      0.975]\n",
              "------------------------------------------------------------------------------\n",
              "const         -2.3712      0.028    -85.331      0.000      -2.426      -2.317\n",
              "x1             1.6803      0.031     54.226      0.000       1.620       1.741\n",
              "==============================================================================\n",
              "\"\"\""
            ]
          },
          "metadata": {
            "tags": []
          },
          "execution_count": 37
        }
      ]
    },
    {
      "cell_type": "markdown",
      "metadata": {
        "id": "onU9s_hRHZS1"
      },
      "source": [
        "**multivariate logistic regression**"
      ]
    },
    {
      "cell_type": "code",
      "metadata": {
        "id": "KJpqcp5rHZDe"
      },
      "source": [
        "x2=train_df[\"discharging_rate_lag3\"]\n",
        "x3=train_df[\"avg_volt_change_charging\"]\n",
        "x4=train_df[\"avg_volt_change_discharging\"]\n",
        "x5=train_df[\"max_voltage_day\"] \n",
        "x6=train_df[\"charging_rate_lag3\"]\n",
        "x7=train_df[\"total_off_time\"]  \n",
        "x8=train_df[\"number_times_restart\"]\n",
        "x9=train_df[\"deviceid\"]\n",
        "x10=train_df[\"piececount\"]"
      ],
      "execution_count": null,
      "outputs": []
    },
    {
      "cell_type": "code",
      "metadata": {
        "id": "PLMlDryjHY2m",
        "colab": {
          "base_uri": "https://localhost:8080/",
          "height": 486
        },
        "outputId": "dd0669a1-b493-4715-9944-0f9df945e196"
      },
      "source": [
        "sm_model_2 = smf.mnlogit('Y ~ x1+x2+x3+x4+x5+x6+x7+x8+x9+x10 ', train_df)\n",
        "result_2 = sm_model_2.fit(method='newton')\n",
        "\n",
        "result_2.summary()"
      ],
      "execution_count": null,
      "outputs": [
        {
          "output_type": "stream",
          "text": [
            "Optimization terminated successfully.\n",
            "         Current function value: 0.487817\n",
            "         Iterations 7\n"
          ],
          "name": "stdout"
        },
        {
          "output_type": "execute_result",
          "data": {
            "text/html": [
              "<table class=\"simpletable\">\n",
              "<caption>MNLogit Regression Results</caption>\n",
              "<tr>\n",
              "  <th>Dep. Variable:</th>           <td>Y</td>        <th>  No. Observations:  </th>  <td> 40500</td> \n",
              "</tr>\n",
              "<tr>\n",
              "  <th>Model:</th>                <td>MNLogit</td>     <th>  Df Residuals:      </th>  <td> 40489</td> \n",
              "</tr>\n",
              "<tr>\n",
              "  <th>Method:</th>                 <td>MLE</td>       <th>  Df Model:          </th>  <td>    10</td> \n",
              "</tr>\n",
              "<tr>\n",
              "  <th>Date:</th>            <td>Wed, 28 Apr 2021</td> <th>  Pseudo R-squ.:     </th>  <td>0.09969</td>\n",
              "</tr>\n",
              "<tr>\n",
              "  <th>Time:</th>                <td>20:39:12</td>     <th>  Log-Likelihood:    </th> <td> -19757.</td>\n",
              "</tr>\n",
              "<tr>\n",
              "  <th>converged:</th>             <td>True</td>       <th>  LL-Null:           </th> <td> -21944.</td>\n",
              "</tr>\n",
              "<tr>\n",
              "  <th>Covariance Type:</th>     <td>nonrobust</td>    <th>  LLR p-value:       </th>  <td> 0.000</td> \n",
              "</tr>\n",
              "</table>\n",
              "<table class=\"simpletable\">\n",
              "<tr>\n",
              "     <th>Y=1</th>       <th>coef</th>     <th>std err</th>      <th>z</th>      <th>P>|z|</th>  <th>[0.025</th>    <th>0.975]</th>  \n",
              "</tr>\n",
              "<tr>\n",
              "  <th>Intercept</th> <td>   40.2939</td> <td>   10.136</td> <td>    3.975</td> <td> 0.000</td> <td>   20.427</td> <td>   60.161</td>\n",
              "</tr>\n",
              "<tr>\n",
              "  <th>x1</th>        <td>    1.6781</td> <td>    0.031</td> <td>   53.587</td> <td> 0.000</td> <td>    1.617</td> <td>    1.739</td>\n",
              "</tr>\n",
              "<tr>\n",
              "  <th>x2</th>        <td>    0.0892</td> <td>    0.015</td> <td>    6.099</td> <td> 0.000</td> <td>    0.061</td> <td>    0.118</td>\n",
              "</tr>\n",
              "<tr>\n",
              "  <th>x3</th>        <td>    0.0370</td> <td>    0.005</td> <td>    8.126</td> <td> 0.000</td> <td>    0.028</td> <td>    0.046</td>\n",
              "</tr>\n",
              "<tr>\n",
              "  <th>x4</th>        <td>   -0.0047</td> <td>    0.004</td> <td>   -1.169</td> <td> 0.242</td> <td>   -0.013</td> <td>    0.003</td>\n",
              "</tr>\n",
              "<tr>\n",
              "  <th>x5</th>        <td>   -0.0130</td> <td>    0.003</td> <td>   -4.977</td> <td> 0.000</td> <td>   -0.018</td> <td>   -0.008</td>\n",
              "</tr>\n",
              "<tr>\n",
              "  <th>x6</th>        <td>    0.0750</td> <td>    0.028</td> <td>    2.677</td> <td> 0.007</td> <td>    0.020</td> <td>    0.130</td>\n",
              "</tr>\n",
              "<tr>\n",
              "  <th>x7</th>        <td>   -0.0004</td> <td>    0.000</td> <td>   -1.127</td> <td> 0.260</td> <td>   -0.001</td> <td>    0.000</td>\n",
              "</tr>\n",
              "<tr>\n",
              "  <th>x8</th>        <td>    0.0135</td> <td>    0.005</td> <td>    2.455</td> <td> 0.014</td> <td>    0.003</td> <td>    0.024</td>\n",
              "</tr>\n",
              "<tr>\n",
              "  <th>x9</th>        <td>-9.135e-07</td> <td> 9.56e-07</td> <td>   -0.955</td> <td> 0.339</td> <td>-2.79e-06</td> <td> 9.61e-07</td>\n",
              "</tr>\n",
              "<tr>\n",
              "  <th>x10</th>       <td>    0.0007</td> <td>    0.001</td> <td>    1.006</td> <td> 0.314</td> <td>   -0.001</td> <td>    0.002</td>\n",
              "</tr>\n",
              "</table>"
            ],
            "text/plain": [
              "<class 'statsmodels.iolib.summary.Summary'>\n",
              "\"\"\"\n",
              "                          MNLogit Regression Results                          \n",
              "==============================================================================\n",
              "Dep. Variable:                      Y   No. Observations:                40500\n",
              "Model:                        MNLogit   Df Residuals:                    40489\n",
              "Method:                           MLE   Df Model:                           10\n",
              "Date:                Wed, 28 Apr 2021   Pseudo R-squ.:                 0.09969\n",
              "Time:                        20:39:12   Log-Likelihood:                -19757.\n",
              "converged:                       True   LL-Null:                       -21944.\n",
              "Covariance Type:            nonrobust   LLR p-value:                     0.000\n",
              "==============================================================================\n",
              "       Y=1       coef    std err          z      P>|z|      [0.025      0.975]\n",
              "------------------------------------------------------------------------------\n",
              "Intercept     40.2939     10.136      3.975      0.000      20.427      60.161\n",
              "x1             1.6781      0.031     53.587      0.000       1.617       1.739\n",
              "x2             0.0892      0.015      6.099      0.000       0.061       0.118\n",
              "x3             0.0370      0.005      8.126      0.000       0.028       0.046\n",
              "x4            -0.0047      0.004     -1.169      0.242      -0.013       0.003\n",
              "x5            -0.0130      0.003     -4.977      0.000      -0.018      -0.008\n",
              "x6             0.0750      0.028      2.677      0.007       0.020       0.130\n",
              "x7            -0.0004      0.000     -1.127      0.260      -0.001       0.000\n",
              "x8             0.0135      0.005      2.455      0.014       0.003       0.024\n",
              "x9         -9.135e-07   9.56e-07     -0.955      0.339   -2.79e-06    9.61e-07\n",
              "x10            0.0007      0.001      1.006      0.314      -0.001       0.002\n",
              "==============================================================================\n",
              "\"\"\""
            ]
          },
          "metadata": {
            "tags": []
          },
          "execution_count": 39
        }
      ]
    },
    {
      "cell_type": "markdown",
      "metadata": {
        "id": "uiqLgT9eIgsE"
      },
      "source": [
        "**improve model by dropping insignificant variables**"
      ]
    },
    {
      "cell_type": "code",
      "metadata": {
        "id": "Tfr_uS8uIeBj",
        "colab": {
          "base_uri": "https://localhost:8080/",
          "height": 361
        },
        "outputId": "e1795eed-ed57-40fa-efbc-f35358773cef"
      },
      "source": [
        "sm_model_final= smf.mnlogit('Y ~ x1+x2+x3+x5', train_df)\n",
        "result_final = sm_model_final.fit(method='newton')\n",
        "\n",
        "result_final.summary()"
      ],
      "execution_count": null,
      "outputs": [
        {
          "output_type": "stream",
          "text": [
            "Optimization terminated successfully.\n",
            "         Current function value: 0.488043\n",
            "         Iterations 7\n"
          ],
          "name": "stdout"
        },
        {
          "output_type": "execute_result",
          "data": {
            "text/html": [
              "<table class=\"simpletable\">\n",
              "<caption>MNLogit Regression Results</caption>\n",
              "<tr>\n",
              "  <th>Dep. Variable:</th>           <td>Y</td>        <th>  No. Observations:  </th>  <td> 40500</td> \n",
              "</tr>\n",
              "<tr>\n",
              "  <th>Model:</th>                <td>MNLogit</td>     <th>  Df Residuals:      </th>  <td> 40495</td> \n",
              "</tr>\n",
              "<tr>\n",
              "  <th>Method:</th>                 <td>MLE</td>       <th>  Df Model:          </th>  <td>     4</td> \n",
              "</tr>\n",
              "<tr>\n",
              "  <th>Date:</th>            <td>Wed, 28 Apr 2021</td> <th>  Pseudo R-squ.:     </th>  <td>0.09927</td>\n",
              "</tr>\n",
              "<tr>\n",
              "  <th>Time:</th>                <td>20:39:15</td>     <th>  Log-Likelihood:    </th> <td> -19766.</td>\n",
              "</tr>\n",
              "<tr>\n",
              "  <th>converged:</th>             <td>True</td>       <th>  LL-Null:           </th> <td> -21944.</td>\n",
              "</tr>\n",
              "<tr>\n",
              "  <th>Covariance Type:</th>     <td>nonrobust</td>    <th>  LLR p-value:       </th>  <td> 0.000</td> \n",
              "</tr>\n",
              "</table>\n",
              "<table class=\"simpletable\">\n",
              "<tr>\n",
              "     <th>Y=1</th>       <th>coef</th>     <th>std err</th>      <th>z</th>      <th>P>|z|</th>  <th>[0.025</th>    <th>0.975]</th>  \n",
              "</tr>\n",
              "<tr>\n",
              "  <th>Intercept</th> <td>   39.5462</td> <td>   10.102</td> <td>    3.915</td> <td> 0.000</td> <td>   19.747</td> <td>   59.345</td>\n",
              "</tr>\n",
              "<tr>\n",
              "  <th>x1</th>        <td>    1.6766</td> <td>    0.031</td> <td>   53.620</td> <td> 0.000</td> <td>    1.615</td> <td>    1.738</td>\n",
              "</tr>\n",
              "<tr>\n",
              "  <th>x2</th>        <td>    0.1033</td> <td>    0.014</td> <td>    7.505</td> <td> 0.000</td> <td>    0.076</td> <td>    0.130</td>\n",
              "</tr>\n",
              "<tr>\n",
              "  <th>x3</th>        <td>    0.0322</td> <td>    0.002</td> <td>   14.017</td> <td> 0.000</td> <td>    0.028</td> <td>    0.037</td>\n",
              "</tr>\n",
              "<tr>\n",
              "  <th>x5</th>        <td>   -0.0128</td> <td>    0.003</td> <td>   -4.919</td> <td> 0.000</td> <td>   -0.018</td> <td>   -0.008</td>\n",
              "</tr>\n",
              "</table>"
            ],
            "text/plain": [
              "<class 'statsmodels.iolib.summary.Summary'>\n",
              "\"\"\"\n",
              "                          MNLogit Regression Results                          \n",
              "==============================================================================\n",
              "Dep. Variable:                      Y   No. Observations:                40500\n",
              "Model:                        MNLogit   Df Residuals:                    40495\n",
              "Method:                           MLE   Df Model:                            4\n",
              "Date:                Wed, 28 Apr 2021   Pseudo R-squ.:                 0.09927\n",
              "Time:                        20:39:15   Log-Likelihood:                -19766.\n",
              "converged:                       True   LL-Null:                       -21944.\n",
              "Covariance Type:            nonrobust   LLR p-value:                     0.000\n",
              "==============================================================================\n",
              "       Y=1       coef    std err          z      P>|z|      [0.025      0.975]\n",
              "------------------------------------------------------------------------------\n",
              "Intercept     39.5462     10.102      3.915      0.000      19.747      59.345\n",
              "x1             1.6766      0.031     53.620      0.000       1.615       1.738\n",
              "x2             0.1033      0.014      7.505      0.000       0.076       0.130\n",
              "x3             0.0322      0.002     14.017      0.000       0.028       0.037\n",
              "x5            -0.0128      0.003     -4.919      0.000      -0.018      -0.008\n",
              "==============================================================================\n",
              "\"\"\""
            ]
          },
          "metadata": {
            "tags": []
          },
          "execution_count": 40
        }
      ]
    },
    {
      "cell_type": "code",
      "metadata": {
        "id": "vo-ZMGIJIeU-",
        "colab": {
          "base_uri": "https://localhost:8080/",
          "height": 483
        },
        "outputId": "6c990926-73a9-400b-afb3-b544af6f1f43"
      },
      "source": [
        "cm=result_final.pred_table()\n",
        "fig, ax = plt.subplots(figsize=(8, 8))\n",
        "ax.imshow(cm)\n",
        "ax.grid(False)\n",
        "ax.xaxis.set(ticks=(0, 1), ticklabels=('Predicted 0s', 'Predicted 1s'))\n",
        "ax.yaxis.set(ticks=(0, 1), ticklabels=('Actual 0s', 'Actual 1s'))\n",
        "ax.set_ylim(1.5, -0.5)\n",
        "for i in range(2):\n",
        "    for j in range(2):\n",
        "        ax.text(j, i, cm[i, j], ha='center', va='center', color='red')\n",
        "plt.show()"
      ],
      "execution_count": null,
      "outputs": [
        {
          "output_type": "display_data",
          "data": {
            "image/png": "[encoded data removed]",
            "text/plain": [
              "<Figure size 576x576 with 1 Axes>"
            ]
          },
          "metadata": {
            "tags": [],
            "needs_background": "light"
          }
        }
      ]
    },
    {
      "cell_type": "code",
      "metadata": {
        "id": "Rt7BM28gbkua",
        "colab": {
          "base_uri": "https://localhost:8080/"
        },
        "outputId": "1efe875e-48ce-4847-a27d-cdd058dc5d50"
      },
      "source": [
        "comf_m=result_final.pred_table()\n",
        "comf_m\n",
        "\n",
        "TN=comf_m[0,0]   \n",
        "TP=comf_m[1,1]\n",
        "\n",
        "Accuracy=(TP+TN)/40500\n",
        "Accuracy "
      ],
      "execution_count": null,
      "outputs": [
        {
          "output_type": "execute_result",
          "data": {
            "text/plain": [
              "0.7680246913580246"
            ]
          },
          "metadata": {
            "tags": []
          },
          "execution_count": 42
        }
      ]
    },
    {
      "cell_type": "markdown",
      "metadata": {
        "id": "RgnCWtWpq-lC"
      },
      "source": [
        "**predict on test data**"
      ]
    },
    {
      "cell_type": "code",
      "metadata": {
        "id": "DfOc6RE0bkeQ"
      },
      "source": [
        "from sklearn.model_selection import train_test_split\n",
        "from sklearn.linear_model import LogisticRegression"
      ],
      "execution_count": null,
      "outputs": []
    },
    {
      "cell_type": "code",
      "metadata": {
        "id": "cz3qCy81q84V"
      },
      "source": [
        "X_test=test_df[[\"charge_cycle_time_below_12\",\"discharging_rate_lag3\",\"avg_volt_change_charging\",\"max_voltage_day\"]]\n",
        "\n",
        "X_train=train_df[[\"x1\",\"discharging_rate_lag3\",\"avg_volt_change_charging\",\"max_voltage_day\"]]\n",
        "\n",
        "y_train=train_df[[\"Y\"]]"
      ],
      "execution_count": null,
      "outputs": []
    },
    {
      "cell_type": "code",
      "metadata": {
        "id": "K7mulESjq9iQ",
        "colab": {
          "base_uri": "https://localhost:8080/"
        },
        "outputId": "28a20005-4d68-4d63-9b35-e16b47deb97f"
      },
      "source": [
        "logistic_regression= LogisticRegression()\n",
        "logistic_regression.fit(X_train,y_train)\n",
        "y_pred=logistic_regression.predict(X_test)"
      ],
      "execution_count": null,
      "outputs": [
        {
          "output_type": "stream",
          "text": [
            "/usr/local/lib/python3.7/dist-packages/sklearn/utils/validation.py:760: DataConversionWarning: A column-vector y was passed when a 1d array was expected. Please change the shape of y to (n_samples, ), for example using ravel().\n",
            "  y = column_or_1d(y, warn=True)\n"
          ],
          "name": "stderr"
        }
      ]
    },
    {
      "cell_type": "code",
      "metadata": {
        "id": "N25cqFSUq9U_"
      },
      "source": [
        "# create new column \"fail_7\" in test dataframe with prediction results\n",
        "test_df[\"fail_7\"]=y_pred"
      ],
      "execution_count": null,
      "outputs": []
    },
    {
      "cell_type": "code",
      "metadata": {
        "id": "y0PJezflrubK",
        "colab": {
          "base_uri": "https://localhost:8080/"
        },
        "outputId": "97d9ff0a-6ab0-4779-b8b5-6f469da5f814"
      },
      "source": [
        "# distribution of \"1\" and \"0\"\n",
        "\n",
        "distribution= (test_df[\"fail_7\"]).value_counts()\n",
        "print(distribution)"
      ],
      "execution_count": null,
      "outputs": [
        {
          "output_type": "stream",
          "text": [
            "0    4468\n",
            "1      32\n",
            "Name: fail_7, dtype: int64\n"
          ],
          "name": "stdout"
        }
      ]
    },
    {
      "cell_type": "code",
      "metadata": {
        "id": "zuqWyCJbXVfv"
      },
      "source": [
        ""
      ],
      "execution_count": null,
      "outputs": []
    },
    {
      "cell_type": "markdown",
      "metadata": {
        "id": "xk0myf7FXkTP"
      },
      "source": [
        "save results to csv file"
      ]
    },
    {
      "cell_type": "code",
      "metadata": {
        "id": "wuokzoBbXUnr"
      },
      "source": [
        "test_df.to_csv('test.csv')"
      ],
      "execution_count": null,
      "outputs": []
    },
    {
      "cell_type": "code",
      "metadata": {
        "id": "wI5I1kSzXVVg"
      },
      "source": [
        ""
      ],
      "execution_count": null,
      "outputs": []
    }
  ]
}