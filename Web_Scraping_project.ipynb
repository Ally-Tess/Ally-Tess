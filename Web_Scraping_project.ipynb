{
  "nbformat": 4,
  "nbformat_minor": 0,
  "metadata": {
    "colab": {
      "name": "Web Scraping project",
      "provenance": [],
      "collapsed_sections": [],
      "include_colab_link": true
    },
    "kernelspec": {
      "name": "python3",
      "display_name": "Python 3"
    },
    "language_info": {
      "name": "python"
    }
  },
  "cells": [
    {
      "cell_type": "markdown",
      "metadata": {
        "id": "view-in-github",
        "colab_type": "text"
      },
      "source": [
        "<a href=\"https://colab.research.google.com/github/TammyJade/TJ/blob/main/Web_Scraping_project.ipynb\" target=\"_parent\"><img src=\"https://colab.research.google.com/assets/colab-badge.svg\" alt=\"Open In Colab\"/></a>"
      ]
    },
    {
      "cell_type": "code",
      "metadata": {
        "id": "FJssqIBxKPDH"
      },
      "source": [
        "import requests    # importing beautiful soup\n",
        "from bs4 import BeautifulSoup\n",
        "import pandas as pd    # alias"
      ],
      "execution_count": null,
      "outputs": []
    },
    {
      "cell_type": "code",
      "metadata": {
        "id": "MFMBOwOK3Aak"
      },
      "source": [
        "# Allocating all URL's to variable names \n",
        "\n",
        "brooklyn_mens_V = 'https://www.brooklyncollegeathletics.com/sports/mens-volleyball/roster/2019'\n",
        "baruch_mens_V = 'https://athletics.baruch.cuny.edu/sports/mens-volleyball/roster'\n",
        "york_mens_V = 'https://yorkathletics.com/sports/mens-volleyball/roster'"
      ],
      "execution_count": null,
      "outputs": []
    },
    {
      "cell_type": "code",
      "metadata": {
        "id": "NEZtcWtj3Agc"
      },
      "source": [
        "brooklyn_womens_V= 'https://www.brooklyncollegeathletics.com/sports/womens-volleyball/roster/2019'\n",
        "baruch_womens_V = 'https://athletics.baruch.cuny.edu/sports/womens-volleyball/roster'\n",
        "york_womens_V = 'https://johnjayathletics.com/sports/womens-volleyball/roster'"
      ],
      "execution_count": null,
      "outputs": []
    },
    {
      "cell_type": "code",
      "metadata": {
        "id": "AA2SBz4V3A4H"
      },
      "source": [
        "brooklyn_mens_S = 'https://www.brooklyncollegeathletics.com/sports/mens-swimming-and-diving/roster'\n",
        "baruch_mens_S  = 'https://athletics.baruch.cuny.edu/sports/mens-swimming-and-diving/roster'\n",
        "york_mens_S  = 'https://yorkathletics.com/sports/mens-swimming-and-diving/roster'"
      ],
      "execution_count": null,
      "outputs": []
    },
    {
      "cell_type": "code",
      "metadata": {
        "id": "msVpkUvZUAlt"
      },
      "source": [
        "brooklyn_womens_S  = 'https://www.brooklyncollegeathletics.com/sports/womens-swimming-and-diving/roster'\n",
        "baruch_womens_S = 'https://athletics.baruch.cuny.edu/sports/womens-swimming-and-diving/roster'\n",
        "york_womens_S = 'https://queensknights.com/sports/womens-swimming-and-diving/roster'"
      ],
      "execution_count": null,
      "outputs": []
    },
    {
      "cell_type": "code",
      "metadata": {
        "id": "ruF5IVCI1yJA",
        "colab": {
          "base_uri": "https://localhost:8080/",
          "height": 204
        },
        "outputId": "dcab9b30-46dd-473c-9edd-ef3914a0af9a"
      },
      "source": [
        "womens_swim = [brooklyn_womens_S,baruch_womens_S,york_womens_S] # variable names of URL's put into a list\n",
        "\n",
        "heightFeet = []   # 1st appending list\n",
        "heightInches = [] # 2nd appending list\n",
        "\n",
        "names1=[] # 1st appending list \n",
        "names=[]  # 2nd appending list\n",
        "\n",
        "for team in womens_swim:\n",
        "  page = requests.get(team)\n",
        "\n",
        "  soup = BeautifulSoup(page.content, 'html.parser')  # Parse html content through beautifulsoup\n",
        "\n",
        "  tables = soup.find_all('table', class_ = 'sidearm-table-grid-template-1-breakdown-large')\n",
        "\n",
        "  for table in tables:\n",
        "      heights = table.find_all(class_ = 'height') # Finding all specified class\n",
        "      name =  table.find_all('a')\n",
        "\n",
        "      for x in heights:  \n",
        "        heightFeet.append(x.get_text())\n",
        "      for i in range(0, len(heightFeet)): # itterating through for loop\n",
        "        y = heightFeet[i].split('-') # splitting feet and inches\n",
        "        feet = float(y[0])  # converting from string to float, indexing first element\n",
        "        inches = y[1].replace('-','') # indexing second element, removing additonal characters\n",
        "        inches = float(inches)  #converting from string\n",
        "        heightInches.append( (feet* 12) + inches) #appending converted feet to inches list \n",
        "\n",
        "      for n in name:\n",
        "        names1.append(n.get_text())\n",
        "      for i in range(0, len(names1)):\n",
        "        x = names1[i].replace('\\n',' ')\n",
        "        names.append(x)\n",
        "\n",
        "womens_swim = df = pd.DataFrame()  # Creating a df: two-dimensional data structure, i.e., data is aligned in a tabular fashion in rows and columns.\n",
        "df['womens_swim_names'] = names \n",
        "df['womens_swim_heightInches'] = heightInches\n",
        "womens_swim.head()  # The first 5 rows of a df "
      ],
      "execution_count": null,
      "outputs": [
        {
          "output_type": "execute_result",
          "data": {
            "text/html": [
              "<div>\n",
              "<style scoped>\n",
              "    .dataframe tbody tr th:only-of-type {\n",
              "        vertical-align: middle;\n",
              "    }\n",
              "\n",
              "    .dataframe tbody tr th {\n",
              "        vertical-align: top;\n",
              "    }\n",
              "\n",
              "    .dataframe thead th {\n",
              "        text-align: right;\n",
              "    }\n",
              "</style>\n",
              "<table border=\"1\" class=\"dataframe\">\n",
              "  <thead>\n",
              "    <tr style=\"text-align: right;\">\n",
              "      <th></th>\n",
              "      <th>womens_swim_names</th>\n",
              "      <th>womens_swim_heightInches</th>\n",
              "    </tr>\n",
              "  </thead>\n",
              "  <tbody>\n",
              "    <tr>\n",
              "      <th>0</th>\n",
              "      <td>Semona Bardman</td>\n",
              "      <td>66.0</td>\n",
              "    </tr>\n",
              "    <tr>\n",
              "      <th>1</th>\n",
              "      <td>Angella  Christopher</td>\n",
              "      <td>67.0</td>\n",
              "    </tr>\n",
              "    <tr>\n",
              "      <th>2</th>\n",
              "      <td>Anna Curran</td>\n",
              "      <td>63.0</td>\n",
              "    </tr>\n",
              "    <tr>\n",
              "      <th>3</th>\n",
              "      <td>Rachel  Davidovich</td>\n",
              "      <td>64.0</td>\n",
              "    </tr>\n",
              "    <tr>\n",
              "      <th>4</th>\n",
              "      <td>Shenaika Eliassaint</td>\n",
              "      <td>71.0</td>\n",
              "    </tr>\n",
              "  </tbody>\n",
              "</table>\n",
              "</div>"
            ],
            "text/plain": [
              "      womens_swim_names  womens_swim_heightInches\n",
              "0        Semona Bardman                      66.0\n",
              "1  Angella  Christopher                      67.0\n",
              "2           Anna Curran                      63.0\n",
              "3    Rachel  Davidovich                      64.0\n",
              "4   Shenaika Eliassaint                      71.0"
            ]
          },
          "metadata": {
            "tags": []
          },
          "execution_count": 6
        }
      ]
    },
    {
      "cell_type": "code",
      "metadata": {
        "colab": {
          "base_uri": "https://localhost:8080/"
        },
        "id": "nHw9V_Ct2Cvi",
        "outputId": "8409aaec-32fe-4a2a-b5d8-08c057c3f1e5"
      },
      "source": [
        "womens_swim.info() # This method prints information about a DataFrame including the index dtype and columns, non-null values and memory usage."
      ],
      "execution_count": null,
      "outputs": [
        {
          "output_type": "stream",
          "text": [
            "<class 'pandas.core.frame.DataFrame'>\n",
            "RangeIndex: 77 entries, 0 to 76\n",
            "Data columns (total 2 columns):\n",
            " #   Column                    Non-Null Count  Dtype  \n",
            "---  ------                    --------------  -----  \n",
            " 0   womens_swim_names         77 non-null     object \n",
            " 1   womens_swim_heightInches  77 non-null     float64\n",
            "dtypes: float64(1), object(1)\n",
            "memory usage: 1.3+ KB\n"
          ],
          "name": "stdout"
        }
      ]
    },
    {
      "cell_type": "code",
      "metadata": {
        "colab": {
          "base_uri": "https://localhost:8080/",
          "height": 204
        },
        "id": "hExgRMqN2Isc",
        "outputId": "f8575764-4467-49ce-9bc9-0560f25a7d36"
      },
      "source": [
        "# Names and the heights of the 5 tallest and 5 shortest womens_swim:\n",
        "\n",
        "tallest=womens_swim.sort_values(['womens_swim_heightInches'],ascending= False)\n",
        "tallest.head()  # The first 5 rows of a df "
      ],
      "execution_count": null,
      "outputs": [
        {
          "output_type": "execute_result",
          "data": {
            "text/html": [
              "<div>\n",
              "<style scoped>\n",
              "    .dataframe tbody tr th:only-of-type {\n",
              "        vertical-align: middle;\n",
              "    }\n",
              "\n",
              "    .dataframe tbody tr th {\n",
              "        vertical-align: top;\n",
              "    }\n",
              "\n",
              "    .dataframe thead th {\n",
              "        text-align: right;\n",
              "    }\n",
              "</style>\n",
              "<table border=\"1\" class=\"dataframe\">\n",
              "  <thead>\n",
              "    <tr style=\"text-align: right;\">\n",
              "      <th></th>\n",
              "      <th>womens_swim_names</th>\n",
              "      <th>womens_swim_heightInches</th>\n",
              "    </tr>\n",
              "  </thead>\n",
              "  <tbody>\n",
              "    <tr>\n",
              "      <th>14</th>\n",
              "      <td>Shenaika Eliassaint</td>\n",
              "      <td>71.0</td>\n",
              "    </tr>\n",
              "    <tr>\n",
              "      <th>4</th>\n",
              "      <td>Shenaika Eliassaint</td>\n",
              "      <td>71.0</td>\n",
              "    </tr>\n",
              "    <tr>\n",
              "      <th>41</th>\n",
              "      <td>Shenaika Eliassaint</td>\n",
              "      <td>71.0</td>\n",
              "    </tr>\n",
              "    <tr>\n",
              "      <th>50</th>\n",
              "      <td>Onika George</td>\n",
              "      <td>70.0</td>\n",
              "    </tr>\n",
              "    <tr>\n",
              "      <th>23</th>\n",
              "      <td>Onika George</td>\n",
              "      <td>70.0</td>\n",
              "    </tr>\n",
              "  </tbody>\n",
              "</table>\n",
              "</div>"
            ],
            "text/plain": [
              "      womens_swim_names  womens_swim_heightInches\n",
              "14  Shenaika Eliassaint                      71.0\n",
              "4   Shenaika Eliassaint                      71.0\n",
              "41  Shenaika Eliassaint                      71.0\n",
              "50         Onika George                      70.0\n",
              "23         Onika George                      70.0"
            ]
          },
          "metadata": {
            "tags": []
          },
          "execution_count": 8
        }
      ]
    },
    {
      "cell_type": "code",
      "metadata": {
        "colab": {
          "base_uri": "https://localhost:8080/",
          "height": 204
        },
        "id": "Gv06Bee4PGiC",
        "outputId": "6ccdcb46-6a0c-4f9a-ddec-54cf1ea25f54"
      },
      "source": [
        "shortest= womens_swim.sort_values(['womens_swim_heightInches'],ascending= True)\n",
        "shortest.head()  # The first 5 rows of a df "
      ],
      "execution_count": null,
      "outputs": [
        {
          "output_type": "execute_result",
          "data": {
            "text/html": [
              "<div>\n",
              "<style scoped>\n",
              "    .dataframe tbody tr th:only-of-type {\n",
              "        vertical-align: middle;\n",
              "    }\n",
              "\n",
              "    .dataframe tbody tr th {\n",
              "        vertical-align: top;\n",
              "    }\n",
              "\n",
              "    .dataframe thead th {\n",
              "        text-align: right;\n",
              "    }\n",
              "</style>\n",
              "<table border=\"1\" class=\"dataframe\">\n",
              "  <thead>\n",
              "    <tr style=\"text-align: right;\">\n",
              "      <th></th>\n",
              "      <th>womens_swim_names</th>\n",
              "      <th>womens_swim_heightInches</th>\n",
              "    </tr>\n",
              "  </thead>\n",
              "  <tbody>\n",
              "    <tr>\n",
              "      <th>54</th>\n",
              "      <td>Amanda Lee</td>\n",
              "      <td>60.0</td>\n",
              "    </tr>\n",
              "    <tr>\n",
              "      <th>27</th>\n",
              "      <td>Amanda Lee</td>\n",
              "      <td>60.0</td>\n",
              "    </tr>\n",
              "    <tr>\n",
              "      <th>61</th>\n",
              "      <td>Alicia Soares</td>\n",
              "      <td>61.0</td>\n",
              "    </tr>\n",
              "    <tr>\n",
              "      <th>42</th>\n",
              "      <td>Julie  Huang</td>\n",
              "      <td>61.0</td>\n",
              "    </tr>\n",
              "    <tr>\n",
              "      <th>53</th>\n",
              "      <td>Mirtho-Myra Lamonier</td>\n",
              "      <td>61.0</td>\n",
              "    </tr>\n",
              "  </tbody>\n",
              "</table>\n",
              "</div>"
            ],
            "text/plain": [
              "       womens_swim_names  womens_swim_heightInches\n",
              "54            Amanda Lee                      60.0\n",
              "27            Amanda Lee                      60.0\n",
              "61         Alicia Soares                      61.0\n",
              "42          Julie  Huang                      61.0\n",
              "53  Mirtho-Myra Lamonier                      61.0"
            ]
          },
          "metadata": {
            "tags": []
          },
          "execution_count": 9
        }
      ]
    },
    {
      "cell_type": "code",
      "metadata": {
        "colab": {
          "base_uri": "https://localhost:8080/",
          "height": 204
        },
        "id": "Fm9ZWOHUYhgL",
        "outputId": "492e1f78-e557-4e1d-c63c-cf7973e2ec0f"
      },
      "source": [
        "mens_swim = [brooklyn_mens_S,baruch_mens_S,york_mens_S] # variable names of URL's put into a list\n",
        "\n",
        "heightFeet = []   # 1st appending list\n",
        "heightInches = [] # 2nd appending list\n",
        "\n",
        "names1=[] # 1st appending list \n",
        "names=[]  # 2nd appending list\n",
        "\n",
        "for team in mens_swim:\n",
        "  page = requests.get(team)\n",
        "\n",
        "  soup = BeautifulSoup(page.content, 'html.parser')  # Parse html content through beautifulsoup\n",
        "\n",
        "  tables = soup.find_all('table', class_ = 'sidearm-table-grid-template-1-breakdown-large')\n",
        "\n",
        "  for table in tables:\n",
        "      heights = table.find_all(class_ = 'height') # Finding all specified class\n",
        "      name =  table.find_all('a')\n",
        "\n",
        "      for x in heights:  \n",
        "        heightFeet.append(x.get_text())\n",
        "      for i in range(0, len(heightFeet)): # itterating through for loop\n",
        "        y = heightFeet[i].split('-') # splitting feet and inches\n",
        "        feet = float(y[0])  # converting from string to float, indexing first element\n",
        "        inches = y[1].replace('-','') # indexing second element, removing additonal characters\n",
        "        inches = float(inches)  #converting from string\n",
        "        heightInches.append( (feet* 12) + inches) #appending converted feet to inches list  \n",
        "\n",
        "      for n in name:\n",
        "        names1.append(n.get_text())\n",
        "      for i in range(0, len(names1)):\n",
        "        x = names1[i].replace('\\n',' ')\n",
        "        names.append(x)\n",
        "\n",
        "mens_swim = df = pd.DataFrame()  # Creating a df: two-dimensional data structure, i.e., data is aligned in a tabular fashion in rows and columns.\n",
        "df['mens_swim_names'] = names \n",
        "df['mens_swim_heightInches'] = heightInches\n",
        "mens_swim.head()   # The first 5 rows of a df "
      ],
      "execution_count": null,
      "outputs": [
        {
          "output_type": "execute_result",
          "data": {
            "text/html": [
              "<div>\n",
              "<style scoped>\n",
              "    .dataframe tbody tr th:only-of-type {\n",
              "        vertical-align: middle;\n",
              "    }\n",
              "\n",
              "    .dataframe tbody tr th {\n",
              "        vertical-align: top;\n",
              "    }\n",
              "\n",
              "    .dataframe thead th {\n",
              "        text-align: right;\n",
              "    }\n",
              "</style>\n",
              "<table border=\"1\" class=\"dataframe\">\n",
              "  <thead>\n",
              "    <tr style=\"text-align: right;\">\n",
              "      <th></th>\n",
              "      <th>mens_swim_names</th>\n",
              "      <th>mens_swim_heightInches</th>\n",
              "    </tr>\n",
              "  </thead>\n",
              "  <tbody>\n",
              "    <tr>\n",
              "      <th>0</th>\n",
              "      <td>Ronaldo Barrios</td>\n",
              "      <td>74.0</td>\n",
              "    </tr>\n",
              "    <tr>\n",
              "      <th>1</th>\n",
              "      <td>Devin Boodha</td>\n",
              "      <td>69.0</td>\n",
              "    </tr>\n",
              "    <tr>\n",
              "      <th>2</th>\n",
              "      <td>Nikita  Cary</td>\n",
              "      <td>68.0</td>\n",
              "    </tr>\n",
              "    <tr>\n",
              "      <th>3</th>\n",
              "      <td>Alec Chi</td>\n",
              "      <td>70.0</td>\n",
              "    </tr>\n",
              "    <tr>\n",
              "      <th>4</th>\n",
              "      <td>Peter Ebert</td>\n",
              "      <td>74.0</td>\n",
              "    </tr>\n",
              "  </tbody>\n",
              "</table>\n",
              "</div>"
            ],
            "text/plain": [
              "   mens_swim_names  mens_swim_heightInches\n",
              "0  Ronaldo Barrios                    74.0\n",
              "1     Devin Boodha                    69.0\n",
              "2     Nikita  Cary                    68.0\n",
              "3         Alec Chi                    70.0\n",
              "4      Peter Ebert                    74.0"
            ]
          },
          "metadata": {
            "tags": []
          },
          "execution_count": 10
        }
      ]
    },
    {
      "cell_type": "code",
      "metadata": {
        "colab": {
          "base_uri": "https://localhost:8080/"
        },
        "id": "ZIv4cXlr22QM",
        "outputId": "0f8865ce-4b4c-474a-ec23-614a38e146cc"
      },
      "source": [
        "mens_swim.info() # This method prints information about a DataFrame including the index dtype and columns, non-null values and memory usage."
      ],
      "execution_count": null,
      "outputs": [
        {
          "output_type": "stream",
          "text": [
            "<class 'pandas.core.frame.DataFrame'>\n",
            "RangeIndex: 92 entries, 0 to 91\n",
            "Data columns (total 2 columns):\n",
            " #   Column                  Non-Null Count  Dtype  \n",
            "---  ------                  --------------  -----  \n",
            " 0   mens_swim_names         92 non-null     object \n",
            " 1   mens_swim_heightInches  92 non-null     float64\n",
            "dtypes: float64(1), object(1)\n",
            "memory usage: 1.6+ KB\n"
          ],
          "name": "stdout"
        }
      ]
    },
    {
      "cell_type": "code",
      "metadata": {
        "colab": {
          "base_uri": "https://localhost:8080/",
          "height": 204
        },
        "id": "jRxzrPA822Yh",
        "outputId": "2b68a290-90f2-4cae-87cb-5f2d634b37d3"
      },
      "source": [
        "# Names and the heights of the 5 tallest and 5 shortest mens_swim:\n",
        "\n",
        "tallest= mens_swim.sort_values(['mens_swim_heightInches'],ascending= False)\n",
        "tallest.head()  # The first 5 rows of a df "
      ],
      "execution_count": null,
      "outputs": [
        {
          "output_type": "execute_result",
          "data": {
            "text/html": [
              "<div>\n",
              "<style scoped>\n",
              "    .dataframe tbody tr th:only-of-type {\n",
              "        vertical-align: middle;\n",
              "    }\n",
              "\n",
              "    .dataframe tbody tr th {\n",
              "        vertical-align: top;\n",
              "    }\n",
              "\n",
              "    .dataframe thead th {\n",
              "        text-align: right;\n",
              "    }\n",
              "</style>\n",
              "<table border=\"1\" class=\"dataframe\">\n",
              "  <thead>\n",
              "    <tr style=\"text-align: right;\">\n",
              "      <th></th>\n",
              "      <th>mens_swim_names</th>\n",
              "      <th>mens_swim_heightInches</th>\n",
              "    </tr>\n",
              "  </thead>\n",
              "  <tbody>\n",
              "    <tr>\n",
              "      <th>24</th>\n",
              "      <td>Gregory Becker</td>\n",
              "      <td>77.0</td>\n",
              "    </tr>\n",
              "    <tr>\n",
              "      <th>63</th>\n",
              "      <td>Kasper Gacek</td>\n",
              "      <td>77.0</td>\n",
              "    </tr>\n",
              "    <tr>\n",
              "      <th>28</th>\n",
              "      <td>Kasper Gacek</td>\n",
              "      <td>77.0</td>\n",
              "    </tr>\n",
              "    <tr>\n",
              "      <th>59</th>\n",
              "      <td>Gregory Becker</td>\n",
              "      <td>77.0</td>\n",
              "    </tr>\n",
              "    <tr>\n",
              "      <th>56</th>\n",
              "      <td>Mark  MacEachen</td>\n",
              "      <td>76.0</td>\n",
              "    </tr>\n",
              "  </tbody>\n",
              "</table>\n",
              "</div>"
            ],
            "text/plain": [
              "    mens_swim_names  mens_swim_heightInches\n",
              "24   Gregory Becker                    77.0\n",
              "63     Kasper Gacek                    77.0\n",
              "28     Kasper Gacek                    77.0\n",
              "59   Gregory Becker                    77.0\n",
              "56  Mark  MacEachen                    76.0"
            ]
          },
          "metadata": {
            "tags": []
          },
          "execution_count": 12
        }
      ]
    },
    {
      "cell_type": "code",
      "metadata": {
        "colab": {
          "base_uri": "https://localhost:8080/",
          "height": 204
        },
        "id": "BG4PVGIQOhZu",
        "outputId": "e6fe9f84-8d4e-4243-e73d-3d6f9aeca2e1"
      },
      "source": [
        "shortest= mens_swim.sort_values(['mens_swim_heightInches'],ascending= True)\n",
        "shortest.head()  # The first 5 rows of a df "
      ],
      "execution_count": null,
      "outputs": [
        {
          "output_type": "execute_result",
          "data": {
            "text/html": [
              "<div>\n",
              "<style scoped>\n",
              "    .dataframe tbody tr th:only-of-type {\n",
              "        vertical-align: middle;\n",
              "    }\n",
              "\n",
              "    .dataframe tbody tr th {\n",
              "        vertical-align: top;\n",
              "    }\n",
              "\n",
              "    .dataframe thead th {\n",
              "        text-align: right;\n",
              "    }\n",
              "</style>\n",
              "<table border=\"1\" class=\"dataframe\">\n",
              "  <thead>\n",
              "    <tr style=\"text-align: right;\">\n",
              "      <th></th>\n",
              "      <th>mens_swim_names</th>\n",
              "      <th>mens_swim_heightInches</th>\n",
              "    </tr>\n",
              "  </thead>\n",
              "  <tbody>\n",
              "    <tr>\n",
              "      <th>42</th>\n",
              "      <td>Ben Sionov</td>\n",
              "      <td>65.0</td>\n",
              "    </tr>\n",
              "    <tr>\n",
              "      <th>77</th>\n",
              "      <td>Ben Sionov</td>\n",
              "      <td>65.0</td>\n",
              "    </tr>\n",
              "    <tr>\n",
              "      <th>45</th>\n",
              "      <td>Joseph Vasile</td>\n",
              "      <td>67.0</td>\n",
              "    </tr>\n",
              "    <tr>\n",
              "      <th>34</th>\n",
              "      <td>Fernando Marroquin</td>\n",
              "      <td>67.0</td>\n",
              "    </tr>\n",
              "    <tr>\n",
              "      <th>85</th>\n",
              "      <td>Anthony Jordan</td>\n",
              "      <td>67.0</td>\n",
              "    </tr>\n",
              "  </tbody>\n",
              "</table>\n",
              "</div>"
            ],
            "text/plain": [
              "       mens_swim_names  mens_swim_heightInches\n",
              "42          Ben Sionov                    65.0\n",
              "77          Ben Sionov                    65.0\n",
              "45       Joseph Vasile                    67.0\n",
              "34  Fernando Marroquin                    67.0\n",
              "85      Anthony Jordan                    67.0"
            ]
          },
          "metadata": {
            "tags": []
          },
          "execution_count": 13
        }
      ]
    },
    {
      "cell_type": "code",
      "metadata": {
        "colab": {
          "base_uri": "https://localhost:8080/",
          "height": 204
        },
        "id": "tzwWfAAzYhm0",
        "outputId": "53928b31-27e9-4d93-c507-62e88ea6081c"
      },
      "source": [
        "womens_volleyball = [brooklyn_womens_V,baruch_womens_V,york_womens_V]  # variable names of URL's put into a list\n",
        "\n",
        "heightFeet = []   # 1st appending list\n",
        "heightInches = [] # 2nd appending list\n",
        "\n",
        "names1=[] # 1st appending list \n",
        "names=[]  # 2nd appending list\n",
        "\n",
        "for team in womens_volleyball:\n",
        "  page = requests.get(team)\n",
        "\n",
        "  soup = BeautifulSoup(page.content, 'html.parser')  # Parse html content through beautifulsoup\n",
        "\n",
        "  tables = soup.find_all('table', class_ = 'sidearm-table-grid-template-1-breakdown-large')\n",
        "\n",
        "  for table in tables:\n",
        "      heights = table.find_all(class_ = 'height') # Finding all specified class\n",
        "      name =  table.find_all('a')\n",
        "\n",
        "      for x in heights:  \n",
        "        heightFeet.append(x.get_text())\n",
        "      for i in range(0, len(heightFeet)): # itterating through for loop\n",
        "        y = heightFeet[i].split('-') # splitting feet and inches\n",
        "        feet = float(y[0])  # converting from string to float, indexing first element\n",
        "        inches = y[1].replace('-','') # indexing second element, removing additonal characters\n",
        "        inches = float(inches)  #converting from string\n",
        "        heightInches.append( (feet* 12) + inches) #appending converted feet to inches list  \n",
        "\n",
        "      for n in name:\n",
        "        names1.append(n.get_text())\n",
        "      for i in range(0, len(names1)):\n",
        "        x = names1[i].replace('\\n',' ')\n",
        "        names.append(x)\n",
        "\n",
        "womens_volleyball = df = pd.DataFrame() # Creating a df: two-dimensional data structure, i.e., data is aligned in a tabular fashion in rows and columns.\n",
        "df['womens_volleyball_names'] = names \n",
        "df['womens_volleyball_heightInches'] = heightInches\n",
        "womens_volleyball.head()  # The first 5 rows of a df \n"
      ],
      "execution_count": null,
      "outputs": [
        {
          "output_type": "execute_result",
          "data": {
            "text/html": [
              "<div>\n",
              "<style scoped>\n",
              "    .dataframe tbody tr th:only-of-type {\n",
              "        vertical-align: middle;\n",
              "    }\n",
              "\n",
              "    .dataframe tbody tr th {\n",
              "        vertical-align: top;\n",
              "    }\n",
              "\n",
              "    .dataframe thead th {\n",
              "        text-align: right;\n",
              "    }\n",
              "</style>\n",
              "<table border=\"1\" class=\"dataframe\">\n",
              "  <thead>\n",
              "    <tr style=\"text-align: right;\">\n",
              "      <th></th>\n",
              "      <th>womens_volleyball_names</th>\n",
              "      <th>womens_volleyball_heightInches</th>\n",
              "    </tr>\n",
              "  </thead>\n",
              "  <tbody>\n",
              "    <tr>\n",
              "      <th>0</th>\n",
              "      <td>Inesa Shimcani</td>\n",
              "      <td>65.0</td>\n",
              "    </tr>\n",
              "    <tr>\n",
              "      <th>1</th>\n",
              "      <td>Ashley Fung</td>\n",
              "      <td>67.0</td>\n",
              "    </tr>\n",
              "    <tr>\n",
              "      <th>2</th>\n",
              "      <td>Rain Zhang</td>\n",
              "      <td>66.0</td>\n",
              "    </tr>\n",
              "    <tr>\n",
              "      <th>3</th>\n",
              "      <td>Yana Shaposhnikova</td>\n",
              "      <td>63.0</td>\n",
              "    </tr>\n",
              "    <tr>\n",
              "      <th>4</th>\n",
              "      <td>Ezri  Shor</td>\n",
              "      <td>65.0</td>\n",
              "    </tr>\n",
              "  </tbody>\n",
              "</table>\n",
              "</div>"
            ],
            "text/plain": [
              "  womens_volleyball_names  womens_volleyball_heightInches\n",
              "0          Inesa Shimcani                            65.0\n",
              "1             Ashley Fung                            67.0\n",
              "2              Rain Zhang                            66.0\n",
              "3     Yana Shaposhnikova                             63.0\n",
              "4              Ezri  Shor                            65.0"
            ]
          },
          "metadata": {
            "tags": []
          },
          "execution_count": 14
        }
      ]
    },
    {
      "cell_type": "code",
      "metadata": {
        "colab": {
          "base_uri": "https://localhost:8080/"
        },
        "id": "D1LMDXpWQEYZ",
        "outputId": "f9c7ed68-03d2-4452-8eba-af63b02df6e3"
      },
      "source": [
        "womens_volleyball.info()  # This method prints information about a DataFrame including the index dtype and columns, non-null values and memory usage."
      ],
      "execution_count": null,
      "outputs": [
        {
          "output_type": "stream",
          "text": [
            "<class 'pandas.core.frame.DataFrame'>\n",
            "RangeIndex: 78 entries, 0 to 77\n",
            "Data columns (total 2 columns):\n",
            " #   Column                          Non-Null Count  Dtype  \n",
            "---  ------                          --------------  -----  \n",
            " 0   womens_volleyball_names         78 non-null     object \n",
            " 1   womens_volleyball_heightInches  78 non-null     float64\n",
            "dtypes: float64(1), object(1)\n",
            "memory usage: 1.3+ KB\n"
          ],
          "name": "stdout"
        }
      ]
    },
    {
      "cell_type": "code",
      "metadata": {
        "colab": {
          "base_uri": "https://localhost:8080/",
          "height": 204
        },
        "id": "y2LdbtMJQEcs",
        "outputId": "2eb0ee6e-6eba-468d-e000-2c02c851d884"
      },
      "source": [
        "# Names and the heights of the 5 tallest and 5 shortest womens_volleyball:\n",
        "\n",
        "tallest= womens_volleyball.sort_values(['womens_volleyball_heightInches'],ascending= False)\n",
        "tallest.head()  # The first 5 rows of a df "
      ],
      "execution_count": null,
      "outputs": [
        {
          "output_type": "execute_result",
          "data": {
            "text/html": [
              "<div>\n",
              "<style scoped>\n",
              "    .dataframe tbody tr th:only-of-type {\n",
              "        vertical-align: middle;\n",
              "    }\n",
              "\n",
              "    .dataframe tbody tr th {\n",
              "        vertical-align: top;\n",
              "    }\n",
              "\n",
              "    .dataframe thead th {\n",
              "        text-align: right;\n",
              "    }\n",
              "</style>\n",
              "<table border=\"1\" class=\"dataframe\">\n",
              "  <thead>\n",
              "    <tr style=\"text-align: right;\">\n",
              "      <th></th>\n",
              "      <th>womens_volleyball_names</th>\n",
              "      <th>womens_volleyball_heightInches</th>\n",
              "    </tr>\n",
              "  </thead>\n",
              "  <tbody>\n",
              "    <tr>\n",
              "      <th>74</th>\n",
              "      <td>Autumn Reeves</td>\n",
              "      <td>74.0</td>\n",
              "    </tr>\n",
              "    <tr>\n",
              "      <th>56</th>\n",
              "      <td>Claudia Daporta</td>\n",
              "      <td>72.0</td>\n",
              "    </tr>\n",
              "    <tr>\n",
              "      <th>71</th>\n",
              "      <td>Mirialis Almanzar</td>\n",
              "      <td>72.0</td>\n",
              "    </tr>\n",
              "    <tr>\n",
              "      <th>75</th>\n",
              "      <td>Sophia Wheelan</td>\n",
              "      <td>72.0</td>\n",
              "    </tr>\n",
              "    <tr>\n",
              "      <th>29</th>\n",
              "      <td>Claudia Daporta</td>\n",
              "      <td>72.0</td>\n",
              "    </tr>\n",
              "  </tbody>\n",
              "</table>\n",
              "</div>"
            ],
            "text/plain": [
              "   womens_volleyball_names  womens_volleyball_heightInches\n",
              "74           Autumn Reeves                            74.0\n",
              "56         Claudia Daporta                            72.0\n",
              "71       Mirialis Almanzar                            72.0\n",
              "75          Sophia Wheelan                            72.0\n",
              "29         Claudia Daporta                            72.0"
            ]
          },
          "metadata": {
            "tags": []
          },
          "execution_count": 16
        }
      ]
    },
    {
      "cell_type": "code",
      "metadata": {
        "colab": {
          "base_uri": "https://localhost:8080/",
          "height": 204
        },
        "id": "njlF9asHQEs_",
        "outputId": "df870312-61eb-495b-b2d4-ce00500594e5"
      },
      "source": [
        "shortest =womens_volleyball.sort_values(['womens_volleyball_heightInches'],ascending= True)\n",
        "shortest.head()  # The first 5 rows of a df "
      ],
      "execution_count": null,
      "outputs": [
        {
          "output_type": "execute_result",
          "data": {
            "text/html": [
              "<div>\n",
              "<style scoped>\n",
              "    .dataframe tbody tr th:only-of-type {\n",
              "        vertical-align: middle;\n",
              "    }\n",
              "\n",
              "    .dataframe tbody tr th {\n",
              "        vertical-align: top;\n",
              "    }\n",
              "\n",
              "    .dataframe thead th {\n",
              "        text-align: right;\n",
              "    }\n",
              "</style>\n",
              "<table border=\"1\" class=\"dataframe\">\n",
              "  <thead>\n",
              "    <tr style=\"text-align: right;\">\n",
              "      <th></th>\n",
              "      <th>womens_volleyball_names</th>\n",
              "      <th>womens_volleyball_heightInches</th>\n",
              "    </tr>\n",
              "  </thead>\n",
              "  <tbody>\n",
              "    <tr>\n",
              "      <th>31</th>\n",
              "      <td>Young Gi Go</td>\n",
              "      <td>60.0</td>\n",
              "    </tr>\n",
              "    <tr>\n",
              "      <th>58</th>\n",
              "      <td>Young Gi Go</td>\n",
              "      <td>60.0</td>\n",
              "    </tr>\n",
              "    <tr>\n",
              "      <th>22</th>\n",
              "      <td>Savanna Koutsakis-Keener</td>\n",
              "      <td>61.0</td>\n",
              "    </tr>\n",
              "    <tr>\n",
              "      <th>64</th>\n",
              "      <td>Cady Xia</td>\n",
              "      <td>61.0</td>\n",
              "    </tr>\n",
              "    <tr>\n",
              "      <th>9</th>\n",
              "      <td>Savanna Koutsakis-Keener</td>\n",
              "      <td>61.0</td>\n",
              "    </tr>\n",
              "  </tbody>\n",
              "</table>\n",
              "</div>"
            ],
            "text/plain": [
              "     womens_volleyball_names  womens_volleyball_heightInches\n",
              "31               Young Gi Go                            60.0\n",
              "58               Young Gi Go                            60.0\n",
              "22  Savanna Koutsakis-Keener                            61.0\n",
              "64                  Cady Xia                            61.0\n",
              "9   Savanna Koutsakis-Keener                            61.0"
            ]
          },
          "metadata": {
            "tags": []
          },
          "execution_count": 17
        }
      ]
    },
    {
      "cell_type": "code",
      "metadata": {
        "colab": {
          "base_uri": "https://localhost:8080/",
          "height": 204
        },
        "id": "7VLzBJOFYhj_",
        "outputId": "afaefb5d-b788-489c-c206-ff8967bd2a5e"
      },
      "source": [
        "mens_volleyball = [brooklyn_mens_V,baruch_mens_V,york_mens_V]  # variable names of URL's put into a list\n",
        "\n",
        "heightFeet = []   # 1st appending list\n",
        "heightInches = [] # 2nd appending list\n",
        "\n",
        "names1=[] # 1st appending list \n",
        "names=[]  # 2nd appending list\n",
        "\n",
        "for team in mens_volleyball:\n",
        "  page = requests.get(team)\n",
        "\n",
        "  soup = BeautifulSoup(page.content, 'html.parser')  # Parse html content through beautifulsoup\n",
        "\n",
        "  tables = soup.find_all('table', class_ = 'sidearm-table-grid-template-1-breakdown-large')\n",
        "\n",
        "  for table in tables:\n",
        "      heights = table.find_all(class_ = 'height') # Finding all specified class\n",
        "      name =  table.find_all('a')\n",
        "\n",
        "      for x in heights:  \n",
        "        heightFeet.append(x.get_text())\n",
        "      for i in range(0, len(heightFeet)): # itterating through for loop\n",
        "        y = heightFeet[i].split('-') # splitting feet and inches\n",
        "        feet = float(y[0])  # converting from string to float, indexing first element\n",
        "        inches = y[1].replace('-','') # indexing second element, removing additonal characters\n",
        "        inches = float(inches)  #converting from string\n",
        "        heightInches.append( (feet* 12) + inches) #appending converted feet to inches list  \n",
        "\n",
        "      for n in name:\n",
        "        names1.append(n.get_text())\n",
        "      for i in range(0, len(names1)):\n",
        "        x = names1[i].replace('\\n',' ')\n",
        "        names.append(x)\n",
        "\n",
        "mens_volleyball = df = pd.DataFrame()  # Creating a df: two-dimensional data structure, i.e., data is aligned in a tabular fashion in rows and columns.\n",
        "df['mens_volleybal_names'] = names \n",
        "df['mens_volleybal_heightInches'] = heightInches\n",
        "mens_volleyball.head()    # The first 5 rows of a df "
      ],
      "execution_count": null,
      "outputs": [
        {
          "output_type": "execute_result",
          "data": {
            "text/html": [
              "<div>\n",
              "<style scoped>\n",
              "    .dataframe tbody tr th:only-of-type {\n",
              "        vertical-align: middle;\n",
              "    }\n",
              "\n",
              "    .dataframe tbody tr th {\n",
              "        vertical-align: top;\n",
              "    }\n",
              "\n",
              "    .dataframe thead th {\n",
              "        text-align: right;\n",
              "    }\n",
              "</style>\n",
              "<table border=\"1\" class=\"dataframe\">\n",
              "  <thead>\n",
              "    <tr style=\"text-align: right;\">\n",
              "      <th></th>\n",
              "      <th>mens_volleybal_names</th>\n",
              "      <th>mens_volleybal_heightInches</th>\n",
              "    </tr>\n",
              "  </thead>\n",
              "  <tbody>\n",
              "    <tr>\n",
              "      <th>0</th>\n",
              "      <td>Snigdho Hasan</td>\n",
              "      <td>65.0</td>\n",
              "    </tr>\n",
              "    <tr>\n",
              "      <th>1</th>\n",
              "      <td>Michael  Valentin</td>\n",
              "      <td>69.0</td>\n",
              "    </tr>\n",
              "    <tr>\n",
              "      <th>2</th>\n",
              "      <td>Andres Vargas</td>\n",
              "      <td>72.0</td>\n",
              "    </tr>\n",
              "    <tr>\n",
              "      <th>3</th>\n",
              "      <td>Jasper Diangco</td>\n",
              "      <td>70.0</td>\n",
              "    </tr>\n",
              "    <tr>\n",
              "      <th>4</th>\n",
              "      <td>Sayuj Zachariah</td>\n",
              "      <td>74.0</td>\n",
              "    </tr>\n",
              "  </tbody>\n",
              "</table>\n",
              "</div>"
            ],
            "text/plain": [
              "  mens_volleybal_names  mens_volleybal_heightInches\n",
              "0        Snigdho Hasan                         65.0\n",
              "1    Michael  Valentin                         69.0\n",
              "2        Andres Vargas                         72.0\n",
              "3       Jasper Diangco                         70.0\n",
              "4      Sayuj Zachariah                         74.0"
            ]
          },
          "metadata": {
            "tags": []
          },
          "execution_count": 18
        }
      ]
    },
    {
      "cell_type": "code",
      "metadata": {
        "colab": {
          "base_uri": "https://localhost:8080/"
        },
        "id": "F3I4qrtIQYoy",
        "outputId": "bacb699e-ac54-4ccf-fcfe-761fd12401fd"
      },
      "source": [
        "mens_volleyball.info() # This method prints information about a DataFrame including the index dtype and columns, non-null values and memory usage."
      ],
      "execution_count": null,
      "outputs": [
        {
          "output_type": "stream",
          "text": [
            "<class 'pandas.core.frame.DataFrame'>\n",
            "RangeIndex: 75 entries, 0 to 74\n",
            "Data columns (total 2 columns):\n",
            " #   Column                       Non-Null Count  Dtype  \n",
            "---  ------                       --------------  -----  \n",
            " 0   mens_volleybal_names         75 non-null     object \n",
            " 1   mens_volleybal_heightInches  75 non-null     float64\n",
            "dtypes: float64(1), object(1)\n",
            "memory usage: 1.3+ KB\n"
          ],
          "name": "stdout"
        }
      ]
    },
    {
      "cell_type": "code",
      "metadata": {
        "colab": {
          "base_uri": "https://localhost:8080/",
          "height": 204
        },
        "id": "4upruA6xQYvW",
        "outputId": "c1e83d9f-5899-443d-9891-5fb806d0a77d"
      },
      "source": [
        "# Names and the heights of the 5 tallest and 5 shortest mens_volleyball:\n",
        "\n",
        "tallest =mens_volleyball.sort_values(['mens_volleybal_heightInches'],ascending= False)\n",
        "tallest.head()  # The first 5 rows of a df "
      ],
      "execution_count": null,
      "outputs": [
        {
          "output_type": "execute_result",
          "data": {
            "text/html": [
              "<div>\n",
              "<style scoped>\n",
              "    .dataframe tbody tr th:only-of-type {\n",
              "        vertical-align: middle;\n",
              "    }\n",
              "\n",
              "    .dataframe tbody tr th {\n",
              "        vertical-align: top;\n",
              "    }\n",
              "\n",
              "    .dataframe thead th {\n",
              "        text-align: right;\n",
              "    }\n",
              "</style>\n",
              "<table border=\"1\" class=\"dataframe\">\n",
              "  <thead>\n",
              "    <tr style=\"text-align: right;\">\n",
              "      <th></th>\n",
              "      <th>mens_volleybal_names</th>\n",
              "      <th>mens_volleybal_heightInches</th>\n",
              "    </tr>\n",
              "  </thead>\n",
              "  <tbody>\n",
              "    <tr>\n",
              "      <th>65</th>\n",
              "      <td>Akil Vaughn</td>\n",
              "      <td>77.0</td>\n",
              "    </tr>\n",
              "    <tr>\n",
              "      <th>53</th>\n",
              "      <td>Artem Zinkin</td>\n",
              "      <td>77.0</td>\n",
              "    </tr>\n",
              "    <tr>\n",
              "      <th>27</th>\n",
              "      <td>Artem Zinkin</td>\n",
              "      <td>77.0</td>\n",
              "    </tr>\n",
              "    <tr>\n",
              "      <th>30</th>\n",
              "      <td>Leon Petrovitsky</td>\n",
              "      <td>77.0</td>\n",
              "    </tr>\n",
              "    <tr>\n",
              "      <th>56</th>\n",
              "      <td>Leon Petrovitsky</td>\n",
              "      <td>77.0</td>\n",
              "    </tr>\n",
              "  </tbody>\n",
              "</table>\n",
              "</div>"
            ],
            "text/plain": [
              "   mens_volleybal_names  mens_volleybal_heightInches\n",
              "65          Akil Vaughn                         77.0\n",
              "53         Artem Zinkin                         77.0\n",
              "27         Artem Zinkin                         77.0\n",
              "30     Leon Petrovitsky                         77.0\n",
              "56     Leon Petrovitsky                         77.0"
            ]
          },
          "metadata": {
            "tags": []
          },
          "execution_count": 20
        }
      ]
    },
    {
      "cell_type": "code",
      "metadata": {
        "colab": {
          "base_uri": "https://localhost:8080/",
          "height": 204
        },
        "id": "n5vmd4ORQY2r",
        "outputId": "2a60018c-c3aa-4a87-a91d-5b672f61723f"
      },
      "source": [
        "shortest =mens_volleyball.sort_values(['mens_volleybal_heightInches'],ascending= True) \n",
        "shortest.head()  # The first 5 rows of a df "
      ],
      "execution_count": null,
      "outputs": [
        {
          "output_type": "execute_result",
          "data": {
            "text/html": [
              "<div>\n",
              "<style scoped>\n",
              "    .dataframe tbody tr th:only-of-type {\n",
              "        vertical-align: middle;\n",
              "    }\n",
              "\n",
              "    .dataframe tbody tr th {\n",
              "        vertical-align: top;\n",
              "    }\n",
              "\n",
              "    .dataframe thead th {\n",
              "        text-align: right;\n",
              "    }\n",
              "</style>\n",
              "<table border=\"1\" class=\"dataframe\">\n",
              "  <thead>\n",
              "    <tr style=\"text-align: right;\">\n",
              "      <th></th>\n",
              "      <th>mens_volleybal_names</th>\n",
              "      <th>mens_volleybal_heightInches</th>\n",
              "    </tr>\n",
              "  </thead>\n",
              "  <tbody>\n",
              "    <tr>\n",
              "      <th>67</th>\n",
              "      <td>Jayden Deokinanan</td>\n",
              "      <td>64.0</td>\n",
              "    </tr>\n",
              "    <tr>\n",
              "      <th>0</th>\n",
              "      <td>Snigdho Hasan</td>\n",
              "      <td>65.0</td>\n",
              "    </tr>\n",
              "    <tr>\n",
              "      <th>35</th>\n",
              "      <td>Snigdho Hasan</td>\n",
              "      <td>65.0</td>\n",
              "    </tr>\n",
              "    <tr>\n",
              "      <th>9</th>\n",
              "      <td>Snigdho Hasan</td>\n",
              "      <td>65.0</td>\n",
              "    </tr>\n",
              "    <tr>\n",
              "      <th>62</th>\n",
              "      <td>Juan Rodriguez</td>\n",
              "      <td>66.0</td>\n",
              "    </tr>\n",
              "  </tbody>\n",
              "</table>\n",
              "</div>"
            ],
            "text/plain": [
              "   mens_volleybal_names  mens_volleybal_heightInches\n",
              "67    Jayden Deokinanan                         64.0\n",
              "0         Snigdho Hasan                         65.0\n",
              "35        Snigdho Hasan                         65.0\n",
              "9         Snigdho Hasan                         65.0\n",
              "62       Juan Rodriguez                         66.0"
            ]
          },
          "metadata": {
            "tags": []
          },
          "execution_count": 21
        }
      ]
    },
    {
      "cell_type": "code",
      "metadata": {
        "colab": {
          "base_uri": "https://localhost:8080/",
          "height": 204
        },
        "id": "wp2NaqVUZlGs",
        "outputId": "056415cc-aeac-4bff-c166-e7aed0d19730"
      },
      "source": [
        "merged = pd.concat([ mens_swim, mens_volleyball, womens_swim, womens_volleyball], axis=1, ignore_index=False ) # merging all the df \n",
        "merged.head()  # The first 5 rows of a df "
      ],
      "execution_count": null,
      "outputs": [
        {
          "output_type": "execute_result",
          "data": {
            "text/html": [
              "<div>\n",
              "<style scoped>\n",
              "    .dataframe tbody tr th:only-of-type {\n",
              "        vertical-align: middle;\n",
              "    }\n",
              "\n",
              "    .dataframe tbody tr th {\n",
              "        vertical-align: top;\n",
              "    }\n",
              "\n",
              "    .dataframe thead th {\n",
              "        text-align: right;\n",
              "    }\n",
              "</style>\n",
              "<table border=\"1\" class=\"dataframe\">\n",
              "  <thead>\n",
              "    <tr style=\"text-align: right;\">\n",
              "      <th></th>\n",
              "      <th>mens_swim_names</th>\n",
              "      <th>mens_swim_heightInches</th>\n",
              "      <th>mens_volleybal_names</th>\n",
              "      <th>mens_volleybal_heightInches</th>\n",
              "      <th>womens_swim_names</th>\n",
              "      <th>womens_swim_heightInches</th>\n",
              "      <th>womens_volleyball_names</th>\n",
              "      <th>womens_volleyball_heightInches</th>\n",
              "    </tr>\n",
              "  </thead>\n",
              "  <tbody>\n",
              "    <tr>\n",
              "      <th>0</th>\n",
              "      <td>Ronaldo Barrios</td>\n",
              "      <td>74.0</td>\n",
              "      <td>Snigdho Hasan</td>\n",
              "      <td>65.0</td>\n",
              "      <td>Semona Bardman</td>\n",
              "      <td>66.0</td>\n",
              "      <td>Inesa Shimcani</td>\n",
              "      <td>65.0</td>\n",
              "    </tr>\n",
              "    <tr>\n",
              "      <th>1</th>\n",
              "      <td>Devin Boodha</td>\n",
              "      <td>69.0</td>\n",
              "      <td>Michael  Valentin</td>\n",
              "      <td>69.0</td>\n",
              "      <td>Angella  Christopher</td>\n",
              "      <td>67.0</td>\n",
              "      <td>Ashley Fung</td>\n",
              "      <td>67.0</td>\n",
              "    </tr>\n",
              "    <tr>\n",
              "      <th>2</th>\n",
              "      <td>Nikita  Cary</td>\n",
              "      <td>68.0</td>\n",
              "      <td>Andres Vargas</td>\n",
              "      <td>72.0</td>\n",
              "      <td>Anna Curran</td>\n",
              "      <td>63.0</td>\n",
              "      <td>Rain Zhang</td>\n",
              "      <td>66.0</td>\n",
              "    </tr>\n",
              "    <tr>\n",
              "      <th>3</th>\n",
              "      <td>Alec Chi</td>\n",
              "      <td>70.0</td>\n",
              "      <td>Jasper Diangco</td>\n",
              "      <td>70.0</td>\n",
              "      <td>Rachel  Davidovich</td>\n",
              "      <td>64.0</td>\n",
              "      <td>Yana Shaposhnikova</td>\n",
              "      <td>63.0</td>\n",
              "    </tr>\n",
              "    <tr>\n",
              "      <th>4</th>\n",
              "      <td>Peter Ebert</td>\n",
              "      <td>74.0</td>\n",
              "      <td>Sayuj Zachariah</td>\n",
              "      <td>74.0</td>\n",
              "      <td>Shenaika Eliassaint</td>\n",
              "      <td>71.0</td>\n",
              "      <td>Ezri  Shor</td>\n",
              "      <td>65.0</td>\n",
              "    </tr>\n",
              "  </tbody>\n",
              "</table>\n",
              "</div>"
            ],
            "text/plain": [
              "   mens_swim_names  ...  womens_volleyball_heightInches\n",
              "0  Ronaldo Barrios  ...                            65.0\n",
              "1     Devin Boodha  ...                            67.0\n",
              "2     Nikita  Cary  ...                            66.0\n",
              "3         Alec Chi  ...                            63.0\n",
              "4      Peter Ebert  ...                            65.0\n",
              "\n",
              "[5 rows x 8 columns]"
            ]
          },
          "metadata": {
            "tags": []
          },
          "execution_count": 22
        }
      ]
    },
    {
      "cell_type": "code",
      "metadata": {
        "colab": {
          "base_uri": "https://localhost:8080/",
          "height": 297
        },
        "id": "oQ23HUkRYhpX",
        "outputId": "aed1e1a3-6832-4809-e115-55dbd7ff1026"
      },
      "source": [
        "merged.describe() # summary stats: Containes averages of the heights of the different heights of mens and womens swim and volleyball "
      ],
      "execution_count": null,
      "outputs": [
        {
          "output_type": "execute_result",
          "data": {
            "text/html": [
              "<div>\n",
              "<style scoped>\n",
              "    .dataframe tbody tr th:only-of-type {\n",
              "        vertical-align: middle;\n",
              "    }\n",
              "\n",
              "    .dataframe tbody tr th {\n",
              "        vertical-align: top;\n",
              "    }\n",
              "\n",
              "    .dataframe thead th {\n",
              "        text-align: right;\n",
              "    }\n",
              "</style>\n",
              "<table border=\"1\" class=\"dataframe\">\n",
              "  <thead>\n",
              "    <tr style=\"text-align: right;\">\n",
              "      <th></th>\n",
              "      <th>mens_swim_heightInches</th>\n",
              "      <th>mens_volleybal_heightInches</th>\n",
              "      <th>womens_swim_heightInches</th>\n",
              "      <th>womens_volleyball_heightInches</th>\n",
              "    </tr>\n",
              "  </thead>\n",
              "  <tbody>\n",
              "    <tr>\n",
              "      <th>count</th>\n",
              "      <td>92.000000</td>\n",
              "      <td>75.000000</td>\n",
              "      <td>77.000000</td>\n",
              "      <td>78.000000</td>\n",
              "    </tr>\n",
              "    <tr>\n",
              "      <th>mean</th>\n",
              "      <td>70.891304</td>\n",
              "      <td>72.186667</td>\n",
              "      <td>64.922078</td>\n",
              "      <td>65.987179</td>\n",
              "    </tr>\n",
              "    <tr>\n",
              "      <th>std</th>\n",
              "      <td>2.899248</td>\n",
              "      <td>3.363932</td>\n",
              "      <td>2.923436</td>\n",
              "      <td>3.304832</td>\n",
              "    </tr>\n",
              "    <tr>\n",
              "      <th>min</th>\n",
              "      <td>65.000000</td>\n",
              "      <td>64.000000</td>\n",
              "      <td>60.000000</td>\n",
              "      <td>60.000000</td>\n",
              "    </tr>\n",
              "    <tr>\n",
              "      <th>25%</th>\n",
              "      <td>69.000000</td>\n",
              "      <td>70.000000</td>\n",
              "      <td>63.000000</td>\n",
              "      <td>64.000000</td>\n",
              "    </tr>\n",
              "    <tr>\n",
              "      <th>50%</th>\n",
              "      <td>70.000000</td>\n",
              "      <td>72.000000</td>\n",
              "      <td>65.000000</td>\n",
              "      <td>66.000000</td>\n",
              "    </tr>\n",
              "    <tr>\n",
              "      <th>75%</th>\n",
              "      <td>73.000000</td>\n",
              "      <td>75.000000</td>\n",
              "      <td>67.000000</td>\n",
              "      <td>67.750000</td>\n",
              "    </tr>\n",
              "    <tr>\n",
              "      <th>max</th>\n",
              "      <td>77.000000</td>\n",
              "      <td>77.000000</td>\n",
              "      <td>71.000000</td>\n",
              "      <td>74.000000</td>\n",
              "    </tr>\n",
              "  </tbody>\n",
              "</table>\n",
              "</div>"
            ],
            "text/plain": [
              "       mens_swim_heightInches  ...  womens_volleyball_heightInches\n",
              "count               92.000000  ...                       78.000000\n",
              "mean                70.891304  ...                       65.987179\n",
              "std                  2.899248  ...                        3.304832\n",
              "min                 65.000000  ...                       60.000000\n",
              "25%                 69.000000  ...                       64.000000\n",
              "50%                 70.000000  ...                       66.000000\n",
              "75%                 73.000000  ...                       67.750000\n",
              "max                 77.000000  ...                       74.000000\n",
              "\n",
              "[8 rows x 4 columns]"
            ]
          },
          "metadata": {
            "tags": []
          },
          "execution_count": 23
        }
      ]
    },
    {
      "cell_type": "code",
      "metadata": {
        "id": "DhXeQ1ugPjwn",
        "colab": {
          "base_uri": "https://localhost:8080/",
          "height": 34
        },
        "outputId": "b1c0f47b-3ee0-490f-973c-5a2f6d1b7203"
      },
      "source": [
        "from google.colab import files     # exporting csv\n",
        "merged.to_csv('sports_evaluation_project.csv') \n",
        "files.download('sports_evaluation_project.csv')"
      ],
      "execution_count": null,
      "outputs": [
        {
          "output_type": "display_data",
          "data": {
            "application/javascript": [
              "\n",
              "    async function download(id, filename, size) {\n",
              "      if (!google.colab.kernel.accessAllowed) {\n",
              "        return;\n",
              "      }\n",
              "      const div = document.createElement('div');\n",
              "      const label = document.createElement('label');\n",
              "      label.textContent = `Downloading \"${filename}\": `;\n",
              "      div.appendChild(label);\n",
              "      const progress = document.createElement('progress');\n",
              "      progress.max = size;\n",
              "      div.appendChild(progress);\n",
              "      document.body.appendChild(div);\n",
              "\n",
              "      const buffers = [];\n",
              "      let downloaded = 0;\n",
              "\n",
              "      const channel = await google.colab.kernel.comms.open(id);\n",
              "      // Send a message to notify the kernel that we're ready.\n",
              "      channel.send({})\n",
              "\n",
              "      for await (const message of channel.messages) {\n",
              "        // Send a message to notify the kernel that we're ready.\n",
              "        channel.send({})\n",
              "        if (message.buffers) {\n",
              "          for (const buffer of message.buffers) {\n",
              "            buffers.push(buffer);\n",
              "            downloaded += buffer.byteLength;\n",
              "            progress.value = downloaded;\n",
              "          }\n",
              "        }\n",
              "      }\n",
              "      const blob = new Blob(buffers, {type: 'application/binary'});\n",
              "      const a = document.createElement('a');\n",
              "      a.href = window.URL.createObjectURL(blob);\n",
              "      a.download = filename;\n",
              "      div.appendChild(a);\n",
              "      a.click();\n",
              "      div.remove();\n",
              "    }\n",
              "  "
            ],
            "text/plain": [
              "<IPython.core.display.Javascript object>"
            ]
          },
          "metadata": {
            "tags": []
          }
        },
        {
          "output_type": "display_data",
          "data": {
            "application/javascript": [
              "download(\"download_3dc6a494-2417-4a94-ade3-46961fcc53d7\", \"sports_evaluation_project.csv\", 6968)"
            ],
            "text/plain": [
              "<IPython.core.display.Javascript object>"
            ]
          },
          "metadata": {
            "tags": []
          }
        }
      ]
    },
    {
      "cell_type": "code",
      "metadata": {
        "id": "Qm7pqwFbdTt2"
      },
      "source": [
        ""
      ],
      "execution_count": null,
      "outputs": []
    },
    {
      "cell_type": "code",
      "metadata": {
        "id": "i2toi7RyhFnH"
      },
      "source": [
        ""
      ],
      "execution_count": null,
      "outputs": []
    }
  ]
}