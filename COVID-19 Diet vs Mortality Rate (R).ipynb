{
 "cells": [
  {
   "cell_type": "code",
   "execution_count": 4,
   "id": "95401e89",
   "metadata": {},
   "outputs": [],
   "source": [
    "# Import libraries\n",
    "library(dplyr)\n",
    "library(ggplot2)\n",
    "library(gridExtra)\n"
   ]
  },
  {
   "cell_type": "code",
   "execution_count": 6,
   "id": "2c1daa9d",
   "metadata": {},
   "outputs": [],
   "source": [
    "dataset = read.csv('Fat_Supply_Quantity_Data (1).csv', header=T, stringsAsFactors = F)"
   ]
  },
  {
   "cell_type": "code",
   "execution_count": 3,
   "id": "1b51cee7",
   "metadata": {},
   "outputs": [
    {
     "ename": "ERROR",
     "evalue": "Error in str(dataset): object 'dataset' not found\n",
     "output_type": "error",
     "traceback": [
      "Error in str(dataset): object 'dataset' not found\nTraceback:\n",
      "1. str(dataset)"
     ]
    }
   ],
   "source": [
    "str(dataset)"
   ]
  },
  {
   "cell_type": "markdown",
   "id": "130050e1",
   "metadata": {},
   "source": [
    "## Preprocessing"
   ]
  },
  {
   "cell_type": "code",
   "execution_count": 5,
   "id": "7ef218af",
   "metadata": {},
   "outputs": [],
   "source": [
    "#remove the last column\n",
    "dataset=subset(dataset,select=-c(Unit..all.except.Population.))"
   ]
  },
  {
   "cell_type": "markdown",
   "id": "01910ceb",
   "metadata": {},
   "source": [
    "## Missing Values"
   ]
  },
  {
   "cell_type": "code",
   "execution_count": 6,
   "id": "06e8e2b6",
   "metadata": {},
   "outputs": [
    {
     "data": {
      "text/html": [
       "<dl class=dl-horizontal>\n",
       "\t<dt>Country</dt>\n",
       "\t\t<dd>0</dd>\n",
       "\t<dt>Alcoholic.Beverages</dt>\n",
       "\t\t<dd>0</dd>\n",
       "\t<dt>Animal.Products</dt>\n",
       "\t\t<dd>0</dd>\n",
       "\t<dt>Animal.fats</dt>\n",
       "\t\t<dd>0</dd>\n",
       "\t<dt>Aquatic.Products..Other</dt>\n",
       "\t\t<dd>0</dd>\n",
       "\t<dt>Cereals...Excluding.Beer</dt>\n",
       "\t\t<dd>0</dd>\n",
       "\t<dt>Eggs</dt>\n",
       "\t\t<dd>0</dd>\n",
       "\t<dt>Fish..Seafood</dt>\n",
       "\t\t<dd>0</dd>\n",
       "\t<dt>Fruits...Excluding.Wine</dt>\n",
       "\t\t<dd>0</dd>\n",
       "\t<dt>Meat</dt>\n",
       "\t\t<dd>0</dd>\n",
       "\t<dt>Miscellaneous</dt>\n",
       "\t\t<dd>0</dd>\n",
       "\t<dt>Milk...Excluding.Butter</dt>\n",
       "\t\t<dd>0</dd>\n",
       "\t<dt>Offals</dt>\n",
       "\t\t<dd>0</dd>\n",
       "\t<dt>Oilcrops</dt>\n",
       "\t\t<dd>0</dd>\n",
       "\t<dt>Pulses</dt>\n",
       "\t\t<dd>0</dd>\n",
       "\t<dt>Spices</dt>\n",
       "\t\t<dd>0</dd>\n",
       "\t<dt>Starchy.Roots</dt>\n",
       "\t\t<dd>0</dd>\n",
       "\t<dt>Stimulants</dt>\n",
       "\t\t<dd>0</dd>\n",
       "\t<dt>Sugar.Crops</dt>\n",
       "\t\t<dd>0</dd>\n",
       "\t<dt>Sugar...Sweeteners</dt>\n",
       "\t\t<dd>0</dd>\n",
       "\t<dt>Treenuts</dt>\n",
       "\t\t<dd>0</dd>\n",
       "\t<dt>Vegetal.Products</dt>\n",
       "\t\t<dd>0</dd>\n",
       "\t<dt>Vegetable.Oils</dt>\n",
       "\t\t<dd>0</dd>\n",
       "\t<dt>Vegetables</dt>\n",
       "\t\t<dd>0</dd>\n",
       "\t<dt>Obesity</dt>\n",
       "\t\t<dd>3</dd>\n",
       "\t<dt>Undernourished</dt>\n",
       "\t\t<dd>7</dd>\n",
       "\t<dt>Confirmed</dt>\n",
       "\t\t<dd>6</dd>\n",
       "\t<dt>Deaths</dt>\n",
       "\t\t<dd>6</dd>\n",
       "\t<dt>Recovered</dt>\n",
       "\t\t<dd>6</dd>\n",
       "\t<dt>Active</dt>\n",
       "\t\t<dd>8</dd>\n",
       "\t<dt>Population</dt>\n",
       "\t\t<dd>0</dd>\n",
       "</dl>\n"
      ],
      "text/latex": [
       "\\begin{description*}\n",
       "\\item[Country] 0\n",
       "\\item[Alcoholic.Beverages] 0\n",
       "\\item[Animal.Products] 0\n",
       "\\item[Animal.fats] 0\n",
       "\\item[Aquatic.Products..Other] 0\n",
       "\\item[Cereals...Excluding.Beer] 0\n",
       "\\item[Eggs] 0\n",
       "\\item[Fish..Seafood] 0\n",
       "\\item[Fruits...Excluding.Wine] 0\n",
       "\\item[Meat] 0\n",
       "\\item[Miscellaneous] 0\n",
       "\\item[Milk...Excluding.Butter] 0\n",
       "\\item[Offals] 0\n",
       "\\item[Oilcrops] 0\n",
       "\\item[Pulses] 0\n",
       "\\item[Spices] 0\n",
       "\\item[Starchy.Roots] 0\n",
       "\\item[Stimulants] 0\n",
       "\\item[Sugar.Crops] 0\n",
       "\\item[Sugar...Sweeteners] 0\n",
       "\\item[Treenuts] 0\n",
       "\\item[Vegetal.Products] 0\n",
       "\\item[Vegetable.Oils] 0\n",
       "\\item[Vegetables] 0\n",
       "\\item[Obesity] 3\n",
       "\\item[Undernourished] 7\n",
       "\\item[Confirmed] 6\n",
       "\\item[Deaths] 6\n",
       "\\item[Recovered] 6\n",
       "\\item[Active] 8\n",
       "\\item[Population] 0\n",
       "\\end{description*}\n"
      ],
      "text/markdown": [
       "Country\n",
       ":   0Alcoholic.Beverages\n",
       ":   0Animal.Products\n",
       ":   0Animal.fats\n",
       ":   0Aquatic.Products..Other\n",
       ":   0Cereals...Excluding.Beer\n",
       ":   0Eggs\n",
       ":   0Fish..Seafood\n",
       ":   0Fruits...Excluding.Wine\n",
       ":   0Meat\n",
       ":   0Miscellaneous\n",
       ":   0Milk...Excluding.Butter\n",
       ":   0Offals\n",
       ":   0Oilcrops\n",
       ":   0Pulses\n",
       ":   0Spices\n",
       ":   0Starchy.Roots\n",
       ":   0Stimulants\n",
       ":   0Sugar.Crops\n",
       ":   0Sugar...Sweeteners\n",
       ":   0Treenuts\n",
       ":   0Vegetal.Products\n",
       ":   0Vegetable.Oils\n",
       ":   0Vegetables\n",
       ":   0Obesity\n",
       ":   3Undernourished\n",
       ":   7Confirmed\n",
       ":   6Deaths\n",
       ":   6Recovered\n",
       ":   6Active\n",
       ":   8Population\n",
       ":   0\n",
       "\n"
      ],
      "text/plain": [
       "                 Country      Alcoholic.Beverages          Animal.Products \n",
       "                       0                        0                        0 \n",
       "             Animal.fats  Aquatic.Products..Other Cereals...Excluding.Beer \n",
       "                       0                        0                        0 \n",
       "                    Eggs            Fish..Seafood  Fruits...Excluding.Wine \n",
       "                       0                        0                        0 \n",
       "                    Meat            Miscellaneous  Milk...Excluding.Butter \n",
       "                       0                        0                        0 \n",
       "                  Offals                 Oilcrops                   Pulses \n",
       "                       0                        0                        0 \n",
       "                  Spices            Starchy.Roots               Stimulants \n",
       "                       0                        0                        0 \n",
       "             Sugar.Crops       Sugar...Sweeteners                 Treenuts \n",
       "                       0                        0                        0 \n",
       "        Vegetal.Products           Vegetable.Oils               Vegetables \n",
       "                       0                        0                        0 \n",
       "                 Obesity           Undernourished                Confirmed \n",
       "                       3                        7                        6 \n",
       "                  Deaths                Recovered                   Active \n",
       "                       6                        6                        8 \n",
       "              Population \n",
       "                       0 "
      ]
     },
     "metadata": {},
     "output_type": "display_data"
    }
   ],
   "source": [
    "colSums(is.na(dataset))"
   ]
  },
  {
   "cell_type": "code",
   "execution_count": 7,
   "id": "63363432",
   "metadata": {},
   "outputs": [],
   "source": [
    "dataset = na.omit(dataset) # na. omit returns the object with incomplete cases removed"
   ]
  },
  {
   "cell_type": "code",
   "execution_count": 8,
   "id": "0cc73c9d",
   "metadata": {},
   "outputs": [
    {
     "data": {
      "text/html": [
       "0"
      ],
      "text/latex": [
       "0"
      ],
      "text/markdown": [
       "0"
      ],
      "text/plain": [
       "[1] 0"
      ]
     },
     "metadata": {},
     "output_type": "display_data"
    }
   ],
   "source": [
    "sum(is.na(dataset))"
   ]
  },
  {
   "cell_type": "code",
   "execution_count": 9,
   "id": "1169aec1",
   "metadata": {},
   "outputs": [
    {
     "data": {
      "text/html": [
       "<ol class=list-inline>\n",
       "\t<li>154</li>\n",
       "\t<li>31</li>\n",
       "</ol>\n"
      ],
      "text/latex": [
       "\\begin{enumerate*}\n",
       "\\item 154\n",
       "\\item 31\n",
       "\\end{enumerate*}\n"
      ],
      "text/markdown": [
       "1. 154\n",
       "2. 31\n",
       "\n",
       "\n"
      ],
      "text/plain": [
       "[1] 154  31"
      ]
     },
     "metadata": {},
     "output_type": "display_data"
    }
   ],
   "source": [
    "dim(dataset) "
   ]
  },
  {
   "cell_type": "code",
   "execution_count": 10,
   "id": "ba0f650a",
   "metadata": {},
   "outputs": [],
   "source": [
    "numeric.data <- select_if(dataset, is.numeric)\n"
   ]
  },
  {
   "cell_type": "code",
   "execution_count": 11,
   "id": "ef011418",
   "metadata": {},
   "outputs": [
    {
     "data": {
      "text/html": [
       "<table>\n",
       "<thead><tr><th></th><th scope=col>Alcoholic.Beverages</th><th scope=col>Animal.Products</th><th scope=col>Animal.fats</th><th scope=col>Aquatic.Products..Other</th><th scope=col>Cereals...Excluding.Beer</th><th scope=col>Eggs</th><th scope=col>Fish..Seafood</th><th scope=col>Fruits...Excluding.Wine</th><th scope=col>Meat</th><th scope=col>Miscellaneous</th><th scope=col>...</th><th scope=col>Treenuts</th><th scope=col>Vegetal.Products</th><th scope=col>Vegetable.Oils</th><th scope=col>Vegetables</th><th scope=col>Obesity</th><th scope=col>Confirmed</th><th scope=col>Deaths</th><th scope=col>Recovered</th><th scope=col>Active</th><th scope=col>Population</th></tr></thead>\n",
       "<tbody>\n",
       "\t<tr><th scope=row>Alcoholic.Beverages</th><td> 1.00</td><td>-0.07</td><td>-0.04</td><td> 0.75</td><td> 0.10</td><td> 0.01</td><td> 0.08</td><td>-0.05</td><td>-0.02</td><td>-0.07</td><td>...  </td><td>-0.01</td><td> 0.07</td><td> 0.02</td><td> 0.08</td><td>-0.15</td><td>-0.09</td><td>-0.08</td><td>-0.07</td><td>-0.04</td><td>-0.01</td></tr>\n",
       "\t<tr><th scope=row>Animal.Products</th><td>-0.07</td><td> 1.00</td><td> 0.70</td><td> 0.02</td><td>-0.45</td><td> 0.47</td><td>-0.03</td><td>-0.12</td><td> 0.73</td><td> 0.12</td><td>...  </td><td> 0.16</td><td>-1.00</td><td>-0.68</td><td> 0.11</td><td> 0.45</td><td> 0.50</td><td> 0.45</td><td> 0.41</td><td> 0.27</td><td> 0.01</td></tr>\n",
       "\t<tr><th scope=row>Animal.fats</th><td>-0.04</td><td> 0.70</td><td> 1.00</td><td> 0.00</td><td>-0.40</td><td> 0.27</td><td>-0.11</td><td>-0.17</td><td> 0.23</td><td>-0.07</td><td>...  </td><td> 0.15</td><td>-0.70</td><td>-0.38</td><td>-0.06</td><td> 0.41</td><td> 0.51</td><td> 0.52</td><td> 0.45</td><td> 0.23</td><td> 0.02</td></tr>\n",
       "\t<tr><th scope=row>Aquatic.Products..Other</th><td> 0.75</td><td> 0.02</td><td> 0.00</td><td> 1.00</td><td>-0.09</td><td> 0.09</td><td> 0.13</td><td>-0.04</td><td> 0.08</td><td>-0.03</td><td>...  </td><td> 0.05</td><td>-0.02</td><td> 0.04</td><td> 0.16</td><td>-0.12</td><td>-0.09</td><td>-0.09</td><td>-0.08</td><td>-0.05</td><td> 0.13</td></tr>\n",
       "\t<tr><th scope=row>Cereals...Excluding.Beer</th><td> 0.10</td><td>-0.45</td><td>-0.40</td><td>-0.09</td><td> 1.00</td><td>-0.30</td><td>-0.03</td><td> 0.03</td><td>-0.26</td><td>-0.01</td><td>...  </td><td>-0.21</td><td> 0.45</td><td>-0.04</td><td>-0.03</td><td>-0.48</td><td>-0.44</td><td>-0.40</td><td>-0.33</td><td>-0.29</td><td>-0.01</td></tr>\n",
       "\t<tr><th scope=row>Eggs</th><td> 0.01</td><td> 0.47</td><td> 0.27</td><td> 0.09</td><td>-0.30</td><td> 1.00</td><td> 0.23</td><td>-0.08</td><td> 0.25</td><td> 0.07</td><td>...  </td><td> 0.29</td><td>-0.47</td><td>-0.20</td><td> 0.17</td><td> 0.32</td><td> 0.34</td><td> 0.31</td><td> 0.31</td><td> 0.15</td><td> 0.14</td></tr>\n",
       "\t<tr><th scope=row>Fish..Seafood</th><td> 0.08</td><td>-0.03</td><td>-0.11</td><td> 0.13</td><td>-0.03</td><td> 0.23</td><td> 1.00</td><td> 0.02</td><td>-0.02</td><td> 0.46</td><td>...  </td><td> 0.18</td><td> 0.03</td><td>-0.20</td><td> 0.04</td><td>-0.22</td><td>-0.15</td><td>-0.22</td><td>-0.13</td><td>-0.06</td><td>-0.01</td></tr>\n",
       "\t<tr><th scope=row>Fruits...Excluding.Wine</th><td>-0.05</td><td>-0.12</td><td>-0.17</td><td>-0.04</td><td> 0.03</td><td>-0.08</td><td> 0.02</td><td> 1.00</td><td>-0.04</td><td>-0.03</td><td>...  </td><td>-0.09</td><td> 0.12</td><td>-0.07</td><td> 0.04</td><td>-0.09</td><td>-0.08</td><td>-0.09</td><td>-0.06</td><td>-0.05</td><td>-0.04</td></tr>\n",
       "\t<tr><th scope=row>Meat</th><td>-0.02</td><td> 0.73</td><td> 0.23</td><td> 0.08</td><td>-0.26</td><td> 0.25</td><td>-0.02</td><td>-0.04</td><td> 1.00</td><td> 0.14</td><td>...  </td><td>-0.04</td><td>-0.73</td><td>-0.57</td><td> 0.04</td><td> 0.24</td><td> 0.18</td><td> 0.17</td><td> 0.13</td><td> 0.12</td><td> 0.03</td></tr>\n",
       "\t<tr><th scope=row>Miscellaneous</th><td>-0.07</td><td> 0.12</td><td>-0.07</td><td>-0.03</td><td>-0.01</td><td> 0.07</td><td> 0.46</td><td>-0.03</td><td> 0.14</td><td> 1.00</td><td>...  </td><td> 0.13</td><td>-0.12</td><td>-0.17</td><td>-0.01</td><td> 0.03</td><td>-0.06</td><td>-0.17</td><td> 0.00</td><td>-0.09</td><td>-0.05</td></tr>\n",
       "\t<tr><th scope=row>Milk...Excluding.Butter</th><td>-0.13</td><td> 0.63</td><td> 0.34</td><td>-0.12</td><td>-0.28</td><td> 0.26</td><td>-0.25</td><td>-0.06</td><td> 0.13</td><td> 0.03</td><td>...  </td><td> 0.17</td><td>-0.63</td><td>-0.38</td><td> 0.20</td><td> 0.34</td><td> 0.41</td><td> 0.34</td><td> 0.33</td><td> 0.24</td><td>-0.06</td></tr>\n",
       "\t<tr><th scope=row>Offals</th><td> 0.01</td><td> 0.07</td><td>-0.18</td><td> 0.03</td><td> 0.28</td><td>-0.13</td><td>-0.09</td><td> 0.08</td><td> 0.26</td><td>-0.10</td><td>...  </td><td>-0.13</td><td>-0.07</td><td>-0.23</td><td> 0.08</td><td>-0.26</td><td>-0.25</td><td>-0.19</td><td>-0.16</td><td>-0.20</td><td> 0.08</td></tr>\n",
       "\t<tr><th scope=row>Oilcrops</th><td> 0.06</td><td>-0.43</td><td>-0.34</td><td>-0.01</td><td> 0.16</td><td>-0.35</td><td> 0.30</td><td> 0.07</td><td>-0.23</td><td>-0.03</td><td>...  </td><td>-0.24</td><td> 0.43</td><td>-0.20</td><td>-0.11</td><td>-0.28</td><td>-0.38</td><td>-0.37</td><td>-0.32</td><td>-0.19</td><td>-0.03</td></tr>\n",
       "\t<tr><th scope=row>Pulses</th><td>-0.07</td><td>-0.43</td><td>-0.32</td><td>-0.08</td><td> 0.41</td><td>-0.33</td><td>-0.10</td><td> 0.51</td><td>-0.33</td><td>-0.09</td><td>...  </td><td>-0.13</td><td> 0.43</td><td> 0.08</td><td>-0.04</td><td>-0.40</td><td>-0.32</td><td>-0.31</td><td>-0.25</td><td>-0.20</td><td> 0.10</td></tr>\n",
       "\t<tr><th scope=row>Spices</th><td>-0.05</td><td>-0.19</td><td>-0.20</td><td>-0.03</td><td> 0.15</td><td>-0.02</td><td> 0.22</td><td>-0.01</td><td>-0.16</td><td> 0.16</td><td>...  </td><td> 0.12</td><td> 0.19</td><td>-0.05</td><td> 0.22</td><td>-0.23</td><td>-0.18</td><td>-0.16</td><td>-0.12</td><td>-0.14</td><td> 0.05</td></tr>\n",
       "\t<tr><th scope=row>Starchy.Roots</th><td>-0.04</td><td>-0.40</td><td>-0.32</td><td>-0.05</td><td> 0.20</td><td>-0.36</td><td> 0.18</td><td> 0.45</td><td>-0.16</td><td>-0.07</td><td>...  </td><td>-0.18</td><td> 0.40</td><td> 0.05</td><td>-0.08</td><td>-0.35</td><td>-0.33</td><td>-0.29</td><td>-0.28</td><td>-0.18</td><td>-0.04</td></tr>\n",
       "\t<tr><th scope=row>Stimulants</th><td>-0.08</td><td> 0.47</td><td> 0.28</td><td>-0.04</td><td>-0.30</td><td> 0.26</td><td> 0.03</td><td>-0.09</td><td> 0.26</td><td> 0.30</td><td>...  </td><td> 0.19</td><td>-0.47</td><td>-0.33</td><td> 0.14</td><td> 0.35</td><td> 0.48</td><td> 0.31</td><td> 0.52</td><td> 0.09</td><td>-0.11</td></tr>\n",
       "\t<tr><th scope=row>Sugar.Crops</th><td>-0.02</td><td>-0.03</td><td>-0.03</td><td>-0.02</td><td> 0.20</td><td>-0.10</td><td> 0.10</td><td> 0.01</td><td> 0.02</td><td>-0.02</td><td>...  </td><td>-0.09</td><td> 0.03</td><td>-0.06</td><td> 0.29</td><td>-0.21</td><td>-0.12</td><td>-0.12</td><td>-0.10</td><td>-0.08</td><td> 0.02</td></tr>\n",
       "\t<tr><th scope=row>Sugar...Sweeteners</th><td>-0.02</td><td>-0.08</td><td>-0.08</td><td> 0.02</td><td> 0.01</td><td> 0.07</td><td> 0.14</td><td> 0.04</td><td>-0.01</td><td>-0.05</td><td>...  </td><td>-0.04</td><td> 0.08</td><td> 0.03</td><td>-0.03</td><td>-0.13</td><td>-0.08</td><td>-0.07</td><td>-0.06</td><td>-0.05</td><td> 0.27</td></tr>\n",
       "\t<tr><th scope=row>Treenuts</th><td>-0.01</td><td> 0.16</td><td> 0.15</td><td> 0.05</td><td>-0.21</td><td> 0.29</td><td> 0.18</td><td>-0.09</td><td>-0.04</td><td> 0.13</td><td>...  </td><td> 1.00</td><td>-0.16</td><td>-0.06</td><td> 0.29</td><td> 0.20</td><td> 0.24</td><td> 0.15</td><td> 0.19</td><td> 0.15</td><td> 0.05</td></tr>\n",
       "\t<tr><th scope=row>Vegetal.Products</th><td> 0.07</td><td>-1.00</td><td>-0.70</td><td>-0.02</td><td> 0.45</td><td>-0.47</td><td> 0.03</td><td> 0.12</td><td>-0.73</td><td>-0.12</td><td>...  </td><td>-0.16</td><td> 1.00</td><td> 0.68</td><td>-0.11</td><td>-0.45</td><td>-0.50</td><td>-0.45</td><td>-0.41</td><td>-0.27</td><td>-0.01</td></tr>\n",
       "\t<tr><th scope=row>Vegetable.Oils</th><td> 0.02</td><td>-0.68</td><td>-0.38</td><td> 0.04</td><td>-0.04</td><td>-0.20</td><td>-0.20</td><td>-0.07</td><td>-0.57</td><td>-0.17</td><td>...  </td><td>-0.06</td><td> 0.68</td><td> 1.00</td><td>-0.14</td><td>-0.11</td><td>-0.15</td><td>-0.10</td><td>-0.16</td><td>-0.04</td><td> 0.01</td></tr>\n",
       "\t<tr><th scope=row>Vegetables</th><td> 0.08</td><td> 0.11</td><td>-0.06</td><td> 0.16</td><td>-0.03</td><td> 0.17</td><td> 0.04</td><td> 0.04</td><td> 0.04</td><td>-0.01</td><td>...  </td><td> 0.29</td><td>-0.11</td><td>-0.14</td><td> 1.00</td><td>-0.03</td><td> 0.00</td><td> 0.00</td><td> 0.05</td><td>-0.08</td><td> 0.09</td></tr>\n",
       "\t<tr><th scope=row>Obesity</th><td>-0.15</td><td> 0.45</td><td> 0.41</td><td>-0.12</td><td>-0.48</td><td> 0.32</td><td>-0.22</td><td>-0.09</td><td> 0.24</td><td> 0.03</td><td>...  </td><td> 0.20</td><td>-0.45</td><td>-0.11</td><td>-0.03</td><td> 1.00</td><td> 0.53</td><td> 0.49</td><td> 0.42</td><td> 0.31</td><td>-0.18</td></tr>\n",
       "\t<tr><th scope=row>Confirmed</th><td>-0.09</td><td> 0.50</td><td> 0.51</td><td>-0.09</td><td>-0.44</td><td> 0.34</td><td>-0.15</td><td>-0.08</td><td> 0.18</td><td>-0.06</td><td>...  </td><td> 0.24</td><td>-0.50</td><td>-0.15</td><td> 0.00</td><td> 0.53</td><td> 1.00</td><td> 0.86</td><td> 0.82</td><td> 0.56</td><td>-0.08</td></tr>\n",
       "\t<tr><th scope=row>Deaths</th><td>-0.08</td><td> 0.45</td><td> 0.52</td><td>-0.09</td><td>-0.40</td><td> 0.31</td><td>-0.22</td><td>-0.09</td><td> 0.17</td><td>-0.17</td><td>...  </td><td> 0.15</td><td>-0.45</td><td>-0.10</td><td> 0.00</td><td> 0.49</td><td> 0.86</td><td> 1.00</td><td> 0.66</td><td> 0.53</td><td>-0.06</td></tr>\n",
       "\t<tr><th scope=row>Recovered</th><td>-0.07</td><td> 0.41</td><td> 0.45</td><td>-0.08</td><td>-0.33</td><td> 0.31</td><td>-0.13</td><td>-0.06</td><td> 0.13</td><td> 0.00</td><td>...  </td><td> 0.19</td><td>-0.41</td><td>-0.16</td><td> 0.05</td><td> 0.42</td><td> 0.82</td><td> 0.66</td><td> 1.00</td><td>-0.02</td><td>-0.11</td></tr>\n",
       "\t<tr><th scope=row>Active</th><td>-0.04</td><td> 0.27</td><td> 0.23</td><td>-0.05</td><td>-0.29</td><td> 0.15</td><td>-0.06</td><td>-0.05</td><td> 0.12</td><td>-0.09</td><td>...  </td><td> 0.15</td><td>-0.27</td><td>-0.04</td><td>-0.08</td><td> 0.31</td><td> 0.56</td><td> 0.53</td><td>-0.02</td><td> 1.00</td><td> 0.01</td></tr>\n",
       "\t<tr><th scope=row>Population</th><td>-0.01</td><td> 0.01</td><td> 0.02</td><td> 0.13</td><td>-0.01</td><td> 0.14</td><td>-0.01</td><td>-0.04</td><td> 0.03</td><td>-0.05</td><td>...  </td><td> 0.05</td><td>-0.01</td><td> 0.01</td><td> 0.09</td><td>-0.18</td><td>-0.08</td><td>-0.06</td><td>-0.11</td><td> 0.01</td><td> 1.00</td></tr>\n",
       "</tbody>\n",
       "</table>\n"
      ],
      "text/latex": [
       "\\begin{tabular}{r|lllllllllllllllllllllllllllll}\n",
       "  & Alcoholic.Beverages & Animal.Products & Animal.fats & Aquatic.Products..Other & Cereals...Excluding.Beer & Eggs & Fish..Seafood & Fruits...Excluding.Wine & Meat & Miscellaneous & ... & Treenuts & Vegetal.Products & Vegetable.Oils & Vegetables & Obesity & Confirmed & Deaths & Recovered & Active & Population\\\\\n",
       "\\hline\n",
       "\tAlcoholic.Beverages &  1.00 & -0.07 & -0.04 &  0.75 &  0.10 &  0.01 &  0.08 & -0.05 & -0.02 & -0.07 & ...   & -0.01 &  0.07 &  0.02 &  0.08 & -0.15 & -0.09 & -0.08 & -0.07 & -0.04 & -0.01\\\\\n",
       "\tAnimal.Products & -0.07 &  1.00 &  0.70 &  0.02 & -0.45 &  0.47 & -0.03 & -0.12 &  0.73 &  0.12 & ...   &  0.16 & -1.00 & -0.68 &  0.11 &  0.45 &  0.50 &  0.45 &  0.41 &  0.27 &  0.01\\\\\n",
       "\tAnimal.fats & -0.04 &  0.70 &  1.00 &  0.00 & -0.40 &  0.27 & -0.11 & -0.17 &  0.23 & -0.07 & ...   &  0.15 & -0.70 & -0.38 & -0.06 &  0.41 &  0.51 &  0.52 &  0.45 &  0.23 &  0.02\\\\\n",
       "\tAquatic.Products..Other &  0.75 &  0.02 &  0.00 &  1.00 & -0.09 &  0.09 &  0.13 & -0.04 &  0.08 & -0.03 & ...   &  0.05 & -0.02 &  0.04 &  0.16 & -0.12 & -0.09 & -0.09 & -0.08 & -0.05 &  0.13\\\\\n",
       "\tCereals...Excluding.Beer &  0.10 & -0.45 & -0.40 & -0.09 &  1.00 & -0.30 & -0.03 &  0.03 & -0.26 & -0.01 & ...   & -0.21 &  0.45 & -0.04 & -0.03 & -0.48 & -0.44 & -0.40 & -0.33 & -0.29 & -0.01\\\\\n",
       "\tEggs &  0.01 &  0.47 &  0.27 &  0.09 & -0.30 &  1.00 &  0.23 & -0.08 &  0.25 &  0.07 & ...   &  0.29 & -0.47 & -0.20 &  0.17 &  0.32 &  0.34 &  0.31 &  0.31 &  0.15 &  0.14\\\\\n",
       "\tFish..Seafood &  0.08 & -0.03 & -0.11 &  0.13 & -0.03 &  0.23 &  1.00 &  0.02 & -0.02 &  0.46 & ...   &  0.18 &  0.03 & -0.20 &  0.04 & -0.22 & -0.15 & -0.22 & -0.13 & -0.06 & -0.01\\\\\n",
       "\tFruits...Excluding.Wine & -0.05 & -0.12 & -0.17 & -0.04 &  0.03 & -0.08 &  0.02 &  1.00 & -0.04 & -0.03 & ...   & -0.09 &  0.12 & -0.07 &  0.04 & -0.09 & -0.08 & -0.09 & -0.06 & -0.05 & -0.04\\\\\n",
       "\tMeat & -0.02 &  0.73 &  0.23 &  0.08 & -0.26 &  0.25 & -0.02 & -0.04 &  1.00 &  0.14 & ...   & -0.04 & -0.73 & -0.57 &  0.04 &  0.24 &  0.18 &  0.17 &  0.13 &  0.12 &  0.03\\\\\n",
       "\tMiscellaneous & -0.07 &  0.12 & -0.07 & -0.03 & -0.01 &  0.07 &  0.46 & -0.03 &  0.14 &  1.00 & ...   &  0.13 & -0.12 & -0.17 & -0.01 &  0.03 & -0.06 & -0.17 &  0.00 & -0.09 & -0.05\\\\\n",
       "\tMilk...Excluding.Butter & -0.13 &  0.63 &  0.34 & -0.12 & -0.28 &  0.26 & -0.25 & -0.06 &  0.13 &  0.03 & ...   &  0.17 & -0.63 & -0.38 &  0.20 &  0.34 &  0.41 &  0.34 &  0.33 &  0.24 & -0.06\\\\\n",
       "\tOffals &  0.01 &  0.07 & -0.18 &  0.03 &  0.28 & -0.13 & -0.09 &  0.08 &  0.26 & -0.10 & ...   & -0.13 & -0.07 & -0.23 &  0.08 & -0.26 & -0.25 & -0.19 & -0.16 & -0.20 &  0.08\\\\\n",
       "\tOilcrops &  0.06 & -0.43 & -0.34 & -0.01 &  0.16 & -0.35 &  0.30 &  0.07 & -0.23 & -0.03 & ...   & -0.24 &  0.43 & -0.20 & -0.11 & -0.28 & -0.38 & -0.37 & -0.32 & -0.19 & -0.03\\\\\n",
       "\tPulses & -0.07 & -0.43 & -0.32 & -0.08 &  0.41 & -0.33 & -0.10 &  0.51 & -0.33 & -0.09 & ...   & -0.13 &  0.43 &  0.08 & -0.04 & -0.40 & -0.32 & -0.31 & -0.25 & -0.20 &  0.10\\\\\n",
       "\tSpices & -0.05 & -0.19 & -0.20 & -0.03 &  0.15 & -0.02 &  0.22 & -0.01 & -0.16 &  0.16 & ...   &  0.12 &  0.19 & -0.05 &  0.22 & -0.23 & -0.18 & -0.16 & -0.12 & -0.14 &  0.05\\\\\n",
       "\tStarchy.Roots & -0.04 & -0.40 & -0.32 & -0.05 &  0.20 & -0.36 &  0.18 &  0.45 & -0.16 & -0.07 & ...   & -0.18 &  0.40 &  0.05 & -0.08 & -0.35 & -0.33 & -0.29 & -0.28 & -0.18 & -0.04\\\\\n",
       "\tStimulants & -0.08 &  0.47 &  0.28 & -0.04 & -0.30 &  0.26 &  0.03 & -0.09 &  0.26 &  0.30 & ...   &  0.19 & -0.47 & -0.33 &  0.14 &  0.35 &  0.48 &  0.31 &  0.52 &  0.09 & -0.11\\\\\n",
       "\tSugar.Crops & -0.02 & -0.03 & -0.03 & -0.02 &  0.20 & -0.10 &  0.10 &  0.01 &  0.02 & -0.02 & ...   & -0.09 &  0.03 & -0.06 &  0.29 & -0.21 & -0.12 & -0.12 & -0.10 & -0.08 &  0.02\\\\\n",
       "\tSugar...Sweeteners & -0.02 & -0.08 & -0.08 &  0.02 &  0.01 &  0.07 &  0.14 &  0.04 & -0.01 & -0.05 & ...   & -0.04 &  0.08 &  0.03 & -0.03 & -0.13 & -0.08 & -0.07 & -0.06 & -0.05 &  0.27\\\\\n",
       "\tTreenuts & -0.01 &  0.16 &  0.15 &  0.05 & -0.21 &  0.29 &  0.18 & -0.09 & -0.04 &  0.13 & ...   &  1.00 & -0.16 & -0.06 &  0.29 &  0.20 &  0.24 &  0.15 &  0.19 &  0.15 &  0.05\\\\\n",
       "\tVegetal.Products &  0.07 & -1.00 & -0.70 & -0.02 &  0.45 & -0.47 &  0.03 &  0.12 & -0.73 & -0.12 & ...   & -0.16 &  1.00 &  0.68 & -0.11 & -0.45 & -0.50 & -0.45 & -0.41 & -0.27 & -0.01\\\\\n",
       "\tVegetable.Oils &  0.02 & -0.68 & -0.38 &  0.04 & -0.04 & -0.20 & -0.20 & -0.07 & -0.57 & -0.17 & ...   & -0.06 &  0.68 &  1.00 & -0.14 & -0.11 & -0.15 & -0.10 & -0.16 & -0.04 &  0.01\\\\\n",
       "\tVegetables &  0.08 &  0.11 & -0.06 &  0.16 & -0.03 &  0.17 &  0.04 &  0.04 &  0.04 & -0.01 & ...   &  0.29 & -0.11 & -0.14 &  1.00 & -0.03 &  0.00 &  0.00 &  0.05 & -0.08 &  0.09\\\\\n",
       "\tObesity & -0.15 &  0.45 &  0.41 & -0.12 & -0.48 &  0.32 & -0.22 & -0.09 &  0.24 &  0.03 & ...   &  0.20 & -0.45 & -0.11 & -0.03 &  1.00 &  0.53 &  0.49 &  0.42 &  0.31 & -0.18\\\\\n",
       "\tConfirmed & -0.09 &  0.50 &  0.51 & -0.09 & -0.44 &  0.34 & -0.15 & -0.08 &  0.18 & -0.06 & ...   &  0.24 & -0.50 & -0.15 &  0.00 &  0.53 &  1.00 &  0.86 &  0.82 &  0.56 & -0.08\\\\\n",
       "\tDeaths & -0.08 &  0.45 &  0.52 & -0.09 & -0.40 &  0.31 & -0.22 & -0.09 &  0.17 & -0.17 & ...   &  0.15 & -0.45 & -0.10 &  0.00 &  0.49 &  0.86 &  1.00 &  0.66 &  0.53 & -0.06\\\\\n",
       "\tRecovered & -0.07 &  0.41 &  0.45 & -0.08 & -0.33 &  0.31 & -0.13 & -0.06 &  0.13 &  0.00 & ...   &  0.19 & -0.41 & -0.16 &  0.05 &  0.42 &  0.82 &  0.66 &  1.00 & -0.02 & -0.11\\\\\n",
       "\tActive & -0.04 &  0.27 &  0.23 & -0.05 & -0.29 &  0.15 & -0.06 & -0.05 &  0.12 & -0.09 & ...   &  0.15 & -0.27 & -0.04 & -0.08 &  0.31 &  0.56 &  0.53 & -0.02 &  1.00 &  0.01\\\\\n",
       "\tPopulation & -0.01 &  0.01 &  0.02 &  0.13 & -0.01 &  0.14 & -0.01 & -0.04 &  0.03 & -0.05 & ...   &  0.05 & -0.01 &  0.01 &  0.09 & -0.18 & -0.08 & -0.06 & -0.11 &  0.01 &  1.00\\\\\n",
       "\\end{tabular}\n"
      ],
      "text/markdown": [
       "\n",
       "| <!--/--> | Alcoholic.Beverages | Animal.Products | Animal.fats | Aquatic.Products..Other | Cereals...Excluding.Beer | Eggs | Fish..Seafood | Fruits...Excluding.Wine | Meat | Miscellaneous | ... | Treenuts | Vegetal.Products | Vegetable.Oils | Vegetables | Obesity | Confirmed | Deaths | Recovered | Active | Population |\n",
       "|---|---|---|---|---|---|---|---|---|---|---|---|---|---|---|---|---|---|---|---|---|---|\n",
       "| Alcoholic.Beverages |  1.00 | -0.07 | -0.04 |  0.75 |  0.10 |  0.01 |  0.08 | -0.05 | -0.02 | -0.07 | ...   | -0.01 |  0.07 |  0.02 |  0.08 | -0.15 | -0.09 | -0.08 | -0.07 | -0.04 | -0.01 |\n",
       "| Animal.Products | -0.07 |  1.00 |  0.70 |  0.02 | -0.45 |  0.47 | -0.03 | -0.12 |  0.73 |  0.12 | ...   |  0.16 | -1.00 | -0.68 |  0.11 |  0.45 |  0.50 |  0.45 |  0.41 |  0.27 |  0.01 |\n",
       "| Animal.fats | -0.04 |  0.70 |  1.00 |  0.00 | -0.40 |  0.27 | -0.11 | -0.17 |  0.23 | -0.07 | ...   |  0.15 | -0.70 | -0.38 | -0.06 |  0.41 |  0.51 |  0.52 |  0.45 |  0.23 |  0.02 |\n",
       "| Aquatic.Products..Other |  0.75 |  0.02 |  0.00 |  1.00 | -0.09 |  0.09 |  0.13 | -0.04 |  0.08 | -0.03 | ...   |  0.05 | -0.02 |  0.04 |  0.16 | -0.12 | -0.09 | -0.09 | -0.08 | -0.05 |  0.13 |\n",
       "| Cereals...Excluding.Beer |  0.10 | -0.45 | -0.40 | -0.09 |  1.00 | -0.30 | -0.03 |  0.03 | -0.26 | -0.01 | ...   | -0.21 |  0.45 | -0.04 | -0.03 | -0.48 | -0.44 | -0.40 | -0.33 | -0.29 | -0.01 |\n",
       "| Eggs |  0.01 |  0.47 |  0.27 |  0.09 | -0.30 |  1.00 |  0.23 | -0.08 |  0.25 |  0.07 | ...   |  0.29 | -0.47 | -0.20 |  0.17 |  0.32 |  0.34 |  0.31 |  0.31 |  0.15 |  0.14 |\n",
       "| Fish..Seafood |  0.08 | -0.03 | -0.11 |  0.13 | -0.03 |  0.23 |  1.00 |  0.02 | -0.02 |  0.46 | ...   |  0.18 |  0.03 | -0.20 |  0.04 | -0.22 | -0.15 | -0.22 | -0.13 | -0.06 | -0.01 |\n",
       "| Fruits...Excluding.Wine | -0.05 | -0.12 | -0.17 | -0.04 |  0.03 | -0.08 |  0.02 |  1.00 | -0.04 | -0.03 | ...   | -0.09 |  0.12 | -0.07 |  0.04 | -0.09 | -0.08 | -0.09 | -0.06 | -0.05 | -0.04 |\n",
       "| Meat | -0.02 |  0.73 |  0.23 |  0.08 | -0.26 |  0.25 | -0.02 | -0.04 |  1.00 |  0.14 | ...   | -0.04 | -0.73 | -0.57 |  0.04 |  0.24 |  0.18 |  0.17 |  0.13 |  0.12 |  0.03 |\n",
       "| Miscellaneous | -0.07 |  0.12 | -0.07 | -0.03 | -0.01 |  0.07 |  0.46 | -0.03 |  0.14 |  1.00 | ...   |  0.13 | -0.12 | -0.17 | -0.01 |  0.03 | -0.06 | -0.17 |  0.00 | -0.09 | -0.05 |\n",
       "| Milk...Excluding.Butter | -0.13 |  0.63 |  0.34 | -0.12 | -0.28 |  0.26 | -0.25 | -0.06 |  0.13 |  0.03 | ...   |  0.17 | -0.63 | -0.38 |  0.20 |  0.34 |  0.41 |  0.34 |  0.33 |  0.24 | -0.06 |\n",
       "| Offals |  0.01 |  0.07 | -0.18 |  0.03 |  0.28 | -0.13 | -0.09 |  0.08 |  0.26 | -0.10 | ...   | -0.13 | -0.07 | -0.23 |  0.08 | -0.26 | -0.25 | -0.19 | -0.16 | -0.20 |  0.08 |\n",
       "| Oilcrops |  0.06 | -0.43 | -0.34 | -0.01 |  0.16 | -0.35 |  0.30 |  0.07 | -0.23 | -0.03 | ...   | -0.24 |  0.43 | -0.20 | -0.11 | -0.28 | -0.38 | -0.37 | -0.32 | -0.19 | -0.03 |\n",
       "| Pulses | -0.07 | -0.43 | -0.32 | -0.08 |  0.41 | -0.33 | -0.10 |  0.51 | -0.33 | -0.09 | ...   | -0.13 |  0.43 |  0.08 | -0.04 | -0.40 | -0.32 | -0.31 | -0.25 | -0.20 |  0.10 |\n",
       "| Spices | -0.05 | -0.19 | -0.20 | -0.03 |  0.15 | -0.02 |  0.22 | -0.01 | -0.16 |  0.16 | ...   |  0.12 |  0.19 | -0.05 |  0.22 | -0.23 | -0.18 | -0.16 | -0.12 | -0.14 |  0.05 |\n",
       "| Starchy.Roots | -0.04 | -0.40 | -0.32 | -0.05 |  0.20 | -0.36 |  0.18 |  0.45 | -0.16 | -0.07 | ...   | -0.18 |  0.40 |  0.05 | -0.08 | -0.35 | -0.33 | -0.29 | -0.28 | -0.18 | -0.04 |\n",
       "| Stimulants | -0.08 |  0.47 |  0.28 | -0.04 | -0.30 |  0.26 |  0.03 | -0.09 |  0.26 |  0.30 | ...   |  0.19 | -0.47 | -0.33 |  0.14 |  0.35 |  0.48 |  0.31 |  0.52 |  0.09 | -0.11 |\n",
       "| Sugar.Crops | -0.02 | -0.03 | -0.03 | -0.02 |  0.20 | -0.10 |  0.10 |  0.01 |  0.02 | -0.02 | ...   | -0.09 |  0.03 | -0.06 |  0.29 | -0.21 | -0.12 | -0.12 | -0.10 | -0.08 |  0.02 |\n",
       "| Sugar...Sweeteners | -0.02 | -0.08 | -0.08 |  0.02 |  0.01 |  0.07 |  0.14 |  0.04 | -0.01 | -0.05 | ...   | -0.04 |  0.08 |  0.03 | -0.03 | -0.13 | -0.08 | -0.07 | -0.06 | -0.05 |  0.27 |\n",
       "| Treenuts | -0.01 |  0.16 |  0.15 |  0.05 | -0.21 |  0.29 |  0.18 | -0.09 | -0.04 |  0.13 | ...   |  1.00 | -0.16 | -0.06 |  0.29 |  0.20 |  0.24 |  0.15 |  0.19 |  0.15 |  0.05 |\n",
       "| Vegetal.Products |  0.07 | -1.00 | -0.70 | -0.02 |  0.45 | -0.47 |  0.03 |  0.12 | -0.73 | -0.12 | ...   | -0.16 |  1.00 |  0.68 | -0.11 | -0.45 | -0.50 | -0.45 | -0.41 | -0.27 | -0.01 |\n",
       "| Vegetable.Oils |  0.02 | -0.68 | -0.38 |  0.04 | -0.04 | -0.20 | -0.20 | -0.07 | -0.57 | -0.17 | ...   | -0.06 |  0.68 |  1.00 | -0.14 | -0.11 | -0.15 | -0.10 | -0.16 | -0.04 |  0.01 |\n",
       "| Vegetables |  0.08 |  0.11 | -0.06 |  0.16 | -0.03 |  0.17 |  0.04 |  0.04 |  0.04 | -0.01 | ...   |  0.29 | -0.11 | -0.14 |  1.00 | -0.03 |  0.00 |  0.00 |  0.05 | -0.08 |  0.09 |\n",
       "| Obesity | -0.15 |  0.45 |  0.41 | -0.12 | -0.48 |  0.32 | -0.22 | -0.09 |  0.24 |  0.03 | ...   |  0.20 | -0.45 | -0.11 | -0.03 |  1.00 |  0.53 |  0.49 |  0.42 |  0.31 | -0.18 |\n",
       "| Confirmed | -0.09 |  0.50 |  0.51 | -0.09 | -0.44 |  0.34 | -0.15 | -0.08 |  0.18 | -0.06 | ...   |  0.24 | -0.50 | -0.15 |  0.00 |  0.53 |  1.00 |  0.86 |  0.82 |  0.56 | -0.08 |\n",
       "| Deaths | -0.08 |  0.45 |  0.52 | -0.09 | -0.40 |  0.31 | -0.22 | -0.09 |  0.17 | -0.17 | ...   |  0.15 | -0.45 | -0.10 |  0.00 |  0.49 |  0.86 |  1.00 |  0.66 |  0.53 | -0.06 |\n",
       "| Recovered | -0.07 |  0.41 |  0.45 | -0.08 | -0.33 |  0.31 | -0.13 | -0.06 |  0.13 |  0.00 | ...   |  0.19 | -0.41 | -0.16 |  0.05 |  0.42 |  0.82 |  0.66 |  1.00 | -0.02 | -0.11 |\n",
       "| Active | -0.04 |  0.27 |  0.23 | -0.05 | -0.29 |  0.15 | -0.06 | -0.05 |  0.12 | -0.09 | ...   |  0.15 | -0.27 | -0.04 | -0.08 |  0.31 |  0.56 |  0.53 | -0.02 |  1.00 |  0.01 |\n",
       "| Population | -0.01 |  0.01 |  0.02 |  0.13 | -0.01 |  0.14 | -0.01 | -0.04 |  0.03 | -0.05 | ...   |  0.05 | -0.01 |  0.01 |  0.09 | -0.18 | -0.08 | -0.06 | -0.11 |  0.01 |  1.00 |\n",
       "\n"
      ],
      "text/plain": [
       "                         Alcoholic.Beverages Animal.Products Animal.fats\n",
       "Alcoholic.Beverages       1.00               -0.07           -0.04      \n",
       "Animal.Products          -0.07                1.00            0.70      \n",
       "Animal.fats              -0.04                0.70            1.00      \n",
       "Aquatic.Products..Other   0.75                0.02            0.00      \n",
       "Cereals...Excluding.Beer  0.10               -0.45           -0.40      \n",
       "Eggs                      0.01                0.47            0.27      \n",
       "Fish..Seafood             0.08               -0.03           -0.11      \n",
       "Fruits...Excluding.Wine  -0.05               -0.12           -0.17      \n",
       "Meat                     -0.02                0.73            0.23      \n",
       "Miscellaneous            -0.07                0.12           -0.07      \n",
       "Milk...Excluding.Butter  -0.13                0.63            0.34      \n",
       "Offals                    0.01                0.07           -0.18      \n",
       "Oilcrops                  0.06               -0.43           -0.34      \n",
       "Pulses                   -0.07               -0.43           -0.32      \n",
       "Spices                   -0.05               -0.19           -0.20      \n",
       "Starchy.Roots            -0.04               -0.40           -0.32      \n",
       "Stimulants               -0.08                0.47            0.28      \n",
       "Sugar.Crops              -0.02               -0.03           -0.03      \n",
       "Sugar...Sweeteners       -0.02               -0.08           -0.08      \n",
       "Treenuts                 -0.01                0.16            0.15      \n",
       "Vegetal.Products          0.07               -1.00           -0.70      \n",
       "Vegetable.Oils            0.02               -0.68           -0.38      \n",
       "Vegetables                0.08                0.11           -0.06      \n",
       "Obesity                  -0.15                0.45            0.41      \n",
       "Confirmed                -0.09                0.50            0.51      \n",
       "Deaths                   -0.08                0.45            0.52      \n",
       "Recovered                -0.07                0.41            0.45      \n",
       "Active                   -0.04                0.27            0.23      \n",
       "Population               -0.01                0.01            0.02      \n",
       "                         Aquatic.Products..Other Cereals...Excluding.Beer Eggs \n",
       "Alcoholic.Beverages       0.75                    0.10                     0.01\n",
       "Animal.Products           0.02                   -0.45                     0.47\n",
       "Animal.fats               0.00                   -0.40                     0.27\n",
       "Aquatic.Products..Other   1.00                   -0.09                     0.09\n",
       "Cereals...Excluding.Beer -0.09                    1.00                    -0.30\n",
       "Eggs                      0.09                   -0.30                     1.00\n",
       "Fish..Seafood             0.13                   -0.03                     0.23\n",
       "Fruits...Excluding.Wine  -0.04                    0.03                    -0.08\n",
       "Meat                      0.08                   -0.26                     0.25\n",
       "Miscellaneous            -0.03                   -0.01                     0.07\n",
       "Milk...Excluding.Butter  -0.12                   -0.28                     0.26\n",
       "Offals                    0.03                    0.28                    -0.13\n",
       "Oilcrops                 -0.01                    0.16                    -0.35\n",
       "Pulses                   -0.08                    0.41                    -0.33\n",
       "Spices                   -0.03                    0.15                    -0.02\n",
       "Starchy.Roots            -0.05                    0.20                    -0.36\n",
       "Stimulants               -0.04                   -0.30                     0.26\n",
       "Sugar.Crops              -0.02                    0.20                    -0.10\n",
       "Sugar...Sweeteners        0.02                    0.01                     0.07\n",
       "Treenuts                  0.05                   -0.21                     0.29\n",
       "Vegetal.Products         -0.02                    0.45                    -0.47\n",
       "Vegetable.Oils            0.04                   -0.04                    -0.20\n",
       "Vegetables                0.16                   -0.03                     0.17\n",
       "Obesity                  -0.12                   -0.48                     0.32\n",
       "Confirmed                -0.09                   -0.44                     0.34\n",
       "Deaths                   -0.09                   -0.40                     0.31\n",
       "Recovered                -0.08                   -0.33                     0.31\n",
       "Active                   -0.05                   -0.29                     0.15\n",
       "Population                0.13                   -0.01                     0.14\n",
       "                         Fish..Seafood Fruits...Excluding.Wine Meat \n",
       "Alcoholic.Beverages       0.08         -0.05                   -0.02\n",
       "Animal.Products          -0.03         -0.12                    0.73\n",
       "Animal.fats              -0.11         -0.17                    0.23\n",
       "Aquatic.Products..Other   0.13         -0.04                    0.08\n",
       "Cereals...Excluding.Beer -0.03          0.03                   -0.26\n",
       "Eggs                      0.23         -0.08                    0.25\n",
       "Fish..Seafood             1.00          0.02                   -0.02\n",
       "Fruits...Excluding.Wine   0.02          1.00                   -0.04\n",
       "Meat                     -0.02         -0.04                    1.00\n",
       "Miscellaneous             0.46         -0.03                    0.14\n",
       "Milk...Excluding.Butter  -0.25         -0.06                    0.13\n",
       "Offals                   -0.09          0.08                    0.26\n",
       "Oilcrops                  0.30          0.07                   -0.23\n",
       "Pulses                   -0.10          0.51                   -0.33\n",
       "Spices                    0.22         -0.01                   -0.16\n",
       "Starchy.Roots             0.18          0.45                   -0.16\n",
       "Stimulants                0.03         -0.09                    0.26\n",
       "Sugar.Crops               0.10          0.01                    0.02\n",
       "Sugar...Sweeteners        0.14          0.04                   -0.01\n",
       "Treenuts                  0.18         -0.09                   -0.04\n",
       "Vegetal.Products          0.03          0.12                   -0.73\n",
       "Vegetable.Oils           -0.20         -0.07                   -0.57\n",
       "Vegetables                0.04          0.04                    0.04\n",
       "Obesity                  -0.22         -0.09                    0.24\n",
       "Confirmed                -0.15         -0.08                    0.18\n",
       "Deaths                   -0.22         -0.09                    0.17\n",
       "Recovered                -0.13         -0.06                    0.13\n",
       "Active                   -0.06         -0.05                    0.12\n",
       "Population               -0.01         -0.04                    0.03\n",
       "                         Miscellaneous ... Treenuts Vegetal.Products\n",
       "Alcoholic.Beverages      -0.07         ... -0.01     0.07           \n",
       "Animal.Products           0.12         ...  0.16    -1.00           \n",
       "Animal.fats              -0.07         ...  0.15    -0.70           \n",
       "Aquatic.Products..Other  -0.03         ...  0.05    -0.02           \n",
       "Cereals...Excluding.Beer -0.01         ... -0.21     0.45           \n",
       "Eggs                      0.07         ...  0.29    -0.47           \n",
       "Fish..Seafood             0.46         ...  0.18     0.03           \n",
       "Fruits...Excluding.Wine  -0.03         ... -0.09     0.12           \n",
       "Meat                      0.14         ... -0.04    -0.73           \n",
       "Miscellaneous             1.00         ...  0.13    -0.12           \n",
       "Milk...Excluding.Butter   0.03         ...  0.17    -0.63           \n",
       "Offals                   -0.10         ... -0.13    -0.07           \n",
       "Oilcrops                 -0.03         ... -0.24     0.43           \n",
       "Pulses                   -0.09         ... -0.13     0.43           \n",
       "Spices                    0.16         ...  0.12     0.19           \n",
       "Starchy.Roots            -0.07         ... -0.18     0.40           \n",
       "Stimulants                0.30         ...  0.19    -0.47           \n",
       "Sugar.Crops              -0.02         ... -0.09     0.03           \n",
       "Sugar...Sweeteners       -0.05         ... -0.04     0.08           \n",
       "Treenuts                  0.13         ...  1.00    -0.16           \n",
       "Vegetal.Products         -0.12         ... -0.16     1.00           \n",
       "Vegetable.Oils           -0.17         ... -0.06     0.68           \n",
       "Vegetables               -0.01         ...  0.29    -0.11           \n",
       "Obesity                   0.03         ...  0.20    -0.45           \n",
       "Confirmed                -0.06         ...  0.24    -0.50           \n",
       "Deaths                   -0.17         ...  0.15    -0.45           \n",
       "Recovered                 0.00         ...  0.19    -0.41           \n",
       "Active                   -0.09         ...  0.15    -0.27           \n",
       "Population               -0.05         ...  0.05    -0.01           \n",
       "                         Vegetable.Oils Vegetables Obesity Confirmed Deaths\n",
       "Alcoholic.Beverages       0.02           0.08      -0.15   -0.09     -0.08 \n",
       "Animal.Products          -0.68           0.11       0.45    0.50      0.45 \n",
       "Animal.fats              -0.38          -0.06       0.41    0.51      0.52 \n",
       "Aquatic.Products..Other   0.04           0.16      -0.12   -0.09     -0.09 \n",
       "Cereals...Excluding.Beer -0.04          -0.03      -0.48   -0.44     -0.40 \n",
       "Eggs                     -0.20           0.17       0.32    0.34      0.31 \n",
       "Fish..Seafood            -0.20           0.04      -0.22   -0.15     -0.22 \n",
       "Fruits...Excluding.Wine  -0.07           0.04      -0.09   -0.08     -0.09 \n",
       "Meat                     -0.57           0.04       0.24    0.18      0.17 \n",
       "Miscellaneous            -0.17          -0.01       0.03   -0.06     -0.17 \n",
       "Milk...Excluding.Butter  -0.38           0.20       0.34    0.41      0.34 \n",
       "Offals                   -0.23           0.08      -0.26   -0.25     -0.19 \n",
       "Oilcrops                 -0.20          -0.11      -0.28   -0.38     -0.37 \n",
       "Pulses                    0.08          -0.04      -0.40   -0.32     -0.31 \n",
       "Spices                   -0.05           0.22      -0.23   -0.18     -0.16 \n",
       "Starchy.Roots             0.05          -0.08      -0.35   -0.33     -0.29 \n",
       "Stimulants               -0.33           0.14       0.35    0.48      0.31 \n",
       "Sugar.Crops              -0.06           0.29      -0.21   -0.12     -0.12 \n",
       "Sugar...Sweeteners        0.03          -0.03      -0.13   -0.08     -0.07 \n",
       "Treenuts                 -0.06           0.29       0.20    0.24      0.15 \n",
       "Vegetal.Products          0.68          -0.11      -0.45   -0.50     -0.45 \n",
       "Vegetable.Oils            1.00          -0.14      -0.11   -0.15     -0.10 \n",
       "Vegetables               -0.14           1.00      -0.03    0.00      0.00 \n",
       "Obesity                  -0.11          -0.03       1.00    0.53      0.49 \n",
       "Confirmed                -0.15           0.00       0.53    1.00      0.86 \n",
       "Deaths                   -0.10           0.00       0.49    0.86      1.00 \n",
       "Recovered                -0.16           0.05       0.42    0.82      0.66 \n",
       "Active                   -0.04          -0.08       0.31    0.56      0.53 \n",
       "Population                0.01           0.09      -0.18   -0.08     -0.06 \n",
       "                         Recovered Active Population\n",
       "Alcoholic.Beverages      -0.07     -0.04  -0.01     \n",
       "Animal.Products           0.41      0.27   0.01     \n",
       "Animal.fats               0.45      0.23   0.02     \n",
       "Aquatic.Products..Other  -0.08     -0.05   0.13     \n",
       "Cereals...Excluding.Beer -0.33     -0.29  -0.01     \n",
       "Eggs                      0.31      0.15   0.14     \n",
       "Fish..Seafood            -0.13     -0.06  -0.01     \n",
       "Fruits...Excluding.Wine  -0.06     -0.05  -0.04     \n",
       "Meat                      0.13      0.12   0.03     \n",
       "Miscellaneous             0.00     -0.09  -0.05     \n",
       "Milk...Excluding.Butter   0.33      0.24  -0.06     \n",
       "Offals                   -0.16     -0.20   0.08     \n",
       "Oilcrops                 -0.32     -0.19  -0.03     \n",
       "Pulses                   -0.25     -0.20   0.10     \n",
       "Spices                   -0.12     -0.14   0.05     \n",
       "Starchy.Roots            -0.28     -0.18  -0.04     \n",
       "Stimulants                0.52      0.09  -0.11     \n",
       "Sugar.Crops              -0.10     -0.08   0.02     \n",
       "Sugar...Sweeteners       -0.06     -0.05   0.27     \n",
       "Treenuts                  0.19      0.15   0.05     \n",
       "Vegetal.Products         -0.41     -0.27  -0.01     \n",
       "Vegetable.Oils           -0.16     -0.04   0.01     \n",
       "Vegetables                0.05     -0.08   0.09     \n",
       "Obesity                   0.42      0.31  -0.18     \n",
       "Confirmed                 0.82      0.56  -0.08     \n",
       "Deaths                    0.66      0.53  -0.06     \n",
       "Recovered                 1.00     -0.02  -0.11     \n",
       "Active                   -0.02      1.00   0.01     \n",
       "Population               -0.11      0.01   1.00     "
      ]
     },
     "metadata": {},
     "output_type": "display_data"
    }
   ],
   "source": [
    "# correlation beyween numerical columns\n",
    "M <-cor(numeric.data)\n",
    "\n",
    "correlation=round(M,2)\n",
    "correlation"
   ]
  },
  {
   "cell_type": "code",
   "execution_count": 12,
   "id": "71fd6f32",
   "metadata": {},
   "outputs": [],
   "source": [
    "# show correlation between Obesity,Confirmed,Deaths and Recovered\n",
    "data_corr=subset(dataset,select=c(Obesity,Confirmed,Deaths,Recovered))"
   ]
  },
  {
   "cell_type": "code",
   "execution_count": 13,
   "id": "9a663374",
   "metadata": {},
   "outputs": [
    {
     "data": {
      "text/html": [
       "<table>\n",
       "<thead><tr><th></th><th scope=col>Obesity</th><th scope=col>Confirmed</th><th scope=col>Deaths</th><th scope=col>Recovered</th></tr></thead>\n",
       "<tbody>\n",
       "\t<tr><th scope=row>Obesity</th><td>1.0000000</td><td>0.5254964</td><td>0.4888412</td><td>0.4191795</td></tr>\n",
       "\t<tr><th scope=row>Confirmed</th><td>0.5254964</td><td>1.0000000</td><td>0.8571638</td><td>0.8156346</td></tr>\n",
       "\t<tr><th scope=row>Deaths</th><td>0.4888412</td><td>0.8571638</td><td>1.0000000</td><td>0.6588682</td></tr>\n",
       "\t<tr><th scope=row>Recovered</th><td>0.4191795</td><td>0.8156346</td><td>0.6588682</td><td>1.0000000</td></tr>\n",
       "</tbody>\n",
       "</table>\n"
      ],
      "text/latex": [
       "\\begin{tabular}{r|llll}\n",
       "  & Obesity & Confirmed & Deaths & Recovered\\\\\n",
       "\\hline\n",
       "\tObesity & 1.0000000 & 0.5254964 & 0.4888412 & 0.4191795\\\\\n",
       "\tConfirmed & 0.5254964 & 1.0000000 & 0.8571638 & 0.8156346\\\\\n",
       "\tDeaths & 0.4888412 & 0.8571638 & 1.0000000 & 0.6588682\\\\\n",
       "\tRecovered & 0.4191795 & 0.8156346 & 0.6588682 & 1.0000000\\\\\n",
       "\\end{tabular}\n"
      ],
      "text/markdown": [
       "\n",
       "| <!--/--> | Obesity | Confirmed | Deaths | Recovered |\n",
       "|---|---|---|---|---|\n",
       "| Obesity | 1.0000000 | 0.5254964 | 0.4888412 | 0.4191795 |\n",
       "| Confirmed | 0.5254964 | 1.0000000 | 0.8571638 | 0.8156346 |\n",
       "| Deaths | 0.4888412 | 0.8571638 | 1.0000000 | 0.6588682 |\n",
       "| Recovered | 0.4191795 | 0.8156346 | 0.6588682 | 1.0000000 |\n",
       "\n"
      ],
      "text/plain": [
       "          Obesity   Confirmed Deaths    Recovered\n",
       "Obesity   1.0000000 0.5254964 0.4888412 0.4191795\n",
       "Confirmed 0.5254964 1.0000000 0.8571638 0.8156346\n",
       "Deaths    0.4888412 0.8571638 1.0000000 0.6588682\n",
       "Recovered 0.4191795 0.8156346 0.6588682 1.0000000"
      ]
     },
     "metadata": {},
     "output_type": "display_data"
    }
   ],
   "source": [
    "cor(data_corr)"
   ]
  },
  {
   "cell_type": "markdown",
   "id": "c4c756ab",
   "metadata": {},
   "source": [
    "### Using Multiple regression "
   ]
  },
  {
   "cell_type": "code",
   "execution_count": 14,
   "id": "d910165a",
   "metadata": {},
   "outputs": [],
   "source": [
    "Obesity_na_data = dataset[is.na(dataset$Obesity), 2:24] # Indexing. is.na ...indicates which elements are missing.\n",
    "# In a vector or column, NA values can be removed as follows:\n",
    " \n",
    "Obesity_data = dataset[!is.na(dataset$Obesity), 2:25]"
   ]
  },
  {
   "cell_type": "code",
   "execution_count": 15,
   "id": "cf1a8c8b",
   "metadata": {},
   "outputs": [
    {
     "data": {
      "text/plain": [
       "\n",
       "Call:\n",
       "lm(formula = Obesity ~ ., data = Obesity_data)\n",
       "\n",
       "Residuals:\n",
       "     Min       1Q   Median       3Q      Max \n",
       "-14.8936  -4.2896  -0.3001   4.3292  25.2037 \n",
       "\n",
       "Coefficients:\n",
       "                         Estimate Std. Error t value Pr(>|t|)  \n",
       "(Intercept)               -933307     493582  -1.891   0.0609 .\n",
       "Alcoholic.Beverages          9287       4934   1.882   0.0621 .\n",
       "Animal.Products              9402       4930   1.907   0.0587 .\n",
       "Animal.fats                  9264       4945   1.874   0.0632 .\n",
       "Aquatic.Products..Other      9111       4961   1.837   0.0685 .\n",
       "Cereals...Excluding.Beer     9346       4938   1.893   0.0606 .\n",
       "Eggs                         9266       4945   1.874   0.0632 .\n",
       "Fish..Seafood                9261       4945   1.873   0.0633 .\n",
       "Fruits...Excluding.Wine      9348       4938   1.893   0.0606 .\n",
       "Meat                         9264       4945   1.874   0.0632 .\n",
       "Miscellaneous                9356       4939   1.894   0.0604 .\n",
       "Milk...Excluding.Butter      9264       4945   1.874   0.0632 .\n",
       "Offals                       9250       4945   1.871   0.0636 .\n",
       "Oilcrops                     9347       4938   1.893   0.0606 .\n",
       "Pulses                       9340       4938   1.891   0.0608 .\n",
       "Spices                       9346       4938   1.892   0.0607 .\n",
       "Starchy.Roots                9345       4938   1.892   0.0607 .\n",
       "Stimulants                   9348       4938   1.893   0.0606 .\n",
       "Sugar.Crops                  9305       4936   1.885   0.0616 .\n",
       "Sugar...Sweeteners           9207       4941   1.864   0.0646 .\n",
       "Treenuts                     9348       4938   1.893   0.0606 .\n",
       "Vegetal.Products             9320       4935   1.889   0.0612 .\n",
       "Vegetable.Oils               9346       4938   1.893   0.0606 .\n",
       "Vegetables                   9344       4938   1.892   0.0607 .\n",
       "---\n",
       "Signif. codes:  0 '***' 0.001 '**' 0.01 '*' 0.05 '.' 0.1 ' ' 1\n",
       "\n",
       "Residual standard error: 7.157 on 130 degrees of freedom\n",
       "Multiple R-squared:  0.5197,\tAdjusted R-squared:  0.4347 \n",
       "F-statistic: 6.116 on 23 and 130 DF,  p-value: 5.288e-12\n"
      ]
     },
     "metadata": {},
     "output_type": "display_data"
    }
   ],
   "source": [
    "Obesity_lm = lm(Obesity ~ ., data = Obesity_data)  # We fit this model to \n",
    "summary(Obesity_lm)"
   ]
  },
  {
   "cell_type": "code",
   "execution_count": 16,
   "id": "11eca60f",
   "metadata": {},
   "outputs": [
    {
     "name": "stdout",
     "output_type": "stream",
     "text": [
      "Start:  AIC=628.09\n",
      "Obesity ~ Alcoholic.Beverages + Animal.Products + Animal.fats + \n",
      "    Aquatic.Products..Other + Cereals...Excluding.Beer + Eggs + \n",
      "    Fish..Seafood + Fruits...Excluding.Wine + Meat + Miscellaneous + \n",
      "    Milk...Excluding.Butter + Offals + Oilcrops + Pulses + Spices + \n",
      "    Starchy.Roots + Stimulants + Sugar.Crops + Sugar...Sweeteners + \n",
      "    Treenuts + Vegetal.Products + Vegetable.Oils + Vegetables\n",
      "\n",
      "                           Df Sum of Sq    RSS    AIC\n",
      "<none>                                  6659.2 628.09\n",
      "- Aquatic.Products..Other   1    172.81 6832.0 630.03\n",
      "- Sugar...Sweeteners        1    177.89 6837.1 630.15\n",
      "- Offals                    1    179.25 6838.4 630.18\n",
      "- Fish..Seafood             1    179.70 6838.9 630.19\n",
      "- Milk...Excluding.Butter   1    179.82 6839.0 630.19\n",
      "- Meat                      1    179.83 6839.0 630.19\n",
      "- Animal.fats               1    179.83 6839.0 630.19\n",
      "- Eggs                      1    179.90 6839.1 630.19\n",
      "- Alcoholic.Beverages       1    181.46 6840.6 630.23\n",
      "- Sugar.Crops               1    182.03 6841.2 630.24\n",
      "- Vegetal.Products          1    182.73 6841.9 630.26\n",
      "- Pulses                    1    183.24 6842.4 630.27\n",
      "- Vegetables                1    183.40 6842.6 630.27\n",
      "- Starchy.Roots             1    183.42 6842.6 630.27\n",
      "- Spices                    1    183.46 6842.6 630.27\n",
      "- Cereals...Excluding.Beer  1    183.47 6842.6 630.27\n",
      "- Vegetable.Oils            1    183.48 6842.7 630.27\n",
      "- Oilcrops                  1    183.49 6842.7 630.27\n",
      "- Stimulants                1    183.53 6842.7 630.27\n",
      "- Treenuts                  1    183.53 6842.7 630.27\n",
      "- Fruits...Excluding.Wine   1    183.54 6842.7 630.27\n",
      "- Miscellaneous             1    183.85 6843.0 630.28\n",
      "- Animal.Products           1    186.30 6845.5 630.34\n"
     ]
    },
    {
     "data": {
      "text/plain": [
       "\n",
       "Call:\n",
       "lm(formula = Obesity ~ Alcoholic.Beverages + Animal.Products + \n",
       "    Animal.fats + Aquatic.Products..Other + Cereals...Excluding.Beer + \n",
       "    Eggs + Fish..Seafood + Fruits...Excluding.Wine + Meat + Miscellaneous + \n",
       "    Milk...Excluding.Butter + Offals + Oilcrops + Pulses + Spices + \n",
       "    Starchy.Roots + Stimulants + Sugar.Crops + Sugar...Sweeteners + \n",
       "    Treenuts + Vegetal.Products + Vegetable.Oils + Vegetables, \n",
       "    data = Obesity_data)\n",
       "\n",
       "Residuals:\n",
       "     Min       1Q   Median       3Q      Max \n",
       "-14.8936  -4.2896  -0.3001   4.3292  25.2037 \n",
       "\n",
       "Coefficients:\n",
       "                         Estimate Std. Error t value Pr(>|t|)  \n",
       "(Intercept)               -933307     493582  -1.891   0.0609 .\n",
       "Alcoholic.Beverages          9287       4934   1.882   0.0621 .\n",
       "Animal.Products              9402       4930   1.907   0.0587 .\n",
       "Animal.fats                  9264       4945   1.874   0.0632 .\n",
       "Aquatic.Products..Other      9111       4961   1.837   0.0685 .\n",
       "Cereals...Excluding.Beer     9346       4938   1.893   0.0606 .\n",
       "Eggs                         9266       4945   1.874   0.0632 .\n",
       "Fish..Seafood                9261       4945   1.873   0.0633 .\n",
       "Fruits...Excluding.Wine      9348       4938   1.893   0.0606 .\n",
       "Meat                         9264       4945   1.874   0.0632 .\n",
       "Miscellaneous                9356       4939   1.894   0.0604 .\n",
       "Milk...Excluding.Butter      9264       4945   1.874   0.0632 .\n",
       "Offals                       9250       4945   1.871   0.0636 .\n",
       "Oilcrops                     9347       4938   1.893   0.0606 .\n",
       "Pulses                       9340       4938   1.891   0.0608 .\n",
       "Spices                       9346       4938   1.892   0.0607 .\n",
       "Starchy.Roots                9345       4938   1.892   0.0607 .\n",
       "Stimulants                   9348       4938   1.893   0.0606 .\n",
       "Sugar.Crops                  9305       4936   1.885   0.0616 .\n",
       "Sugar...Sweeteners           9207       4941   1.864   0.0646 .\n",
       "Treenuts                     9348       4938   1.893   0.0606 .\n",
       "Vegetal.Products             9320       4935   1.889   0.0612 .\n",
       "Vegetable.Oils               9346       4938   1.893   0.0606 .\n",
       "Vegetables                   9344       4938   1.892   0.0607 .\n",
       "---\n",
       "Signif. codes:  0 '***' 0.001 '**' 0.01 '*' 0.05 '.' 0.1 ' ' 1\n",
       "\n",
       "Residual standard error: 7.157 on 130 degrees of freedom\n",
       "Multiple R-squared:  0.5197,\tAdjusted R-squared:  0.4347 \n",
       "F-statistic: 6.116 on 23 and 130 DF,  p-value: 5.288e-12\n"
      ]
     },
     "metadata": {},
     "output_type": "display_data"
    }
   ],
   "source": [
    "#Choose a model by AIC in a Stepwise Algorithm\n",
    "Obesity_step = step(Obesity_lm, scope = list(lower = ~ 1, upper = ~ .), direction = \"both\") # formula-based model by AIC.\n",
    "summary(Obesity_step) \n",
    "\n",
    "# Scope is all the variables\n",
    "\n",
    "Obesity_predict = predict(Obesity_step, newdata = Obesity_na_data)"
   ]
  },
  {
   "cell_type": "markdown",
   "id": "215b1ada",
   "metadata": {},
   "source": [
    "### Logistic Regression"
   ]
  },
  {
   "cell_type": "code",
   "execution_count": 17,
   "id": "ef39aeb6",
   "metadata": {},
   "outputs": [],
   "source": [
    "#split_data\n",
    "set.seed(123)\n",
    "split_data <-sample(nrow(dataset),nrow(dataset)*0.7)\n",
    "train=dataset[split_data,]\n",
    "test=dataset[-split_data,]"
   ]
  },
  {
   "cell_type": "markdown",
   "id": "fc375bc0",
   "metadata": {},
   "source": [
    "### 1) Deaths~ Obesity"
   ]
  },
  {
   "cell_type": "code",
   "execution_count": 18,
   "id": "85511673",
   "metadata": {},
   "outputs": [
    {
     "data": {
      "image/png": "[encoded data removed]",
      "text/plain": [
       "Plot with title \"\""
      ]
     },
     "metadata": {},
     "output_type": "display_data"
    },
    {
     "data": {
      "image/png": "[encoded data removed]",
      "text/plain": [
       "Plot with title \"\""
      ]
     },
     "metadata": {},
     "output_type": "display_data"
    },
    {
     "data": {
      "image/png": "[encoded data removed]",
      "text/plain": [
       "Plot with title \"\""
      ]
     },
     "metadata": {},
     "output_type": "display_data"
    },
    {
     "data": {
      "image/png": "[encoded data removed]",
      "text/plain": [
       "Plot with title \"\""
      ]
     },
     "metadata": {},
     "output_type": "display_data"
    }
   ],
   "source": [
    "glm.fit <- glm(Deaths~ Obesity, data = train)\n",
    "plot(glm.fit)"
   ]
  },
  {
   "cell_type": "code",
   "execution_count": 19,
   "id": "55371c77",
   "metadata": {},
   "outputs": [
    {
     "data": {
      "text/html": [
       "0.0441052804830971"
      ],
      "text/latex": [
       "0.0441052804830971"
      ],
      "text/markdown": [
       "0.0441052804830971"
      ],
      "text/plain": [
       "[1] 0.04410528"
      ]
     },
     "metadata": {},
     "output_type": "display_data"
    }
   ],
   "source": [
    "pred=predict(glm.fit,test)\n",
    "sqrt(mean((pred-test$Deaths)^2))"
   ]
  },
  {
   "cell_type": "markdown",
   "id": "e0669220",
   "metadata": {},
   "source": [
    "### 2) Recovered~ Obesity"
   ]
  },
  {
   "cell_type": "code",
   "execution_count": 21,
   "id": "f2941a6e",
   "metadata": {},
   "outputs": [
    {
     "data": {
      "image/png": "[encoded data removed]",
      "text/plain": [
       "Plot with title \"\""
      ]
     },
     "metadata": {},
     "output_type": "display_data"
    },
    {
     "data": {
      "image/png": "[encoded data removed]",
      "text/plain": [
       "Plot with title \"\""
      ]
     },
     "metadata": {},
     "output_type": "display_data"
    },
    {
     "data": {
      "image/png": "[encoded data removed]",
      "text/plain": [
       "Plot with title \"\""
      ]
     },
     "metadata": {},
     "output_type": "display_data"
    },
    {
     "data": {
      "image/png": "[encoded data removed]",
      "text/plain": [
       "Plot with title \"\""
      ]
     },
     "metadata": {},
     "output_type": "display_data"
    }
   ],
   "source": [
    "glm.fit <- glm(Recovered~ Obesity, data = train)\n",
    "plot(glm.fit)"
   ]
  },
  {
   "cell_type": "code",
   "execution_count": 22,
   "id": "c840d5cf",
   "metadata": {},
   "outputs": [
    {
     "data": {
      "text/html": [
       "1.66451721758613"
      ],
      "text/latex": [
       "1.66451721758613"
      ],
      "text/markdown": [
       "1.66451721758613"
      ],
      "text/plain": [
       "[1] 1.664517"
      ]
     },
     "metadata": {},
     "output_type": "display_data"
    }
   ],
   "source": [
    "pred=predict(glm.fit,test)\n",
    "sqrt(mean((pred-test$Deaths)^2))"
   ]
  },
  {
   "cell_type": "markdown",
   "id": "379c58ca",
   "metadata": {},
   "source": [
    "### 3) Confirmed~ Obesity"
   ]
  },
  {
   "cell_type": "code",
   "execution_count": 23,
   "id": "7c22dc91",
   "metadata": {},
   "outputs": [
    {
     "data": {
      "image/png": "[encoded data removed]",
      "text/plain": [
       "Plot with title \"\""
      ]
     },
     "metadata": {},
     "output_type": "display_data"
    },
    {
     "data": {
      "image/png": "[encoded data removed]",
      "text/plain": [
       "Plot with title \"\""
      ]
     },
     "metadata": {},
     "output_type": "display_data"
    },
    {
     "data": {
      "image/png": "[encoded data removed]",
      "text/plain": [
       "Plot with title \"\""
      ]
     },
     "metadata": {},
     "output_type": "display_data"
    },
    {
     "data": {
      "image/png": "[encoded data removed]",
      "text/plain": [
       "Plot with title \"\""
      ]
     },
     "metadata": {},
     "output_type": "display_data"
    }
   ],
   "source": [
    "glm.fit <- glm(Confirmed~ Obesity, data = train)\n",
    "#summary(glm.fit)\n",
    "plot(glm.fit)"
   ]
  },
  {
   "cell_type": "code",
   "execution_count": 24,
   "id": "c81a9ce3",
   "metadata": {},
   "outputs": [
    {
     "data": {
      "text/html": [
       "2.43801037011933"
      ],
      "text/latex": [
       "2.43801037011933"
      ],
      "text/markdown": [
       "2.43801037011933"
      ],
      "text/plain": [
       "[1] 2.43801"
      ]
     },
     "metadata": {},
     "output_type": "display_data"
    }
   ],
   "source": [
    "pred=predict(glm.fit,test)\n",
    "sqrt(mean((pred-test$Deaths)^2))"
   ]
  },
  {
   "cell_type": "code",
   "execution_count": null,
   "id": "e76dac7c",
   "metadata": {},
   "outputs": [],
   "source": []
  },
  {
   "cell_type": "markdown",
   "id": "74179c17",
   "metadata": {},
   "source": [
    "## Decision tree"
   ]
  },
  {
   "cell_type": "code",
   "execution_count": 25,
   "id": "3aaffe14",
   "metadata": {},
   "outputs": [],
   "source": [
    "library(rpart)\n",
    "fit <- rpart(Recovered~ Obesity, \n",
    "             method = \"anova\", data = train)"
   ]
  },
  {
   "cell_type": "code",
   "execution_count": 26,
   "id": "f907fd72",
   "metadata": {},
   "outputs": [
    {
     "data": {
      "image/png": "[encoded data removed]",
      "text/plain": [
       "plot without title"
      ]
     },
     "metadata": {},
     "output_type": "display_data"
    }
   ],
   "source": [
    "plot(fit, uniform = TRUE)\n",
    "text(fit, use.n = TRUE, cex = .7)"
   ]
  },
  {
   "cell_type": "code",
   "execution_count": 27,
   "id": "efff980f",
   "metadata": {},
   "outputs": [
    {
     "name": "stdout",
     "output_type": "stream",
     "text": [
      "\n",
      "Regression tree:\n",
      "rpart(formula = Recovered ~ Obesity, data = train, method = \"anova\")\n",
      "\n",
      "Variables actually used in tree construction:\n",
      "[1] Obesity\n",
      "\n",
      "Root node error: 407.14/107 = 3.805\n",
      "\n",
      "n= 107 \n",
      "\n",
      "        CP nsplit rel error  xerror    xstd\n",
      "1 0.270565      0   1.00000 1.01482 0.23285\n",
      "2 0.053438      1   0.72943 0.79720 0.17980\n",
      "3 0.016022      2   0.67600 0.91059 0.20673\n",
      "4 0.010000      3   0.65997 0.95526 0.21483\n",
      "Call:\n",
      "rpart(formula = Recovered ~ Obesity, data = train, method = \"anova\")\n",
      "  n= 107 \n",
      "\n",
      "          CP nsplit rel error    xerror      xstd\n",
      "1 0.27056521      0 1.0000000 1.0148216 0.2328539\n",
      "2 0.05343808      1 0.7294348 0.7972021 0.1798023\n",
      "3 0.01602234      2 0.6759967 0.9105924 0.2067280\n",
      "4 0.01000000      3 0.6599744 0.9552620 0.2148321\n",
      "\n",
      "Variable importance\n",
      "Obesity \n",
      "    100 \n",
      "\n",
      "Node number 1: 107 observations,    complexity param=0.2705652\n",
      "  mean=1.366115, MSE=3.805047 \n",
      "  left son=2 (53 obs) right son=3 (54 obs)\n",
      "  Primary splits:\n",
      "      Obesity < 20.7  to the left,  improve=0.2705652, (0 missing)\n",
      "\n",
      "Node number 2: 53 observations\n",
      "  mean=0.3419387, MSE=0.317996 \n",
      "\n",
      "Node number 3: 54 observations,    complexity param=0.05343808\n",
      "  mean=2.371326, MSE=5.187561 \n",
      "  left son=6 (46 obs) right son=7 (8 obs)\n",
      "  Primary splits:\n",
      "      Obesity < 22.55 to the right, improve=0.0776672, (0 missing)\n",
      "\n",
      "Node number 6: 46 observations,    complexity param=0.01602234\n",
      "  mean=2.106618, MSE=4.44303 \n",
      "  left son=12 (12 obs) right son=13 (34 obs)\n",
      "  Primary splits:\n",
      "      Obesity < 28.7  to the right, improve=0.03191778, (0 missing)\n",
      "\n",
      "Node number 7: 8 observations\n",
      "  mean=3.893395, MSE=6.749019 \n",
      "\n",
      "Node number 12: 12 observations\n",
      "  mean=1.472742, MSE=1.937689 \n",
      "\n",
      "Node number 13: 34 observations\n",
      "  mean=2.33034, MSE=5.135405 \n",
      "\n"
     ]
    },
    {
     "data": {
      "image/png": "[encoded data removed]",
      "text/plain": [
       "plot without title"
      ]
     },
     "metadata": {},
     "output_type": "display_data"
    }
   ],
   "source": [
    "printcp(fit) # display the results\n",
    "plotcp(fit) # visualize cross-validation results\n",
    "summary(fit) # detailed summary of splits"
   ]
  },
  {
   "cell_type": "markdown",
   "id": "b118dc73",
   "metadata": {},
   "source": [
    "## Evaluation with Mean Squar Error"
   ]
  },
  {
   "cell_type": "code",
   "execution_count": 28,
   "id": "340e0c3b",
   "metadata": {},
   "outputs": [],
   "source": [
    "pred=predict(fit,test)"
   ]
  },
  {
   "cell_type": "code",
   "execution_count": 29,
   "id": "cf8adc69",
   "metadata": {},
   "outputs": [
    {
     "data": {
      "text/html": [
       "1.75074195270255"
      ],
      "text/latex": [
       "1.75074195270255"
      ],
      "text/markdown": [
       "1.75074195270255"
      ],
      "text/plain": [
       "[1] 1.750742"
      ]
     },
     "metadata": {},
     "output_type": "display_data"
    }
   ],
   "source": [
    "sqrt(mean((pred-test$Recovered)^2))"
   ]
  }
 ],
 "metadata": {
  "kernelspec": {
   "display_name": "R",
   "language": "R",
   "name": "ir"
  },
  "language_info": {
   "codemirror_mode": "r",
   "file_extension": ".r",
   "mimetype": "text/x-r-source",
   "name": "R",
   "pygments_lexer": "r",
   "version": "3.6.1"
  }
 },
 "nbformat": 4,
 "nbformat_minor": 5
}
